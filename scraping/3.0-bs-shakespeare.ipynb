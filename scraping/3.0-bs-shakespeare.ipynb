{
 "cells": [
  {
   "cell_type": "markdown",
   "metadata": {},
   "source": [
    "## Homework 3: Scraping Part One\n",
    "This homework asks you to scrape the dialogue from one act in Shakespeare, please follow the instructions and do the best you can. With the exception of the first cell that imports the request and the beautiful soup library, I have not pre-written any code for you. Do not be afraid--you may look at the tutorial for examples, as well as the Beautiful Soup documentation, and any other Python resource (such a Stack overflow) if need be. \n",
    "\n",
    "This homework is intended to be challenging, if you only get 70% of the stuff done that's great!"
   ]
  },
  {
   "cell_type": "code",
   "execution_count": 1,
   "metadata": {},
   "outputs": [],
   "source": [
    "import requests\n",
    "from bs4 import BeautifulSoup"
   ]
  },
  {
   "cell_type": "markdown",
   "metadata": {},
   "source": [
    "## Shakespeare \n",
    "I've posted some relatively simple HTML of the first act of William Shakespeare's The Tempest here: http://floatingmedia.com/columbia/tempest.html please use that URL to download the HTML and put it through Beautiful Soup. (It also may be very helpful for you to go to that page in chrome and inspect elements why you do this.) \n",
    "**Please note: there are 2 scenes in Act 1**\n",
    "\n"
   ]
  },
  {
   "cell_type": "markdown",
   "metadata": {},
   "source": [
    "In the cells below you should you make two lines--a variable that requests and reads the HTML from the URL (http://floatingmedia.com/columbia/tempest.html), and a second variable that passes the raw HTML into Beautiful Soup. You will use that beautiful soup variable to search the HTML."
   ]
  },
  {
   "cell_type": "code",
   "execution_count": 2,
   "metadata": {},
   "outputs": [],
   "source": [
    "url = \"http://floatingmedia.com/columbia/tempest.html\"\n",
    "raw_html = requests.get(url).content\n",
    "soup_doc = BeautifulSoup(raw_html, \"html.parser\")"
   ]
  },
  {
   "cell_type": "code",
   "execution_count": 3,
   "metadata": {},
   "outputs": [],
   "source": [
    "#print(soup_doc.prettify())"
   ]
  },
  {
   "cell_type": "markdown",
   "metadata": {},
   "source": [
    "Get the title of the play:\n",
    "\n"
   ]
  },
  {
   "cell_type": "code",
   "execution_count": 4,
   "metadata": {},
   "outputs": [
    {
     "data": {
      "text/plain": [
       "'The Tempest'"
      ]
     },
     "execution_count": 4,
     "metadata": {},
     "output_type": "execute_result"
    }
   ],
   "source": [
    "soup_doc.find(\"title\").string"
   ]
  },
  {
   "cell_type": "markdown",
   "metadata": {},
   "source": [
    "Get the HTML that contains the setting of Act One Scene 1:"
   ]
  },
  {
   "cell_type": "code",
   "execution_count": 5,
   "metadata": {},
   "outputs": [
    {
     "name": "stdout",
     "output_type": "stream",
     "text": [
      "<p class=\"stagedir\"><strong>\n",
      "On a ship at sea</strong></p>\n"
     ]
    }
   ],
   "source": [
    "act1scene1_setting = soup_doc.find(class_='stagedir')\n",
    "print(act1scene1_setting)"
   ]
  },
  {
   "cell_type": "markdown",
   "metadata": {},
   "source": [
    "Get the setting of Act One Scene 1 (without HTML tags):"
   ]
  },
  {
   "cell_type": "code",
   "execution_count": 6,
   "metadata": {},
   "outputs": [
    {
     "data": {
      "text/plain": [
       "'On a ship at sea'"
      ]
     },
     "execution_count": 6,
     "metadata": {},
     "output_type": "execute_result"
    }
   ],
   "source": [
    "act1scene1_setting.string.strip()"
   ]
  },
  {
   "cell_type": "markdown",
   "metadata": {},
   "source": [
    "Get the setting of scene 2"
   ]
  },
  {
   "cell_type": "code",
   "execution_count": 7,
   "metadata": {},
   "outputs": [
    {
     "name": "stdout",
     "output_type": "stream",
     "text": [
      "The island. Before PROSPERO’S cell.\n"
     ]
    }
   ],
   "source": [
    "for div in soup_doc.find_all('div'):\n",
    "    if div.find(class_='playsubhead') is not None:\n",
    "        if div.find(class_='playsubhead').string == 'Act I, Scene 2':\n",
    "            print(div.find(class_='stagedir').string)"
   ]
  },
  {
   "cell_type": "code",
   "execution_count": 8,
   "metadata": {},
   "outputs": [
    {
     "data": {
      "text/plain": [
       "'The island. Before PROSPERO’S cell.'"
      ]
     },
     "execution_count": 8,
     "metadata": {},
     "output_type": "execute_result"
    }
   ],
   "source": [
    "#Simplified version from class\n",
    "soup_doc.find_all('div')[2].strong.string"
   ]
  },
  {
   "cell_type": "markdown",
   "metadata": {},
   "source": [
    "Get the name of the first character to speak in Scene 1"
   ]
  },
  {
   "cell_type": "code",
   "execution_count": 9,
   "metadata": {},
   "outputs": [
    {
     "data": {
      "text/plain": [
       "'Master. '"
      ]
     },
     "execution_count": 9,
     "metadata": {},
     "output_type": "execute_result"
    }
   ],
   "source": [
    "soup_doc.find('ul').find('strong').string"
   ]
  },
  {
   "cell_type": "markdown",
   "metadata": {},
   "source": [
    "Get a list of all of characters in Scene 1 (repeats are fine, you need a loop here)"
   ]
  },
  {
   "cell_type": "code",
   "execution_count": 10,
   "metadata": {},
   "outputs": [
    {
     "name": "stdout",
     "output_type": "stream",
     "text": [
      "['Master', 'Boatswain', 'Master', 'Boatswain', 'Alonso', 'Boatswain', 'Antonio', 'Boatswain', 'Gonzalo', 'Boatswain', 'Gonzalo', 'Boatswain', 'Gonzalo', 'Boatswain', 'Sebastian', 'Boatswain', 'Antonio', 'Gonzalo', 'Boatswain', 'Mariners', 'Boatswain', 'Gonzalo', 'Sebastian', 'Antonio', 'Gonzalo', 'Antonio', 'Sebastian', 'Gonzalo', 'Miranda', 'Prospero', 'Miranda', 'Prospero', 'Miranda', 'Prospero', 'Miranda', 'Prospero', 'Miranda', 'Prospero', 'Miranda', 'Prospero', 'Miranda', 'Prospero', 'Miranda', 'Prospero', 'Miranda', 'Prospero', 'Miranda', 'Prospero', 'Miranda', 'Prospero', 'Miranda', 'Prospero', 'Miranda', 'Prospero', 'Miranda', 'Prospero', 'Miranda', 'Prospero', 'Miranda', 'Prospero', 'Miranda', 'Prospero', 'Miranda', 'Prospero', 'Miranda', 'Prospero', 'Miranda', 'Prospero', 'Miranda', 'Prospero', 'Ariel', 'Prospero', 'Ariel', 'Prospero', 'Ariel', 'Prospero', 'Ariel', 'Prospero', 'Ariel', 'Prospero', 'Ariel', 'Prospero', 'Ariel', 'Prospero', 'Ariel', 'Prospero', 'Ariel', 'Prospero', 'Ariel', 'Prospero', 'Ariel', 'Prospero', 'Ariel', 'Prospero', 'Ariel', 'Prospero', 'Ariel', 'Prospero', 'Ariel', 'Prospero', 'Ariel', 'Prospero', 'Ariel', 'Prospero', 'Ariel', 'Prospero', 'Ariel', 'Prospero', 'Miranda', 'Prospero', 'Miranda', 'Prospero', 'Caliban', 'Prospero', 'Ariel', 'Prospero', 'Caliban', 'Prospero', 'Caliban', 'Prospero', 'Caliban', 'Miranda', 'Caliban', 'Prospero', 'Caliban', 'Prospero', 'Ferdinand', 'Ferdinand', 'Prospero', 'Miranda', 'Prospero', 'Miranda', 'Prospero', 'Ferdinand', 'Miranda', 'Ferdinand', 'Prospero', 'Ferdinand', 'Miranda', 'Ferdinand', 'Prospero', 'Miranda', 'Ferdinand', 'Prospero', 'Ferdinand', 'Miranda', 'Prospero', 'Ferdinand', 'Miranda', 'Prospero', 'Miranda', 'Prospero', 'Miranda', 'Prospero', 'Miranda', 'Prospero', 'Ferdinand', 'Prospero', 'Miranda', 'Prospero', 'Ariel', 'Prospero']\n"
     ]
    }
   ],
   "source": [
    "characters = []\n",
    "for ul in soup_doc.find_all('ul'):\n",
    "    for strong in ul.find_all('strong'):\n",
    "        characters.append(strong.string.strip()[:-1])\n",
    "print(characters)"
   ]
  },
  {
   "cell_type": "code",
   "execution_count": 11,
   "metadata": {},
   "outputs": [],
   "source": [
    "#Also: (from class)\n",
    "html = soup_doc.find_all('ul')[1].find_all('strong')\n",
    "#then loop through html to build list of characters"
   ]
  },
  {
   "cell_type": "markdown",
   "metadata": {},
   "source": [
    "**Bonus:** write a script that takes all the duplicates out of the list. (This is a python thing, not a beautiful soup thing.)"
   ]
  },
  {
   "cell_type": "code",
   "execution_count": 12,
   "metadata": {},
   "outputs": [
    {
     "name": "stdout",
     "output_type": "stream",
     "text": [
      "['Gonzalo', 'Prospero', 'Caliban', 'Antonio', 'Miranda', 'Ferdinand', 'Alonso', 'Sebastian', 'Mariners', 'Boatswain', 'Ariel', 'Master']\n"
     ]
    }
   ],
   "source": [
    "characters_distinct = list(set(characters))\n",
    "print(characters_distinct)"
   ]
  },
  {
   "cell_type": "markdown",
   "metadata": {},
   "source": [
    "Display every stage direction in _scene 2_"
   ]
  },
  {
   "cell_type": "code",
   "execution_count": 13,
   "metadata": {},
   "outputs": [
    {
     "name": "stdout",
     "output_type": "stream",
     "text": [
      "The island. Before PROSPERO’S cell.\n",
      "[Enter PROSPERO and MIRANDA]\n",
      "[Enter ARIEL]\n",
      "[Exit]\n",
      "[Enter CALIBAN]\n",
      "[Draws, and is charmed from moving]\n",
      "[Exeunt]\n"
     ]
    }
   ],
   "source": [
    "scene2 = False\n",
    "stagedirs = []\n",
    "for div in soup_doc.find_all('div'):\n",
    "    if div.find(class_='playsubhead') is not None:\n",
    "        if div.find(class_='playsubhead').string == 'Act I, Scene 2':\n",
    "            scene2 = True\n",
    "    if scene2 == True:\n",
    "        stagedirs.append(div.find_all(class_='stagedir'))\n",
    "stagedirs = sum(stagedirs, [])\n",
    "for stagedir in stagedirs:\n",
    "    print(stagedir.string)"
   ]
  },
  {
   "cell_type": "markdown",
   "metadata": {},
   "source": [
    "Get the HTML containing Miranda's first speech in Scene 2"
   ]
  },
  {
   "cell_type": "code",
   "execution_count": 14,
   "metadata": {},
   "outputs": [
    {
     "name": "stdout",
     "output_type": "stream",
     "text": [
      "<ul><li class=\"playtext\"><strong>Miranda. </strong>If by your art, my dearest father, you have\n",
      " <span class=\"playlinenum\">85</span><br/>Put the wild waters in this roar, allay them.\n",
      "<br/>The sky, it seems, would pour down stinking pitch,\n",
      "<br/>But that the sea, mounting to the welkin's cheek,\n",
      "<br/>Dashes the fire out. O, I have suffered\n",
      "<br/>With those that I saw suffer: a brave vessel,\n",
      " <span class=\"playlinenum\">90</span><br/>Who had, no doubt, some noble creature in her,\n",
      "<br/>Dash'd all to pieces. O, the cry did knock\n",
      "<br/>Against my very heart. Poor souls, they perish'd.\n",
      "<br/>Had I been any god of power, I would\n",
      "<br/>Have sunk the sea within the earth or ere\n",
      " <span class=\"playlinenum\">95</span><br/>It should the good ship so have swallow'd and\n",
      "<br/>The fraughting souls within her.\n",
      "</li></ul>\n"
     ]
    }
   ],
   "source": [
    "miranda_speech = stagedirs[1].next_sibling.next_sibling\n",
    "print(miranda_speech)"
   ]
  },
  {
   "cell_type": "markdown",
   "metadata": {},
   "source": [
    "Now display those **same lines without the speaker's name, and no HTML.**\n",
    "\n",
    "This is a bit tricky, try to get as close to this result as you can. (Note: I didn't get the numbers out of there, but it's fine if you want to get them out too):\n",
    "\n",
    "`If by your art, my dearest father, you have\n",
    " \n",
    "85\n",
    "Put the wild waters in this roar, allay them.\n",
    "\n",
    "The sky, it seems, would pour down stinking pitch,\n",
    "\n",
    "But that the sea, mounting to the welkin's cheek,\n",
    "\n",
    "Dashes the fire out. O, I have suffered\n",
    "\n",
    "With those that I saw suffer: a brave vessel,\n",
    " \n",
    "90\n",
    "Who had, no doubt, some noble creature in her,\n",
    "\n",
    "Dash'd all to pieces. O, the cry did knock\n",
    "\n",
    "Against my very heart. Poor souls, they perish'd.\n",
    "\n",
    "Had I been any god of power, I would\n",
    "\n",
    "Have sunk the sea within the earth or ere\n",
    " \n",
    "95\n",
    "It should the good ship so have swallow'd and\n",
    "\n",
    "The fraughting souls within her.`"
   ]
  },
  {
   "cell_type": "code",
   "execution_count": 15,
   "metadata": {},
   "outputs": [
    {
     "name": "stdout",
     "output_type": "stream",
     "text": [
      "If by your art, my dearest father, you have\n",
      " 85Put the wild waters in this roar, allay them.\n",
      "The sky, it seems, would pour down stinking pitch,\n",
      "But that the sea, mounting to the welkin's cheek,\n",
      "Dashes the fire out. O, I have suffered\n",
      "With those that I saw suffer: a brave vessel,\n",
      " 90Who had, no doubt, some noble creature in her,\n",
      "Dash'd all to pieces. O, the cry did knock\n",
      "Against my very heart. Poor souls, they perish'd.\n",
      "Had I been any god of power, I would\n",
      "Have sunk the sea within the earth or ere\n",
      " 95It should the good ship so have swallow'd and\n",
      "The fraughting souls within her.\n",
      "\n"
     ]
    }
   ],
   "source": [
    "unformatted_speech = miranda_speech.get_text()\n",
    "print(unformatted_speech[9:])\n",
    "#for char in unformatted_speech[9:]:\n",
    "#    if char == \"\\\":\n",
    "        "
   ]
  },
  {
   "cell_type": "markdown",
   "metadata": {},
   "source": [
    "Get the HTML containing the speech after Miranda's"
   ]
  },
  {
   "cell_type": "code",
   "execution_count": 16,
   "metadata": {},
   "outputs": [
    {
     "data": {
      "text/plain": [
       "<ul><li class=\"playtext\"><strong>Prospero. </strong>Be collected:\n",
       "<br/>No more amazement: tell your piteous heart\n",
       "<br/>There's no harm done.\n",
       " <span class=\"playlinenum\">100</span></li></ul>"
      ]
     },
     "execution_count": 16,
     "metadata": {},
     "output_type": "execute_result"
    }
   ],
   "source": [
    "miranda_speech.next_sibling.next_sibling"
   ]
  },
  {
   "cell_type": "markdown",
   "metadata": {
    "collapsed": true
   },
   "source": [
    "All done!"
   ]
  }
 ],
 "metadata": {
  "kernelspec": {
   "display_name": "Python 3 (ipykernel)",
   "language": "python",
   "name": "python3"
  },
  "language_info": {
   "codemirror_mode": {
    "name": "ipython",
    "version": 3
   },
   "file_extension": ".py",
   "mimetype": "text/x-python",
   "name": "python",
   "nbconvert_exporter": "python",
   "pygments_lexer": "ipython3",
   "version": "3.10.0"
  }
 },
 "nbformat": 4,
 "nbformat_minor": 2
}
