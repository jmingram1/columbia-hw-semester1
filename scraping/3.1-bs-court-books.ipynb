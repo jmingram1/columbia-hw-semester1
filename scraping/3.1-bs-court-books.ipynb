{
 "cells": [
  {
   "cell_type": "markdown",
   "metadata": {},
   "source": [
    "## Homework 3 Part Two: Scraping\n",
    "This homework asks you to scrape from three different sources: The Guardian, Supreme Court Decisions and a more complicated version of Shakespeare (bonus). \n",
    "\n",
    "Again, please follow the instructions and do the best you can. Look at the tutorial for examples, my answers for Homework 3 Part One, as well as the Beautiful Soup documentation, and any other Python resource (such as Stack overflow). As you get further into this assignment a lot of the trick will be using loops properly and appending information into lists. One of the great ways to carefully use Beautiful Soup is to first use find() to find the first instance of something and search through it. And then use find_all() to get a list of results that you must then loop through and search within."
   ]
  },
  {
   "cell_type": "code",
   "execution_count": 2,
   "metadata": {},
   "outputs": [],
   "source": [
    "import requests\n",
    "from bs4 import BeautifulSoup"
   ]
  },
  {
   "cell_type": "markdown",
   "metadata": {},
   "source": [
    "## Supreme Court Decisions 2020 \n",
    "Now it's time to scrape from reality. The Supreme Court posts its decisions in a format that is not immediately data friendly. They have a simple HTML table with some information about the decision, including a link to a PDF that contains the written decision. We won't mess with those PDFs this week, but we do want to transform their tables into something useful to us. \n",
    "\n",
    "We will be scraping this page: \n",
    "https://www.supremecourt.gov/opinions/slipopinion/20\n",
    "\n",
    "*Note:* While you won't see all of the tables for all the months when you go to the page, they are all there in the HTML that you will download and in the HTML source you view (which is the same thing). Definitely do a view source, and study the structure of the HTML tables before you start coding.\n",
    "\n",
    "You eventually want to end up with a list of lists (rows and then columns) for every decision from the 2020. Follow the process, and see how far you get.\n"
   ]
  },
  {
   "cell_type": "markdown",
   "metadata": {},
   "source": [
    "Write your lines that use requests to get the page, and a second variable that passes the raw HTML into Beautiful Soup for parsing. Include a third line that prints the HTML in the prettify() way."
   ]
  },
  {
   "cell_type": "code",
   "execution_count": 3,
   "metadata": {
    "scrolled": true
   },
   "outputs": [],
   "source": [
    "raw_html = requests.get('https://www.supremecourt.gov/opinions/slipopinion/20').content\n",
    "soup = BeautifulSoup(raw_html, \"html.parser\")\n",
    "#print(soup.prettify())\n"
   ]
  },
  {
   "cell_type": "markdown",
   "metadata": {},
   "source": [
    "Isolate the HTML row with the first row of information for the case Alabama Assn. of Realtors v. Department of Health and Human Servs. (as of 11/10/21 that is the most recent case. These things can update though!)"
   ]
  },
  {
   "cell_type": "code",
   "execution_count": 4,
   "metadata": {},
   "outputs": [
    {
     "data": {
      "text/plain": [
       "<tr>\n",
       "<td style=\"text-align: center;\">68</td>\n",
       "<td style=\"text-align: center;\">8/26/21</td>\n",
       "<td style=\"text-align: center; white-space: nowrap;\">21A23</td>\n",
       "<td><a href=\"/opinions/20pdf/21a23_ap6c.pdf\" target=\"_blank\" title=\"The District Court’s judgment—which vacated as unlawful the Centers for Disease Control and Prevention’s imposition of a nationwide moratorium on evictions of any tenants who live in a county that is experiencing substantial or high levels of COVID–19 transmission and who make certain declarations of financial need, 86 Fed. Reg. 43244—is enforceable and the stay of that judgment is vacated.\">Alabama Assn. of Realtors v. Department of Health and Human Servs.</a></td>\n",
       "<td style=\"text-align: center;\"> </td>\n",
       "<td style=\"text-align: center;\">PC</td>\n",
       "<td style=\"text-align: center;\">594/2</td>\n",
       "</tr>"
      ]
     },
     "execution_count": 4,
     "metadata": {},
     "output_type": "execute_result"
    }
   ],
   "source": [
    "first_row = soup.find_all('tr')[2]\n",
    "first_row\n"
   ]
  },
  {
   "cell_type": "markdown",
   "metadata": {},
   "source": [
    "Print out each cell of information from that first row. Your output should look like this:\n",
    "\n",
    "\n",
    "```\n",
    "68\n",
    "8/26/21\n",
    "21A23\n",
    "Alabama Assn. of Realtors v. Department of Health and Human Servs.\n",
    " \n",
    "PC\n",
    "594/2\n",
    "```"
   ]
  },
  {
   "cell_type": "code",
   "execution_count": 5,
   "metadata": {},
   "outputs": [
    {
     "name": "stdout",
     "output_type": "stream",
     "text": [
      "\n",
      "68\n",
      "8/26/21\n",
      "21A23\n",
      "Alabama Assn. of Realtors v. Department of Health and Human Servs.\n",
      " \n",
      "PC\n",
      "594/2\n",
      "\n"
     ]
    }
   ],
   "source": [
    "first_row_text = first_row.get_text()\n",
    "print(first_row_text)\n"
   ]
  },
  {
   "cell_type": "markdown",
   "metadata": {},
   "source": [
    "But wait, there is more information hidden inside the tags! Really important information. Find it and print it out like this (still just for this first row):\n",
    "```\n",
    "/opinions/20pdf/21a23_ap6c.pdf \n",
    " The District Court’s judgment—which vacated as unlawful the Centers for Disease Control and Prevention’s imposition of a nationwide moratorium on evictions of any tenants who live in a county that is experiencing substantial or high levels of COVID–19 transmission and who make certain declarations of financial need, 86 Fed. Reg. 43244—is enforceable and the stay of that judgment is vacated.\n",
    " ```"
   ]
  },
  {
   "cell_type": "code",
   "execution_count": 6,
   "metadata": {},
   "outputs": [
    {
     "name": "stdout",
     "output_type": "stream",
     "text": [
      "/opinions/20pdf/21a23_ap6c.pdf\n",
      "The District Court’s judgment—which vacated as unlawful the Centers for Disease Control and Prevention’s imposition of a nationwide moratorium on evictions of any tenants who live in a county that is experiencing substantial or high levels of COVID–19 transmission and who make certain declarations of financial need, 86 Fed. Reg. 43244—is enforceable and the stay of that judgment is vacated.\n"
     ]
    }
   ],
   "source": [
    "#first_row.td(string=True)\n",
    "hidden_url = first_row.find('a')['href']\n",
    "hidden_info = first_row.find('a')['title']\n",
    "print(hidden_url)\n",
    "print(hidden_info)"
   ]
  },
  {
   "cell_type": "markdown",
   "metadata": {},
   "source": [
    "Okay, time to make this useful. Take the information you printed in the last two cells, and combine them all into a list. Output the list, it should look like this:\n",
    "```\n",
    "['68',\n",
    " '8/26/21',\n",
    " '21A23',\n",
    " 'Alabama Assn. of Realtors v. Department of Health and Human Servs.',\n",
    " '\\xa0',\n",
    " 'PC',\n",
    " '594/2',\n",
    " '/opinions/20pdf/21a23_ap6c.pdf',\n",
    " 'The District Court’s judgment—which vacated as unlawful the Centers for Disease Control and Prevention’s imposition of a nationwide moratorium on evictions of any tenants who live in a county that is experiencing substantial or high levels of COVID–19 transmission and who make certain declarations of financial need, 86 Fed. Reg. 43244—is enforceable and the stay of that judgment is vacated.']\n",
    " ```\n",
    " "
   ]
  },
  {
   "cell_type": "code",
   "execution_count": 7,
   "metadata": {},
   "outputs": [
    {
     "data": {
      "text/plain": [
       "['68',\n",
       " '8/26/21',\n",
       " '21A23',\n",
       " 'Alabama Assn. of Realtors v. Department of Health and Human Servs.',\n",
       " '\\xa0',\n",
       " 'PC',\n",
       " '594/2',\n",
       " '/opinions/20pdf/21a23_ap6c.pdf',\n",
       " 'The District Court’s judgment—which vacated as unlawful the Centers for Disease Control and Prevention’s imposition of a nationwide moratorium on evictions of any tenants who live in a county that is experiencing substantial or high levels of COVID–19 transmission and who make certain declarations of financial need, 86 Fed. Reg. 43244—is enforceable and the stay of that judgment is vacated.']"
      ]
     },
     "execution_count": 7,
     "metadata": {},
     "output_type": "execute_result"
    }
   ],
   "source": [
    "first_row_list = []\n",
    "for td in first_row.find_all('td'):\n",
    "    first_row_list.append(td.get_text())\n",
    "    \n",
    "first_row_list.append(hidden_url)\n",
    "first_row_list.append(hidden_info)\n",
    "\n",
    "first_row_list"
   ]
  },
  {
   "cell_type": "markdown",
   "metadata": {},
   "source": [
    "Now, run the exact same code, but for the first row in the third table, June 2020. The output should look like this:\n",
    "```\n",
    "['64',\n",
    " '6/29/21',\n",
    " '20-440',\n",
    " 'Minerva Surgical, Inc. v. Hologic, Inc.',\n",
    " '\\xa0',\n",
    " 'EK',\n",
    " '594/2',\n",
    " '/opinions/20pdf/20-440_9ol1.pdf',\n",
    " 'The well-grounded patent law doctrine of assignor estoppel applies only when the assignor’s claim of invalidity contradicts explicit or implicit representations the assignor made in assigning the patent.']\n",
    "```\n"
   ]
  },
  {
   "cell_type": "code",
   "execution_count": 8,
   "metadata": {},
   "outputs": [
    {
     "name": "stdout",
     "output_type": "stream",
     "text": [
      "<tr>\n",
      "<td style=\"text-align: center;\">64</td>\n",
      "<td style=\"text-align: center;\">6/29/21</td>\n",
      "<td style=\"text-align: center; white-space: nowrap;\">20-440</td>\n",
      "<td><a href=\"/opinions/20pdf/20-440_9ol1.pdf\" target=\"_blank\" title=\"The well-grounded patent law doctrine of assignor estoppel applies only when the assignor’s claim of invalidity contradicts explicit or implicit representations the assignor made in assigning the patent.\">Minerva Surgical, Inc. v. Hologic, Inc.</a></td>\n",
      "<td style=\"text-align: center;\"> </td>\n",
      "<td style=\"text-align: center;\">EK</td>\n",
      "<td style=\"text-align: center;\">594/2</td>\n",
      "</tr>\n"
     ]
    }
   ],
   "source": [
    "for div in soup.find_all('div'):\n",
    "    if div.get('id') == 'cell6':\n",
    "        june_table = div\n",
    "        june_row1 = div.find_all('tr')[1]\n",
    "print(june_row1)"
   ]
  },
  {
   "cell_type": "markdown",
   "metadata": {},
   "source": [
    "Great! Now you want to go through all of the rows in that thrid table, June (but not the header), and get a list of lists with the information for every case in that row. \n",
    "\n",
    "Note, that the code here should be similar to the code above, but you will need to loop through all of the rows in June, and collect the info for each row with a new list that will then be appended to a larger list each to time the loop finishes (before looping back to the next row)."
   ]
  },
  {
   "cell_type": "code",
   "execution_count": 9,
   "metadata": {},
   "outputs": [
    {
     "data": {
      "text/plain": [
       "[['64',\n",
       "  '6/29/21',\n",
       "  '20-440',\n",
       "  'Minerva Surgical, Inc. v. Hologic, Inc.',\n",
       "  '\\xa0',\n",
       "  'EK',\n",
       "  '594/2',\n",
       "  '/opinions/20pdf/20-440_9ol1.pdf',\n",
       "  'The well-grounded patent law doctrine of assignor estoppel applies only when the assignor’s claim of invalidity contradicts explicit or implicit representations the assignor made in assigning the patent.'],\n",
       " ['63',\n",
       "  '6/29/21',\n",
       "  '19-897',\n",
       "  'Johnson v. Guzman Chavez',\n",
       "  '\\xa0',\n",
       "  'A',\n",
       "  '594/2',\n",
       "  '/opinions/20pdf/19-897_c07d.pdf',\n",
       "  'The detention of an alien ordered removed from the United States who reenters without authorization is governed by 8 U. S. C. §1231.'],\n",
       " ['62',\n",
       "  '6/29/21',\n",
       "  '19-1039',\n",
       "  'PennEast Pipeline Co. v. New Jersey',\n",
       "  '\\xa0',\n",
       "  'R',\n",
       "  '594/2',\n",
       "  '/opinions/20pdf/19-1039_8n5a.pdf',\n",
       "  'A certificate of public convenience and necessity issued by the Federal Energy Regulatory Commission pursuant to §717f(h) of the Natural Gas Act authorizes a private company to condemn all necessary rights-of-way, whether owned by private parties or States.'],\n",
       " ['61',\n",
       "  '6/28/21',\n",
       "  '20-1212',\n",
       "  'Pakdel v. City and County of San Francisco',\n",
       "  '\\xa0',\n",
       "  'PC',\n",
       "  '594/2',\n",
       "  '/opinions/20pdf/20-1212_3204.pdf',\n",
       "  'Administrative exhaustion of state remedies is not a prerequisite for a 42 U. S. C. §1983 takings claim when the government has reached a conclusive position; the Ninth Circuit’s decision in this case directly contravenes Knick v. Township of Scott, 588 U. S. ___. '],\n",
       " ['60',\n",
       "  '6/28/21',\n",
       "  '20-391',\n",
       "  'Lombardo v. St. Louis',\n",
       "  '\\xa0',\n",
       "  'PC',\n",
       "  '594/2',\n",
       "  '/opinions/20pdf/20-391_2c83.pdf',\n",
       "  'Because it is unclear in this excessive force case whether the Eighth Circuit incorrectly thought the use of a prone restraint is per se constitutional so long as an individual appears to resist officers’ efforts to subdue him, the Eighth Circuit’s judgment is vacated, and the case is remanded to give the court the opportunity in the first instance to employ the careful, context-specific analysis required by this Court’s excessive force precedent.']]"
      ]
     },
     "execution_count": 9,
     "metadata": {},
     "output_type": "execute_result"
    }
   ],
   "source": [
    "june_table_clean = []\n",
    "for row in june_table.find_all('tr')[1:]:\n",
    "    row_list = []\n",
    "    for td in row.find_all('td'):\n",
    "        row_list.append(td.get_text())\n",
    "    row_list.append(row.find('a')['href'])\n",
    "    row_list.append(row.find('a')['title'])\n",
    "    june_table_clean.append(row_list)\n",
    "june_table_clean[:5]"
   ]
  },
  {
   "cell_type": "markdown",
   "metadata": {},
   "source": [
    "Finally, go through EVERY table, and get out every row--no headers. So you have all of the 2020 decisions from 68-1 info in highly useful list-within-list format."
   ]
  },
  {
   "cell_type": "code",
   "execution_count": 10,
   "metadata": {},
   "outputs": [
    {
     "data": {
      "text/plain": [
       "[['68',\n",
       "  '8/26/21',\n",
       "  '21A23',\n",
       "  'Alabama Assn. of Realtors v. Department of Health and Human Servs.',\n",
       "  '\\xa0',\n",
       "  'PC',\n",
       "  '594/2',\n",
       "  '/opinions/20pdf/21a23_ap6c.pdf',\n",
       "  'The District Court’s judgment—which vacated as unlawful the Centers for Disease Control and Prevention’s imposition of a nationwide moratorium on evictions of any tenants who live in a county that is experiencing substantial or high levels of COVID–19 transmission and who make certain declarations of financial need, 86 Fed. Reg. 43244—is enforceable and the stay of that judgment is vacated.'],\n",
       " ['67',\n",
       "  '7/02/21',\n",
       "  '20-1084',\n",
       "  'Dunn v. Reeves',\n",
       "  '\\xa0',\n",
       "  'PC',\n",
       "  '594/2',\n",
       "  '/opinions/20pdf/20-1084_19m1.pdf',\n",
       "  'In this federal habeas case, the Eleventh Circuit erred in characterizing the Alabama court’s case-specific analysis as a “categorical rule” that any prisoner will always lose an ineffective-assistance-of-trial-counsel claim if he fails to call and question trial counsel concerning his or her actions and reasoning; the Alabama court did not violate clearly established federal law when it rejected Reeves’ ineffective-assistance-of-trial-counsel claim.'],\n",
       " ['66',\n",
       "  '7/01/21',\n",
       "  '19-1257',\n",
       "  'Brnovich v. Democratic National Committee',\n",
       "  '7/23/21',\n",
       "  'A',\n",
       "  '594/2',\n",
       "  '/opinions/20pdf/19-1257_new_4g15.pdf',\n",
       "  'Arizona’s challenged voting regulations governing precinct-based election-day voting (rejecting ballots cast in the wrong precinct) and early mail-in voting (making it a crime for anyone other than an authorized proxy to possess the early ballot of another voter) do not violate §2 of the Voting Rights Act of 1965; Arizona House Bill 2023 (enacting the early mail-in voting regulations) was not enacted with a racially discriminatory purpose.'],\n",
       " ['65',\n",
       "  '7/01/21',\n",
       "  '19-251',\n",
       "  'Americans for Prosperity Foundation v. Bonta',\n",
       "  '\\xa0',\n",
       "  'R',\n",
       "  '594/2',\n",
       "  '/opinions/20pdf/19-251_p86b.pdf',\n",
       "  'The Ninth Circuit’s judgment, which vacated the District Court’s injunction of California’s compelled disclosure of Schedule Bs as not narrowly tailored to the State’s interest in investigating charitable misconduct, is reversed, and the cases are remanded.'],\n",
       " ['64',\n",
       "  '6/29/21',\n",
       "  '20-440',\n",
       "  'Minerva Surgical, Inc. v. Hologic, Inc.',\n",
       "  '\\xa0',\n",
       "  'EK',\n",
       "  '594/2',\n",
       "  '/opinions/20pdf/20-440_9ol1.pdf',\n",
       "  'The well-grounded patent law doctrine of assignor estoppel applies only when the assignor’s claim of invalidity contradicts explicit or implicit representations the assignor made in assigning the patent.']]"
      ]
     },
     "execution_count": 10,
     "metadata": {},
     "output_type": "execute_result"
    }
   ],
   "source": [
    "all_tables = []\n",
    "for div in soup.find_all('div'):\n",
    "    if div.get('id') is not None:\n",
    "        if div.get('id')[:4] == 'cell':\n",
    "            month_table = div\n",
    "            for row in month_table.find_all('tr')[1:]:\n",
    "                row_list = []\n",
    "                for td in row.find_all('td'):\n",
    "                    row_list.append(td.get_text())\n",
    "                row_list.append(row.find('a')['href'])\n",
    "                row_list.append(row.find('a')['title'])\n",
    "                all_tables.append(row_list)\n",
    "all_tables[:5]"
   ]
  },
  {
   "cell_type": "code",
   "execution_count": 11,
   "metadata": {},
   "outputs": [
    {
     "data": {
      "text/plain": [
       "[]"
      ]
     },
     "execution_count": 11,
     "metadata": {},
     "output_type": "execute_result"
    }
   ],
   "source": [
    "soup.find_all('id')"
   ]
  },
  {
   "cell_type": "markdown",
   "metadata": {},
   "source": [
    "## The Guardian: Best Non-Fiction Books of All Time \n",
    "I do not endorse this list. However, there are some interesting things within. You will notice that the Internet is filled with rankings, a form that is as readilty consumable as it is programmable, because code understands ranking pretty well.\n",
    "\n",
    "For this task you want to extract different elements of this list separately. You will start by extracting the information for the first entry on the list. You want to get three elements separately: RankNumber, Title_Author_Year, Blurb. And these need to be placed into a Python list with three elements. Once you've accomplished that, you want to loop through all of the entries in that list, 1-100, and make individual Python lists with those same three elements, and then put those lists into a Python list as you go..."
   ]
  },
  {
   "cell_type": "markdown",
   "metadata": {},
   "source": [
    "Step one, go to this page and take a look at what you're contending with:\n",
    "\n",
    "https://www.theguardian.com/books/2017/dec/31/the-100-best-nonfiction-books-of-all-time-the-full-list\n",
    "\n",
    "Note, some of the tags you will see on Chrome in the \"Inspect\" area and even in \"View Source\" or not the same as the HTML that's being downloaded by requests and parsed by Beautiful Soup.\n"
   ]
  },
  {
   "cell_type": "markdown",
   "metadata": {},
   "source": [
    "Step 1: In the next two cells, use requests to download the HTML, and use beautiful soup to parse it. Then print the prettify() version of that downloaded HTML, and copy and paste that output into an HTML editor to look at the tags in there. The overall structure will be the same as what you see in Chrome, but some of the \"class=\" names will be different."
   ]
  },
  {
   "cell_type": "code",
   "execution_count": 12,
   "metadata": {},
   "outputs": [],
   "source": [
    "raw_html = requests.get('https://www.theguardian.com/books/2017/dec/31/the-100-best-nonfiction-books-of-all-time-the-full-list').content\n",
    "book_soup = BeautifulSoup(raw_html, \"html.parser\")\n",
    "#print(book_soup.prettify())"
   ]
  },
  {
   "cell_type": "markdown",
   "metadata": {},
   "source": [
    "Step 2: Find the HTML that contains the first entry on the list. Your output should look like this:\n",
    "\n",
    "`<p class=\"dcr-eu20cu\"><strong>1. <a data-link-name=\"in body link\" href=\"https://www.theguardian.com/books/2016/feb/01/100-best-nonfiction-books-of-all-time-the-sixth-extinction-elizabeth-kolbert\">The Sixth Extinction by Elizabeth Kolbert (2014)</a> </strong><br/> An engrossing account of the looming catastrophe caused by ecology’s “neighbours from hell” – mankind.</p>`"
   ]
  },
  {
   "cell_type": "code",
   "execution_count": 13,
   "metadata": {},
   "outputs": [
    {
     "data": {
      "text/plain": [
       "<p class=\"dcr-eu20cu\"><strong>1. <a data-link-name=\"in body link\" href=\"https://www.theguardian.com/books/2016/feb/01/100-best-nonfiction-books-of-all-time-the-sixth-extinction-elizabeth-kolbert\">The Sixth Extinction by Elizabeth Kolbert (2014)</a> </strong><br/> An engrossing account of the looming catastrophe caused by ecology’s “neighbours from hell” – mankind.</p>"
      ]
     },
     "execution_count": 13,
     "metadata": {},
     "output_type": "execute_result"
    }
   ],
   "source": [
    "#the class attributes for the div are actually updated dynamically by the JavaScript, \n",
    "#so they are not always consistent \n",
    "#they may not even be consistent from download to download.\n",
    "book_soup.find_all('p')[2]"
   ]
  },
  {
   "cell_type": "markdown",
   "metadata": {},
   "source": [
    "Step 3: Extract the number from that entry. \n",
    "\n",
    "Result: \n",
    "\n",
    "`'1. '`\n"
   ]
  },
  {
   "cell_type": "code",
   "execution_count": 14,
   "metadata": {},
   "outputs": [
    {
     "data": {
      "text/plain": [
       "'1. '"
      ]
     },
     "execution_count": 14,
     "metadata": {},
     "output_type": "execute_result"
    }
   ],
   "source": [
    "rank = book_soup.find_all('p')[2].get_text()[:3]\n",
    "rank"
   ]
  },
  {
   "cell_type": "markdown",
   "metadata": {},
   "source": [
    "Step 4: extract the title_author_year. \n",
    "\n",
    "Result:\n",
    "`'The Sixth Extinction by Elizabeth Kolbert (2014)'`\n",
    "        "
   ]
  },
  {
   "cell_type": "code",
   "execution_count": 15,
   "metadata": {},
   "outputs": [
    {
     "data": {
      "text/plain": [
       "'The Sixth Extinction by Elizabeth Kolbert (2014)'"
      ]
     },
     "execution_count": 15,
     "metadata": {},
     "output_type": "execute_result"
    }
   ],
   "source": [
    "book_title = book_soup.find_all('p')[2].strong.get_text()[3:].strip()\n",
    "book_title"
   ]
  },
  {
   "cell_type": "markdown",
   "metadata": {},
   "source": [
    "Step 5: Extract the blurb.\n",
    "\n",
    "Result:\n",
    "\n",
    "`' An engrossing account of the looming catastrophe caused by ecology’s “neighbours from hell” – mankind.'`\n",
    "\n"
   ]
  },
  {
   "cell_type": "code",
   "execution_count": 16,
   "metadata": {},
   "outputs": [
    {
     "data": {
      "text/plain": [
       "' An engrossing account of the looming catastrophe caused by ecology’s “neighbours from hell” – mankind.'"
      ]
     },
     "execution_count": 16,
     "metadata": {},
     "output_type": "execute_result"
    }
   ],
   "source": [
    "book_description = book_soup.find_all('p')[2].br.next\n",
    "book_description"
   ]
  },
  {
   "cell_type": "code",
   "execution_count": 17,
   "metadata": {},
   "outputs": [],
   "source": [
    "#book_soup.find_all('p')[2].get_text()[len(book_title)+5:]"
   ]
  },
  {
   "cell_type": "markdown",
   "metadata": {},
   "source": [
    "Step 6: Take those three elements you extracted, and put them into a Python list. If you had success in the three steps above, you don't need to use beautiful soup to do this, you just need to take those individual elements that you extracted and place them inside a list.\n",
    "\n",
    "Result: \n",
    "\n",
    "`['1. ',\n",
    " 'The Sixth Extinction by Elizabeth Kolbert (2014)',\n",
    " ' An engrossing account of the looming catastrophe caused by ecology’s “neighbours from hell” – mankind.']`"
   ]
  },
  {
   "cell_type": "code",
   "execution_count": 18,
   "metadata": {},
   "outputs": [
    {
     "data": {
      "text/plain": [
       "['1. ',\n",
       " 'The Sixth Extinction by Elizabeth Kolbert (2014)',\n",
       " ' An engrossing account of the looming catastrophe caused by ecology’s “neighbours from hell” – mankind.']"
      ]
     },
     "execution_count": 18,
     "metadata": {},
     "output_type": "execute_result"
    }
   ],
   "source": [
    "top_book = [rank, book_title, book_description]\n",
    "top_book\n"
   ]
  },
  {
   "cell_type": "markdown",
   "metadata": {},
   "source": [
    "Step 7: This is more a leap than a step! Take all of the methods you used to isolate that one entry, and apply it to every entry. So that you are creating the same list you see above, over and over for each entry, and place each those into a master list-of-lists.\n",
    "\n",
    "(Hints:\n",
    "1) You will need to use some version of find_all() to get all of the entries.\n",
    "\n",
    "2) You will need a loop to iterate through all of those entries.\n",
    "\n",
    "3) For each entry you will need to extract each of the three elements (number, title_author_year,description) in the exact same way you did with the first entry.\n",
    "\n",
    "4) It may help to use print() inside your loop to make sure you're getting everything out correctly.\n",
    "\n",
    "5) Once you're sure you're getting everything out correctly, you will need to make a Python list that will capture each list that is being built within the loop.\n",
    "\n",
    "6) It may be helpful to include an **is not None** if statement in this loop as there are some variations and even mistakes in the HTML \n",
    "\n",
    ")\n",
    "\n",
    "Your desired output is in the cell below.\n",
    "\n"
   ]
  },
  {
   "cell_type": "code",
   "execution_count": 19,
   "metadata": {},
   "outputs": [],
   "source": [
    "books = []\n",
    "for p in book_soup.find_all('p')[2:]:\n",
    "    rank = p.get_text()[:3]\n",
    "    if p.strong is not None:\n",
    "        book_title = p.strong.get_text()[3:].strip()\n",
    "        if p.br is None:\n",
    "            book_description = p.strong.next\n",
    "        else: book_description = p.br.next\n",
    "        book = [rank, book_title, book_description]\n",
    "        books.append(book)"
   ]
  },
  {
   "cell_type": "code",
   "execution_count": 20,
   "metadata": {},
   "outputs": [
    {
     "data": {
      "text/plain": [
       "[['1. ',\n",
       "  'The Sixth Extinction by Elizabeth Kolbert (2014)',\n",
       "  ' An engrossing account of the looming catastrophe caused by ecology’s “neighbours from hell” – mankind.'],\n",
       " ['2. ',\n",
       "  'The Year of Magical Thinking by Joan Didion (2005)',\n",
       "  'This steely and devastating examination of the author’s grief following the sudden death of her husband changed the nature of writing about bereavement. '],\n",
       " ['3. ',\n",
       "  'No Logo by Naomi Klein (1999)',\n",
       "  ' Naomi Klein’s timely anti-branding bible combined a fresh approach to corporate hegemony with potent reportage from the dark side of capitalism. '],\n",
       " ['4. ',\n",
       "  'Birthday Letters by Ted Hughes (1998)',\n",
       "  ' These passionate, audacious poems addressed to Hughes’s late wife, Sylvia Plath, contribute to the couple’s mythology and are a landmark in English poetry. '],\n",
       " ['5. ',\n",
       "  'Dreams from My Father by Barack Obama (1995)',\n",
       "  ' This remarkably candid memoir revealed not only a literary talent, but a force that would change the face of US politics for ever. ']]"
      ]
     },
     "execution_count": 20,
     "metadata": {},
     "output_type": "execute_result"
    }
   ],
   "source": [
    "books[:5]"
   ]
  },
  {
   "cell_type": "markdown",
   "metadata": {},
   "source": [
    "Final Result: `\n",
    "[['1. ',\n",
    "  'The Sixth Extinction by Elizabeth Kolbert (2014)',\n",
    "  ' An engrossing account of the looming catastrophe caused by ecology’s “neighbours from hell” – mankind.'],\n",
    " ['2. ',\n",
    "  'The Year of Magical Thinking by Joan Didion (2005)',\n",
    "  'This steely and devastating examination of the author’s grief following the sudden death of her husband changed the nature of writing about bereavement. '],\n",
    " ['3. ',\n",
    "  'No Logo by Naomi Klein (1999)',\n",
    "  ' Naomi Klein’s timely anti-branding bible combined a fresh approach to corporate hegemony with potent reportage from the dark side of capitalism. '],\n",
    " ['4. ',\n",
    "  'Birthday Letters by Ted Hughes (1998)',\n",
    "  ' These passionate, audacious poems addressed to Hughes’s late wife, Sylvia Plath, contribute to the couple’s mythology and are a landmark in English poetry. '],\n",
    " ['5. ',\n",
    "  'Dreams from My Father by Barack Obama (1995)',\n",
    "  ' This remarkably candid memoir revealed not only a literary talent, but a force that would change the face of US politics for ever. '],\n",
    " ['6. ',\n",
    "  'A Brief History of Time by Stephen Hawking (1988)',\n",
    "  ' The theoretical physicist’s mega-selling account of the origins of the universe is a masterpiece of scientific inquiry that has influenced the minds of a generation. '],\n",
    "`\n",
    "and so on until:\n",
    "`['98. ',\n",
    "  'The Anatomy of Melancholy by Robert Burton (1621)',\n",
    "  'Burton’s garrulous, repetitive masterpiece is a compendious study of melancholia, a sublime literary doorstop that explores humanity in all its aspects.'],\n",
    " ['99. ',\n",
    "  'The History of the World by Walter Raleigh (1614)',\n",
    "  'Raleigh’s most important prose work, close to 1m words in total, used ancient history as a sly commentary on present-day issues.'],\n",
    " ['100. ',\n",
    "  'King James Bible: The Authorised Version (1611)',\n",
    "  'It is impossible to imagine the English-speaking world celebrated in this series without the King James Bible, which is as universal and influential as Shakespeare.']]`\n",
    " \n",
    "I didn't want to print all 100 elements of this list here. But notice that this list begins with `[[` and ends with `]]` That is because this is a list of lists. Note the commas between each entry, `],[` that means that each list for each book is an element in the list-of-lists. "
   ]
  }
 ],
 "metadata": {
  "kernelspec": {
   "display_name": "Python 3 (ipykernel)",
   "language": "python",
   "name": "python3"
  },
  "language_info": {
   "codemirror_mode": {
    "name": "ipython",
    "version": 3
   },
   "file_extension": ".py",
   "mimetype": "text/x-python",
   "name": "python",
   "nbconvert_exporter": "python",
   "pygments_lexer": "ipython3",
   "version": "3.10.0"
  }
 },
 "nbformat": 4,
 "nbformat_minor": 2
}
