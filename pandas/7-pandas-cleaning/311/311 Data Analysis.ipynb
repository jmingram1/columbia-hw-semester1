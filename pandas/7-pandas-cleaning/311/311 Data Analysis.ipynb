{
 "cells": [
  {
   "cell_type": "markdown",
   "id": "9d38926d",
   "metadata": {},
   "source": [
    "### Do your imports!"
   ]
  },
  {
   "cell_type": "code",
   "execution_count": 175,
   "id": "055005cf",
   "metadata": {},
   "outputs": [],
   "source": [
    "import pandas as pd\n",
    "pd.set_option('display.max_columns', None)\n",
    "pd.set_option('display.max_colwidth', None)"
   ]
  },
  {
   "cell_type": "markdown",
   "id": "0ad89e50",
   "metadata": {},
   "source": [
    "# 311 data analysis\n",
    "\n",
    "## Read in `subset.csv` and review the first few rows\n",
    "\n",
    "Even though it's a giant file – gigs and gigs! – it's a subset of the [entire dataset](https://data.cityofnewyork.us/Social-Services/311-Service-Requests-from-2010-to-Present/erm2-nwe9). It covers plenty of years, but not all of the columns.\n",
    "\n",
    "If your computer is struggling (which it will!) or you are impatient, feel free to use `nrows=` when reading it in to speed up the process by only reading in a subset of columns. Pull in at least a few million, or a couple years back."
   ]
  },
  {
   "cell_type": "code",
   "execution_count": 371,
   "id": "95ab0b53",
   "metadata": {
    "scrolled": true
   },
   "outputs": [],
   "source": [
    "df = pd.read_csv('subset.csv', nrows=4000000, low_memory=False, parse_dates=['Created Date', 'Closed Date'])"
   ]
  },
  {
   "cell_type": "code",
   "execution_count": 372,
   "id": "8f03b4af",
   "metadata": {
    "scrolled": true
   },
   "outputs": [
    {
     "data": {
      "text/html": [
       "<div>\n",
       "<style scoped>\n",
       "    .dataframe tbody tr th:only-of-type {\n",
       "        vertical-align: middle;\n",
       "    }\n",
       "\n",
       "    .dataframe tbody tr th {\n",
       "        vertical-align: top;\n",
       "    }\n",
       "\n",
       "    .dataframe thead th {\n",
       "        text-align: right;\n",
       "    }\n",
       "</style>\n",
       "<table border=\"1\" class=\"dataframe\">\n",
       "  <thead>\n",
       "    <tr style=\"text-align: right;\">\n",
       "      <th></th>\n",
       "      <th>Unique Key</th>\n",
       "      <th>Created Date</th>\n",
       "      <th>Closed Date</th>\n",
       "      <th>Agency</th>\n",
       "      <th>Agency Name</th>\n",
       "      <th>Complaint Type</th>\n",
       "      <th>Descriptor</th>\n",
       "      <th>Location Type</th>\n",
       "      <th>Incident Zip</th>\n",
       "      <th>Incident Address</th>\n",
       "      <th>Address Type</th>\n",
       "      <th>City</th>\n",
       "      <th>Status</th>\n",
       "      <th>Borough</th>\n",
       "      <th>Open Data Channel Type</th>\n",
       "    </tr>\n",
       "  </thead>\n",
       "  <tbody>\n",
       "    <tr>\n",
       "      <th>3996346</th>\n",
       "      <td>51446513</td>\n",
       "      <td>2021-08-06 09:35:00</td>\n",
       "      <td>2021-08-07 05:06:59</td>\n",
       "      <td>DOHMH</td>\n",
       "      <td>Department of Health and Mental Hygiene</td>\n",
       "      <td>Rodent</td>\n",
       "      <td>Rat Sighting</td>\n",
       "      <td>1-2 Family Dwelling</td>\n",
       "      <td>11216</td>\n",
       "      <td>663 DEKALB AVENUE</td>\n",
       "      <td>ADDRESS</td>\n",
       "      <td>BROOKLYN</td>\n",
       "      <td>Closed</td>\n",
       "      <td>BROOKLYN</td>\n",
       "      <td>PHONE</td>\n",
       "    </tr>\n",
       "    <tr>\n",
       "      <th>3997294</th>\n",
       "      <td>51446553</td>\n",
       "      <td>2021-08-06 08:20:00</td>\n",
       "      <td>2021-08-06 12:00:00</td>\n",
       "      <td>DSNY</td>\n",
       "      <td>Department of Sanitation</td>\n",
       "      <td>Missed Collection (All Materials)</td>\n",
       "      <td>1 Missed Collection</td>\n",
       "      <td>Sidewalk</td>\n",
       "      <td>11210</td>\n",
       "      <td>1375 EAST   29 STREET</td>\n",
       "      <td>ADDRESS</td>\n",
       "      <td>BROOKLYN</td>\n",
       "      <td>Closed</td>\n",
       "      <td>BROOKLYN</td>\n",
       "      <td>ONLINE</td>\n",
       "    </tr>\n",
       "    <tr>\n",
       "      <th>3919357</th>\n",
       "      <td>51437914</td>\n",
       "      <td>2021-08-06 00:16:52</td>\n",
       "      <td>2021-08-06 06:29:49</td>\n",
       "      <td>DOHMH</td>\n",
       "      <td>Department of Health and Mental Hygiene</td>\n",
       "      <td>Rodent</td>\n",
       "      <td>Rat Sighting</td>\n",
       "      <td>Other (Explain Below)</td>\n",
       "      <td>10014</td>\n",
       "      <td>4 8 AVENUE</td>\n",
       "      <td>ADDRESS</td>\n",
       "      <td>NEW YORK</td>\n",
       "      <td>Closed</td>\n",
       "      <td>MANHATTAN</td>\n",
       "      <td>PHONE</td>\n",
       "    </tr>\n",
       "    <tr>\n",
       "      <th>3919351</th>\n",
       "      <td>51437913</td>\n",
       "      <td>2021-08-05 22:41:46</td>\n",
       "      <td>2021-08-06 12:25:13</td>\n",
       "      <td>DOHMH</td>\n",
       "      <td>Department of Health and Mental Hygiene</td>\n",
       "      <td>Rodent</td>\n",
       "      <td>Rat Sighting</td>\n",
       "      <td>3+ Family Apt. Building</td>\n",
       "      <td>10460</td>\n",
       "      <td>1968 MARMION AVENUE</td>\n",
       "      <td>ADDRESS</td>\n",
       "      <td>BRONX</td>\n",
       "      <td>Closed</td>\n",
       "      <td>BRONX</td>\n",
       "      <td>PHONE</td>\n",
       "    </tr>\n",
       "    <tr>\n",
       "      <th>3865191</th>\n",
       "      <td>51436469</td>\n",
       "      <td>2021-08-05 21:04:43</td>\n",
       "      <td>2021-08-06 12:26:27</td>\n",
       "      <td>DOHMH</td>\n",
       "      <td>Department of Health and Mental Hygiene</td>\n",
       "      <td>Rodent</td>\n",
       "      <td>Rat Sighting</td>\n",
       "      <td>3+ Family Apt. Building</td>\n",
       "      <td>10451</td>\n",
       "      <td>751 WALTON AVENUE</td>\n",
       "      <td>ADDRESS</td>\n",
       "      <td>BRONX</td>\n",
       "      <td>Closed</td>\n",
       "      <td>BRONX</td>\n",
       "      <td>PHONE</td>\n",
       "    </tr>\n",
       "    <tr>\n",
       "      <th>...</th>\n",
       "      <td>...</td>\n",
       "      <td>...</td>\n",
       "      <td>...</td>\n",
       "      <td>...</td>\n",
       "      <td>...</td>\n",
       "      <td>...</td>\n",
       "      <td>...</td>\n",
       "      <td>...</td>\n",
       "      <td>...</td>\n",
       "      <td>...</td>\n",
       "      <td>...</td>\n",
       "      <td>...</td>\n",
       "      <td>...</td>\n",
       "      <td>...</td>\n",
       "      <td>...</td>\n",
       "    </tr>\n",
       "    <tr>\n",
       "      <th>1322516</th>\n",
       "      <td>15635338</td>\n",
       "      <td>2010-01-01 00:00:00</td>\n",
       "      <td>2010-02-04 00:00:00</td>\n",
       "      <td>HPD</td>\n",
       "      <td>Department of Housing Preservation and Development</td>\n",
       "      <td>ELECTRIC</td>\n",
       "      <td>LIGHTING</td>\n",
       "      <td>RESIDENTIAL BUILDING</td>\n",
       "      <td>10019</td>\n",
       "      <td>427 WEST 51 STREET</td>\n",
       "      <td>ADDRESS</td>\n",
       "      <td>NEW YORK</td>\n",
       "      <td>Closed</td>\n",
       "      <td>Unspecified</td>\n",
       "      <td>UNKNOWN</td>\n",
       "    </tr>\n",
       "    <tr>\n",
       "      <th>1322515</th>\n",
       "      <td>15634915</td>\n",
       "      <td>2010-01-01 00:00:00</td>\n",
       "      <td>2010-01-28 00:00:00</td>\n",
       "      <td>HPD</td>\n",
       "      <td>Department of Housing Preservation and Development</td>\n",
       "      <td>PLUMBING</td>\n",
       "      <td>BASIN/SINK</td>\n",
       "      <td>RESIDENTIAL BUILDING</td>\n",
       "      <td>11214</td>\n",
       "      <td>2076 CROPSEY AVENUE</td>\n",
       "      <td>ADDRESS</td>\n",
       "      <td>BROOKLYN</td>\n",
       "      <td>Closed</td>\n",
       "      <td>Unspecified</td>\n",
       "      <td>UNKNOWN</td>\n",
       "    </tr>\n",
       "    <tr>\n",
       "      <th>1322514</th>\n",
       "      <td>15634766</td>\n",
       "      <td>2010-01-01 00:00:00</td>\n",
       "      <td>2010-01-06 00:00:00</td>\n",
       "      <td>HPD</td>\n",
       "      <td>Department of Housing Preservation and Development</td>\n",
       "      <td>HEATING</td>\n",
       "      <td>HEAT</td>\n",
       "      <td>RESIDENTIAL BUILDING</td>\n",
       "      <td>10469</td>\n",
       "      <td>1284 ARNOW AVENUE</td>\n",
       "      <td>ADDRESS</td>\n",
       "      <td>BRONX</td>\n",
       "      <td>Closed</td>\n",
       "      <td>Unspecified</td>\n",
       "      <td>UNKNOWN</td>\n",
       "    </tr>\n",
       "    <tr>\n",
       "      <th>1322513</th>\n",
       "      <td>15634965</td>\n",
       "      <td>2010-01-01 00:00:00</td>\n",
       "      <td>2010-01-06 00:00:00</td>\n",
       "      <td>HPD</td>\n",
       "      <td>Department of Housing Preservation and Development</td>\n",
       "      <td>HEATING</td>\n",
       "      <td>HEAT</td>\n",
       "      <td>RESIDENTIAL BUILDING</td>\n",
       "      <td>10459</td>\n",
       "      <td>919 PROSPECT AVENUE</td>\n",
       "      <td>ADDRESS</td>\n",
       "      <td>BRONX</td>\n",
       "      <td>Closed</td>\n",
       "      <td>Unspecified</td>\n",
       "      <td>UNKNOWN</td>\n",
       "    </tr>\n",
       "    <tr>\n",
       "      <th>1321214</th>\n",
       "      <td>15634751</td>\n",
       "      <td>2010-01-01 00:00:00</td>\n",
       "      <td>2010-01-11 00:00:00</td>\n",
       "      <td>HPD</td>\n",
       "      <td>Department of Housing Preservation and Development</td>\n",
       "      <td>HEATING</td>\n",
       "      <td>HEAT</td>\n",
       "      <td>RESIDENTIAL BUILDING</td>\n",
       "      <td>11230</td>\n",
       "      <td>1632 OCEAN AVENUE</td>\n",
       "      <td>ADDRESS</td>\n",
       "      <td>BROOKLYN</td>\n",
       "      <td>Closed</td>\n",
       "      <td>Unspecified</td>\n",
       "      <td>UNKNOWN</td>\n",
       "    </tr>\n",
       "  </tbody>\n",
       "</table>\n",
       "<p>4000000 rows × 15 columns</p>\n",
       "</div>"
      ],
      "text/plain": [
       "         Unique Key        Created Date         Closed Date Agency  \\\n",
       "3996346    51446513 2021-08-06 09:35:00 2021-08-07 05:06:59  DOHMH   \n",
       "3997294    51446553 2021-08-06 08:20:00 2021-08-06 12:00:00   DSNY   \n",
       "3919357    51437914 2021-08-06 00:16:52 2021-08-06 06:29:49  DOHMH   \n",
       "3919351    51437913 2021-08-05 22:41:46 2021-08-06 12:25:13  DOHMH   \n",
       "3865191    51436469 2021-08-05 21:04:43 2021-08-06 12:26:27  DOHMH   \n",
       "...             ...                 ...                 ...    ...   \n",
       "1322516    15635338 2010-01-01 00:00:00 2010-02-04 00:00:00    HPD   \n",
       "1322515    15634915 2010-01-01 00:00:00 2010-01-28 00:00:00    HPD   \n",
       "1322514    15634766 2010-01-01 00:00:00 2010-01-06 00:00:00    HPD   \n",
       "1322513    15634965 2010-01-01 00:00:00 2010-01-06 00:00:00    HPD   \n",
       "1321214    15634751 2010-01-01 00:00:00 2010-01-11 00:00:00    HPD   \n",
       "\n",
       "                                                Agency Name  \\\n",
       "3996346             Department of Health and Mental Hygiene   \n",
       "3997294                            Department of Sanitation   \n",
       "3919357             Department of Health and Mental Hygiene   \n",
       "3919351             Department of Health and Mental Hygiene   \n",
       "3865191             Department of Health and Mental Hygiene   \n",
       "...                                                     ...   \n",
       "1322516  Department of Housing Preservation and Development   \n",
       "1322515  Department of Housing Preservation and Development   \n",
       "1322514  Department of Housing Preservation and Development   \n",
       "1322513  Department of Housing Preservation and Development   \n",
       "1321214  Department of Housing Preservation and Development   \n",
       "\n",
       "                            Complaint Type           Descriptor  \\\n",
       "3996346                             Rodent         Rat Sighting   \n",
       "3997294  Missed Collection (All Materials)  1 Missed Collection   \n",
       "3919357                             Rodent         Rat Sighting   \n",
       "3919351                             Rodent         Rat Sighting   \n",
       "3865191                             Rodent         Rat Sighting   \n",
       "...                                    ...                  ...   \n",
       "1322516                           ELECTRIC             LIGHTING   \n",
       "1322515                           PLUMBING           BASIN/SINK   \n",
       "1322514                            HEATING                 HEAT   \n",
       "1322513                            HEATING                 HEAT   \n",
       "1321214                            HEATING                 HEAT   \n",
       "\n",
       "                   Location Type Incident Zip       Incident Address  \\\n",
       "3996346      1-2 Family Dwelling        11216      663 DEKALB AVENUE   \n",
       "3997294                 Sidewalk        11210  1375 EAST   29 STREET   \n",
       "3919357    Other (Explain Below)        10014             4 8 AVENUE   \n",
       "3919351  3+ Family Apt. Building        10460    1968 MARMION AVENUE   \n",
       "3865191  3+ Family Apt. Building        10451      751 WALTON AVENUE   \n",
       "...                          ...          ...                    ...   \n",
       "1322516     RESIDENTIAL BUILDING        10019     427 WEST 51 STREET   \n",
       "1322515     RESIDENTIAL BUILDING        11214    2076 CROPSEY AVENUE   \n",
       "1322514     RESIDENTIAL BUILDING        10469      1284 ARNOW AVENUE   \n",
       "1322513     RESIDENTIAL BUILDING        10459    919 PROSPECT AVENUE   \n",
       "1321214     RESIDENTIAL BUILDING        11230      1632 OCEAN AVENUE   \n",
       "\n",
       "        Address Type      City  Status      Borough Open Data Channel Type  \n",
       "3996346      ADDRESS  BROOKLYN  Closed     BROOKLYN                  PHONE  \n",
       "3997294      ADDRESS  BROOKLYN  Closed     BROOKLYN                 ONLINE  \n",
       "3919357      ADDRESS  NEW YORK  Closed    MANHATTAN                  PHONE  \n",
       "3919351      ADDRESS     BRONX  Closed        BRONX                  PHONE  \n",
       "3865191      ADDRESS     BRONX  Closed        BRONX                  PHONE  \n",
       "...              ...       ...     ...          ...                    ...  \n",
       "1322516      ADDRESS  NEW YORK  Closed  Unspecified                UNKNOWN  \n",
       "1322515      ADDRESS  BROOKLYN  Closed  Unspecified                UNKNOWN  \n",
       "1322514      ADDRESS     BRONX  Closed  Unspecified                UNKNOWN  \n",
       "1322513      ADDRESS     BRONX  Closed  Unspecified                UNKNOWN  \n",
       "1321214      ADDRESS  BROOKLYN  Closed  Unspecified                UNKNOWN  \n",
       "\n",
       "[4000000 rows x 15 columns]"
      ]
     },
     "execution_count": 372,
     "metadata": {},
     "output_type": "execute_result"
    }
   ],
   "source": [
    "df.sort_values('Created Date', ascending=False)"
   ]
  },
  {
   "cell_type": "markdown",
   "id": "e870bd49",
   "metadata": {},
   "source": [
    "### Where the subset came from\n",
    "\n",
    "If you're curious, I took the [original data](https://data.cityofnewyork.us/Social-Services/311-Service-Requests-from-2010-to-Present/erm2-nwe9/data) and clipped out a subset by using the command-line tool [csvkit](https://csvkit.readthedocs.io/en/latest/).\n",
    "\n",
    "First I inspected the column headers:\n",
    "\n",
    "```bash\n",
    "$ csvcut -n 311_Service_Requests_from_2010_to_Present.csv \n",
    "```\n",
    "\n",
    "Then I selected the columns I was interested in and saved it to a file.\n",
    "\n",
    "```bash\n",
    "$ csvcut -c 1,2,3,4,5,6,7,8,9,10,16,17,20,26,29 311_Service_Requests_from_2010_to_Present.csv > subset.csv\n",
    "```\n",
    "\n",
    "This was much much much much faster than doing it in Python."
   ]
  },
  {
   "cell_type": "markdown",
   "id": "5584582a",
   "metadata": {},
   "source": [
    "## We want more columns!\n",
    "\n",
    "**Right now we don't see all of the columns.** For example, mine has `...` between the **Incident Address** column and the **City** column. Go up to the top where you imported pandas, and add a `pd.set_option` line that will allow you to view all of the columns of the dataset."
   ]
  },
  {
   "cell_type": "markdown",
   "id": "a63e2407",
   "metadata": {},
   "source": [
    "## We hate those column names!\n",
    "\n",
    "Change the column names to be tab- and period-friendly, like `df.created_date` instead of `df['Created Date']`"
   ]
  },
  {
   "cell_type": "code",
   "execution_count": 373,
   "id": "e7a06ffa",
   "metadata": {},
   "outputs": [
    {
     "data": {
      "text/plain": [
       "unique_key                         int64\n",
       "created_date              datetime64[ns]\n",
       "closed_date               datetime64[ns]\n",
       "agency                            object\n",
       "agency_name                       object\n",
       "complaint_type                    object\n",
       "descriptor                        object\n",
       "location_type                     object\n",
       "incident_zip                      object\n",
       "incident_address                  object\n",
       "address_type                      object\n",
       "city                              object\n",
       "status                            object\n",
       "borough                           object\n",
       "open_data_channel_type            object\n",
       "dtype: object"
      ]
     },
     "execution_count": 373,
     "metadata": {},
     "output_type": "execute_result"
    }
   ],
   "source": [
    "df.columns = df.columns.str.lower().str.replace(\" \", \"_\")\n",
    "df.dtypes"
   ]
  },
  {
   "cell_type": "markdown",
   "id": "36ff2fc2",
   "metadata": {},
   "source": [
    "# Dates and times\n",
    "\n",
    "## Are the datetimes actually datetimes?\n",
    "\n",
    "We're going to be doing some datetime-y things, so let's see if the columns that look like dates are actually dates."
   ]
  },
  {
   "cell_type": "code",
   "execution_count": 374,
   "id": "b6637b48",
   "metadata": {},
   "outputs": [],
   "source": [
    "#no they're not!"
   ]
  },
  {
   "cell_type": "markdown",
   "id": "d5338fad",
   "metadata": {},
   "source": [
    "## In they aren't datetimes, convert them\n",
    "\n",
    "The ones we're interested in are as follows:\n",
    "\n",
    "* Created Date\n",
    "* Closed Date\n",
    "\n",
    "You have two options to convert them:\n",
    "\n",
    "1. Do it like we did in class, but **overwrite the existing string columns with the new datetime versions**\n",
    "2. Find an option with `read_csv` to automatically read certain columns as dates! Use the shift+tab trick to read the `read_csv` docs to uncover it. Once you find it, you'll set it to be the **list of date-y columns**.\n",
    "\n",
    "They're both going to take forever if you do them wrong, but can be faster with a few tricks. For example, using `pd.to_datetime` can be sped up significantly be specifying the format of the datestring.\n",
    "\n",
    "For example, if your datetime was formatted as `YYYY-MM-DD HH:MM:SS AM`, you could use the following:\n",
    "\n",
    "```\n",
    "df.my_datetime = pd.to_datetime(df.my_datetime, format=\"%Y-%m-%d %I:%M:%S %p\")\n",
    "```\n",
    "\n",
    "It's unfortunately much much much faster than the `read_csv` technique. And yes, [that's `%I` and not `%H`](https://strftime.org/).\n",
    "\n",
    "> *Tip: What should happen if it encounters an error or missing data?*"
   ]
  },
  {
   "cell_type": "code",
   "execution_count": 375,
   "id": "91739685",
   "metadata": {},
   "outputs": [],
   "source": [
    "#see read_csv row"
   ]
  },
  {
   "cell_type": "markdown",
   "id": "61949b07",
   "metadata": {},
   "source": [
    "## According to the dataset, which month of the year has the most 311 calls?\n",
    "\n",
    "The kind of answer we're looking for is \"January,\" not \"January 2021\""
   ]
  },
  {
   "cell_type": "code",
   "execution_count": 376,
   "id": "38149da1",
   "metadata": {},
   "outputs": [],
   "source": [
    "# there are two big techniques for date stuff: .dt or .resample\n",
    "# if you use one of those, explain why you picked that one and not the other"
   ]
  },
  {
   "cell_type": "code",
   "execution_count": 377,
   "id": "222f230e",
   "metadata": {},
   "outputs": [
    {
     "data": {
      "text/plain": [
       "March    442311\n",
       "Name: created_date, dtype: int64"
      ]
     },
     "execution_count": 377,
     "metadata": {},
     "output_type": "execute_result"
    }
   ],
   "source": [
    "df.created_date.dt.month_name().value_counts().nlargest(1)"
   ]
  },
  {
   "cell_type": "code",
   "execution_count": 378,
   "id": "9e6bede6",
   "metadata": {},
   "outputs": [],
   "source": [
    "#dt because we're grouping months across the entire dataset rather than individually"
   ]
  },
  {
   "cell_type": "markdown",
   "id": "4c03fb54",
   "metadata": {},
   "source": [
    "## According to the dataset, which month has had the most 311 calls?\n",
    "\n",
    "The kind of answer we're looking for is \"January 2021,\" not \"January\" (although _techniucally_ it will say `2021-01-31`, not `January 2021`)"
   ]
  },
  {
   "cell_type": "code",
   "execution_count": 379,
   "id": "12d75e39",
   "metadata": {},
   "outputs": [],
   "source": [
    "# there are two big techniques for date stuff: .dt or .resample\n",
    "# if you use one of those, explain why you picked that one and not the other"
   ]
  },
  {
   "cell_type": "code",
   "execution_count": 380,
   "id": "1e39c70d",
   "metadata": {
    "scrolled": true
   },
   "outputs": [
    {
     "data": {
      "text/plain": [
       "created_date\n",
       "2019-05-31    213295\n",
       "dtype: int64"
      ]
     },
     "execution_count": 380,
     "metadata": {},
     "output_type": "execute_result"
    }
   ],
   "source": [
    "df.resample('M', on='created_date').size().sort_values(ascending=False).nlargest(1)"
   ]
  },
  {
   "cell_type": "code",
   "execution_count": 381,
   "id": "f10337ae",
   "metadata": {},
   "outputs": [],
   "source": [
    "#resample because we're looking month by month, including the year"
   ]
  },
  {
   "cell_type": "markdown",
   "id": "0113e7e7",
   "metadata": {},
   "source": [
    "## Plot the 311 call frequency over our dataset on a _weekly_ basis\n",
    "\n",
    "To make your y axis start at zero, use `ylim=(0,100000)` when doing `.plot`. But replace the `1000` with a large enough value to actually see your data nicely!"
   ]
  },
  {
   "cell_type": "code",
   "execution_count": 382,
   "id": "691e80cf",
   "metadata": {},
   "outputs": [],
   "source": [
    "# there are two big techniques for date stuff: .dt or .resample\n",
    "# if you use one of those, explain why you picked that one and not the other"
   ]
  },
  {
   "cell_type": "code",
   "execution_count": 383,
   "id": "47b59a93",
   "metadata": {},
   "outputs": [
    {
     "data": {
      "text/plain": [
       "<AxesSubplot:xlabel='created_date'>"
      ]
     },
     "execution_count": 383,
     "metadata": {},
     "output_type": "execute_result"
    },
    {
     "data": {
      "image/png": "[encoded data removed]",
      "text/plain": [
       "<Figure size 432x288 with 1 Axes>"
      ]
     },
     "metadata": {
      "needs_background": "light"
     },
     "output_type": "display_data"
    }
   ],
   "source": [
    "df.resample('W', on='created_date').size().plot(ylim=(0,60000))"
   ]
  },
  {
   "cell_type": "code",
   "execution_count": 384,
   "id": "8da4b5d7",
   "metadata": {},
   "outputs": [],
   "source": [
    "#resample because we're looking week by week and caring about the specific week, including the year"
   ]
  },
  {
   "cell_type": "markdown",
   "id": "4fe8dc9a",
   "metadata": {},
   "source": [
    "## What time of day (by hour) is the least common for 311 complains? The most common?\n"
   ]
  },
  {
   "cell_type": "code",
   "execution_count": 385,
   "id": "7a7452bc",
   "metadata": {},
   "outputs": [],
   "source": [
    "# there are two big techniques for date stuff: .dt or .resample\n",
    "# if you use one of those, explain why you picked that one and not the other"
   ]
  },
  {
   "cell_type": "code",
   "execution_count": 386,
   "id": "9085bdf6",
   "metadata": {},
   "outputs": [
    {
     "data": {
      "text/plain": [
       "4    14317\n",
       "Name: created_date, dtype: int64"
      ]
     },
     "execution_count": 386,
     "metadata": {},
     "output_type": "execute_result"
    }
   ],
   "source": [
    "df.created_date.dt.hour.value_counts().sort_values(ascending=False).nsmallest(1)"
   ]
  },
  {
   "cell_type": "code",
   "execution_count": 387,
   "id": "f3f5e728",
   "metadata": {},
   "outputs": [
    {
     "data": {
      "text/plain": [
       "0    1639112\n",
       "Name: created_date, dtype: int64"
      ]
     },
     "execution_count": 387,
     "metadata": {},
     "output_type": "execute_result"
    }
   ],
   "source": [
    "df.created_date.dt.hour.value_counts().sort_values(ascending=False).nlargest(1)"
   ]
  },
  {
   "cell_type": "markdown",
   "id": "1001c432",
   "metadata": {},
   "source": [
    "### Make a graph of the results\n",
    "\n",
    "* Make sure the hours are in the correct order\n",
    "* Be sure to set the y-axis to start at 0\n",
    "* Give your plot a descriptive title"
   ]
  },
  {
   "cell_type": "code",
   "execution_count": 388,
   "id": "9c2c4689",
   "metadata": {},
   "outputs": [
    {
     "data": {
      "text/plain": [
       "<AxesSubplot:title={'center':'311 calls peak at 10 a.m.'}, xlabel='Hour', ylabel='Number of calls'>"
      ]
     },
     "execution_count": 388,
     "metadata": {},
     "output_type": "execute_result"
    },
    {
     "data": {
      "image/png": "[encoded data removed]",
      "text/plain": [
       "<Figure size 432x288 with 1 Axes>"
      ]
     },
     "metadata": {
      "needs_background": "light"
     },
     "output_type": "display_data"
    }
   ],
   "source": [
    "df.created_date.dt.hour.value_counts().sort_index().plot(ylim=[0,75000], title='311 calls peak at 10 a.m.', \\\n",
    "                                                         ylabel='Number of calls', xlabel='Hour')"
   ]
  },
  {
   "cell_type": "markdown",
   "id": "dd2d2905",
   "metadata": {},
   "source": [
    "# Agencies\n",
    "\n",
    "## What agencies field the most complaints in the dataset? Get the top 5.\n",
    "\n",
    "Use the `agency` column for this one."
   ]
  },
  {
   "cell_type": "code",
   "execution_count": 389,
   "id": "40ffb6fb",
   "metadata": {},
   "outputs": [
    {
     "data": {
      "text/plain": [
       "HPD     1990716\n",
       "DOT      532999\n",
       "DSNY     453196\n",
       "DOB      339230\n",
       "NYPD     279655\n",
       "Name: agency, dtype: int64"
      ]
     },
     "execution_count": 389,
     "metadata": {},
     "output_type": "execute_result"
    }
   ],
   "source": [
    "df.agency.value_counts().nlargest(5)"
   ]
  },
  {
   "cell_type": "markdown",
   "id": "3469fc64",
   "metadata": {},
   "source": [
    "## What are each of those agencies?\n",
    "\n",
    "Define the following five acronyms:\n",
    "\n",
    "* NYPD\n",
    "* HPD\n",
    "* DOT\n",
    "* DSNY\n",
    "* DEP"
   ]
  },
  {
   "cell_type": "code",
   "execution_count": 390,
   "id": "5ae0f180",
   "metadata": {},
   "outputs": [
    {
     "data": {
      "text/plain": [
       "Department of Housing Preservation and Development    1990598\n",
       "Department of Transportation                           532998\n",
       "New York City Police Department                        279204\n",
       "Department of Environmental Protection                 234843\n",
       "Department of Sanitation                               108717\n",
       "Name: agency_name, dtype: int64"
      ]
     },
     "execution_count": 390,
     "metadata": {},
     "output_type": "execute_result"
    }
   ],
   "source": [
    "top5 = ['NYPD', 'HPD', 'DOT', 'DSNY', 'DEP']\n",
    "df[df['agency'].isin(top5)]['agency_name'].value_counts().head(5)"
   ]
  },
  {
   "cell_type": "markdown",
   "id": "d4cae99e",
   "metadata": {},
   "source": [
    "## What is the most common complaint to HPD?"
   ]
  },
  {
   "cell_type": "code",
   "execution_count": 391,
   "id": "030eca78",
   "metadata": {},
   "outputs": [],
   "source": [
    "# Why did you pick these columns to calculate the answer?\n",
    "#Complaint type seems the most standardized"
   ]
  },
  {
   "cell_type": "code",
   "execution_count": 392,
   "id": "2f719385",
   "metadata": {},
   "outputs": [
    {
     "data": {
      "text/plain": [
       "HEATING    449240\n",
       "Name: complaint_type, dtype: int64"
      ]
     },
     "execution_count": 392,
     "metadata": {},
     "output_type": "execute_result"
    }
   ],
   "source": [
    "df.complaint_type.value_counts().nlargest(1)"
   ]
  },
  {
   "cell_type": "markdown",
   "id": "75def603",
   "metadata": {},
   "source": [
    "## What are the top 3 complaints to each agency?\n",
    "\n",
    "You'll want to use the weird confusing `.groupby(level=...` thing we learned when reviewing the homework."
   ]
  },
  {
   "cell_type": "code",
   "execution_count": 393,
   "id": "eeaee487",
   "metadata": {},
   "outputs": [
    {
     "data": {
      "text/plain": [
       "agency  complaint_type                           \n",
       "3-1-1   Noise Survey                                     31\n",
       "        Benefit Card Replacement                          2\n",
       "        City Vehicle Placard Complaint                    1\n",
       "ACS     Forms                                           118\n",
       "COIB    Forms                                             4\n",
       "DCA     Consumer Complaint                             5975\n",
       "        DCA / DOH New License Application Request      1740\n",
       "DCAS    Question                                        261\n",
       "        Comments                                         19\n",
       "DCP     Research Questions                                9\n",
       "DEP     Water System                                  78980\n",
       "        Noise                                         67340\n",
       "        Sewer                                         56273\n",
       "DFTA    Housing - Low Income Senior                    1741\n",
       "        Housing Options                                 514\n",
       "        Elder Abuse                                     481\n",
       "DHS     Homeless Person Assistance                     1164\n",
       "        DHS Income Savings Requirement                   12\n",
       "DOB     General Construction/Plumbing                125803\n",
       "        Building/Use                                  77936\n",
       "        Elevator                                      50315\n",
       "DOE     School Maintenance                              401\n",
       "        Teaching/Learning/Instruction                     1\n",
       "DOF     DOF Property - Reduction Issue                14654\n",
       "        DOF Property - Request Copy                    9318\n",
       "        DOF Property - Payment Issue                   8011\n",
       "DOHMH   Rodent                                         5498\n",
       "        Food Establishment                             1391\n",
       "        Indoor Air Quality                             1269\n",
       "DOITT   Public Payphone Complaint                       117\n",
       "        LinkNYC                                          41\n",
       "DORIS   DOR Literature Request                           53\n",
       "DOT     Street Light Condition                       214753\n",
       "        Street Condition                             185590\n",
       "        Traffic Signal Condition                     103587\n",
       "DPR     Maintenance or Facility                       15364\n",
       "        Damaged Tree                                   4944\n",
       "        Overgrown Tree/Branches                        2616\n",
       "DSNY    Dirty Conditions                             121694\n",
       "        Sanitation Condition                          86798\n",
       "        Missed Collection (All Materials)             81163\n",
       "DVS     ../../../../../../../../../...                    4\n",
       "        ..\\..\\..\\..\\..\\..\\..\\..\\..\\...                    4\n",
       "        Misc. Comments../../../../....                    3\n",
       "EDC     Noise - Helicopter                              186\n",
       "HPD     HEATING                                      449240\n",
       "        GENERAL CONSTRUCTION                         326411\n",
       "        PLUMBING                                     301484\n",
       "HRA     Benefit Card Replacement                      43616\n",
       "NYCEM   OEM Literature Request                          540\n",
       "NYPD    Noise - Residential                           81875\n",
       "        Illegal Parking                               63218\n",
       "        Blocked Driveway                              44274\n",
       "TAX     Question                                         79\n",
       "        Comments                                          7\n",
       "TLC     Taxi Complaint                                 1633\n",
       "        For Hire Vehicle Complaint                     1235\n",
       "        Taxi Report                                     857\n",
       "Name: complaint_type, dtype: int64"
      ]
     },
     "execution_count": 393,
     "metadata": {},
     "output_type": "execute_result"
    }
   ],
   "source": [
    "df.groupby('agency').complaint_type.value_counts().groupby(level=0, group_keys=False).nlargest(3)"
   ]
  },
  {
   "cell_type": "markdown",
   "id": "c3d55807",
   "metadata": {},
   "source": [
    "## What is the most common kind of residential noise complaint?\n",
    "\n",
    "The NYPD seems to deal with a lot of noise complaints at homes. What is the most common subtype?"
   ]
  },
  {
   "cell_type": "code",
   "execution_count": 394,
   "id": "e726cd32",
   "metadata": {},
   "outputs": [],
   "source": [
    "# Why did you pick these columns to calculate the answer?\n",
    "# After complaint type, which would contain noise complaint, descriptor provides more detail "
   ]
  },
  {
   "cell_type": "code",
   "execution_count": 395,
   "id": "9d2f83ce",
   "metadata": {},
   "outputs": [
    {
     "data": {
      "text/plain": [
       "Loud Music/Party                                             86218\n",
       "Noise: Construction Before/After Hours (NM1)                 26624\n",
       "Banging/Pounding                                             25000\n",
       "Loud Talking                                                 14258\n",
       "Noise, Barking Dog (NR5)                                      9418\n",
       "Noise: Construction Equipment (NC1)                           8832\n",
       "Car/Truck Music                                               7709\n",
       "Car/Truck Horn                                                5957\n",
       "Noise: Jack Hammering (NC2)                                   5811\n",
       "Noise: Alarms (NR3)                                           4045\n",
       "Noise: air condition/ventilation equipment (NV1)              3362\n",
       "Engine Idling                                                 3047\n",
       "Noise, Ice Cream Truck (NR4)                                  2550\n",
       "Noise: Air Condition/Ventilation Equip, Commercial (NJ2)      1787\n",
       "Loud Television                                               1690\n",
       "Noise: Private Carting Noise (NQ1)                            1389\n",
       "Noise: Air Condition/Ventilation Equip, Residential (NJ1)     1239\n",
       "Noise: Other Noise Sources (Use Comments) (NZZ)                635\n",
       "21 Collection Truck Noise                                      470\n",
       "Noise:  lawn care equipment (NCL)                              460\n",
       "Noise: Boat(Engine,Music,Etc) (NR10)                           330\n",
       "Horn Honking Sign Requested (NR9)                              301\n",
       "Noise, Other Animals (NR6)                                     257\n",
       "Noise: Manufacturing Noise (NK1)                               188\n",
       "Other                                                          150\n",
       "Noise: Vehicle (NR2)                                            56\n",
       "Noise: Loud Music/Nighttime(Mark Date And Time) (NP1)           47\n",
       "People Created Noise                                            31\n",
       "NYPD                                                            18\n",
       "News Gathering                                                  18\n",
       "Noise: Loud Music/Daytime (Mark Date And Time) (NN1)             9\n",
       "Name: descriptor, dtype: int64"
      ]
     },
     "execution_count": 395,
     "metadata": {},
     "output_type": "execute_result"
    }
   ],
   "source": [
    "df[df.complaint_type.str.contains('Noise')].descriptor.value_counts()"
   ]
  },
  {
   "cell_type": "markdown",
   "id": "3d6c4dff",
   "metadata": {},
   "source": [
    "## What time of day do \"Loud Music/Party\" complaints come in? Make it a chart!"
   ]
  },
  {
   "cell_type": "code",
   "execution_count": 396,
   "id": "029c4248",
   "metadata": {},
   "outputs": [],
   "source": [
    "# there are two big techniques for date stuff: .dt or .resample\n",
    "# if you use one of those, explain why you picked that one and not the other"
   ]
  },
  {
   "cell_type": "code",
   "execution_count": 397,
   "id": "1d776aea",
   "metadata": {},
   "outputs": [
    {
     "data": {
      "text/plain": [
       "<AxesSubplot:>"
      ]
     },
     "execution_count": 397,
     "metadata": {},
     "output_type": "execute_result"
    },
    {
     "data": {
      "image/png": "[encoded data removed]",
      "text/plain": [
       "<Figure size 432x288 with 1 Axes>"
      ]
     },
     "metadata": {
      "needs_background": "light"
     },
     "output_type": "display_data"
    }
   ],
   "source": [
    "df[df.descriptor == 'Loud Music/Party'].created_date.dt.hour.value_counts().sort_index().plot()"
   ]
  },
  {
   "cell_type": "code",
   "execution_count": 398,
   "id": "9228d4fb",
   "metadata": {},
   "outputs": [],
   "source": [
    "#dt because we're concerned with hour in the day generally, not specific hour on a specific date"
   ]
  },
  {
   "cell_type": "markdown",
   "id": "72378323",
   "metadata": {},
   "source": [
    "## When do people party hard?\n",
    "\n",
    "Make a monthly chart of Loud Music/Party complaints since the beginning of the dataset. Make it count them on a biweekly basis (every two weeks)."
   ]
  },
  {
   "cell_type": "code",
   "execution_count": 399,
   "id": "1403b89b",
   "metadata": {},
   "outputs": [],
   "source": [
    "# there are two big techniques for date stuff: .dt or .resample\n",
    "# if you use one of those, explain why you picked that one and not the other"
   ]
  },
  {
   "cell_type": "code",
   "execution_count": 400,
   "id": "3e352a1a",
   "metadata": {},
   "outputs": [
    {
     "data": {
      "text/plain": [
       "<AxesSubplot:xlabel='created_date'>"
      ]
     },
     "execution_count": 400,
     "metadata": {},
     "output_type": "execute_result"
    },
    {
     "data": {
      "image/png": "[encoded data removed]",
      "text/plain": [
       "<Figure size 432x288 with 1 Axes>"
      ]
     },
     "metadata": {
      "needs_background": "light"
     },
     "output_type": "display_data"
    }
   ],
   "source": [
    "df[df.descriptor == 'Loud Music/Party'].resample('2W', on='created_date').size().plot()"
   ]
  },
  {
   "cell_type": "code",
   "execution_count": 401,
   "id": "0501e405",
   "metadata": {},
   "outputs": [
    {
     "data": {
      "text/plain": [
       "<AxesSubplot:xlabel='created_date'>"
      ]
     },
     "execution_count": 401,
     "metadata": {},
     "output_type": "execute_result"
    },
    {
     "data": {
      "image/png": "[encoded data removed]",
      "text/plain": [
       "<Figure size 432x288 with 1 Axes>"
      ]
     },
     "metadata": {
      "needs_background": "light"
     },
     "output_type": "display_data"
    }
   ],
   "source": [
    "df[df.descriptor == 'Loud Music/Party'].resample('M', on='created_date').size().plot()"
   ]
  },
  {
   "cell_type": "markdown",
   "id": "de48a3ec",
   "metadata": {},
   "source": [
    "## People and their bees\n",
    "\n",
    "Sometimes people complain about bees! Why they'd do that, I have no idea. It's somewhere in \"complaint_type\" – can you find all of the bee-related complaints?"
   ]
  },
  {
   "cell_type": "code",
   "execution_count": 402,
   "id": "5f1901b0",
   "metadata": {},
   "outputs": [
    {
     "data": {
      "text/html": [
       "<div>\n",
       "<style scoped>\n",
       "    .dataframe tbody tr th:only-of-type {\n",
       "        vertical-align: middle;\n",
       "    }\n",
       "\n",
       "    .dataframe tbody tr th {\n",
       "        vertical-align: top;\n",
       "    }\n",
       "\n",
       "    .dataframe thead th {\n",
       "        text-align: right;\n",
       "    }\n",
       "</style>\n",
       "<table border=\"1\" class=\"dataframe\">\n",
       "  <thead>\n",
       "    <tr style=\"text-align: right;\">\n",
       "      <th></th>\n",
       "      <th>unique_key</th>\n",
       "      <th>created_date</th>\n",
       "      <th>closed_date</th>\n",
       "      <th>agency</th>\n",
       "      <th>agency_name</th>\n",
       "      <th>complaint_type</th>\n",
       "      <th>descriptor</th>\n",
       "      <th>location_type</th>\n",
       "      <th>incident_zip</th>\n",
       "      <th>incident_address</th>\n",
       "      <th>address_type</th>\n",
       "      <th>city</th>\n",
       "      <th>status</th>\n",
       "      <th>borough</th>\n",
       "      <th>open_data_channel_type</th>\n",
       "    </tr>\n",
       "  </thead>\n",
       "  <tbody>\n",
       "    <tr>\n",
       "      <th>288065</th>\n",
       "      <td>42054326</td>\n",
       "      <td>2019-03-26 19:10:34</td>\n",
       "      <td>2019-04-05 15:00:55</td>\n",
       "      <td>DOHMH</td>\n",
       "      <td>Department of Health and Mental Hygiene</td>\n",
       "      <td>Harboring Bees/Wasps</td>\n",
       "      <td>Beekeeping - Honeybees</td>\n",
       "      <td>1-2 Family Dwelling</td>\n",
       "      <td>11103</td>\n",
       "      <td>24-19 42 STREET</td>\n",
       "      <td>ADDRESS</td>\n",
       "      <td>ASTORIA</td>\n",
       "      <td>Closed</td>\n",
       "      <td>QUEENS</td>\n",
       "      <td>PHONE</td>\n",
       "    </tr>\n",
       "    <tr>\n",
       "      <th>291446</th>\n",
       "      <td>42058804</td>\n",
       "      <td>2019-03-26 18:14:03</td>\n",
       "      <td>2019-04-05 15:02:00</td>\n",
       "      <td>DOHMH</td>\n",
       "      <td>Department of Health and Mental Hygiene</td>\n",
       "      <td>Harboring Bees/Wasps</td>\n",
       "      <td>Beekeeping - Honeybees</td>\n",
       "      <td>1-2 Family Dwelling</td>\n",
       "      <td>11104</td>\n",
       "      <td>42-19 42 STREET</td>\n",
       "      <td>ADDRESS</td>\n",
       "      <td>SUNNYSIDE</td>\n",
       "      <td>Closed</td>\n",
       "      <td>QUEENS</td>\n",
       "      <td>PHONE</td>\n",
       "    </tr>\n",
       "    <tr>\n",
       "      <th>372834</th>\n",
       "      <td>42163934</td>\n",
       "      <td>2019-04-08 18:26:04</td>\n",
       "      <td>2019-04-29 11:18:17</td>\n",
       "      <td>DOHMH</td>\n",
       "      <td>Department of Health and Mental Hygiene</td>\n",
       "      <td>Harboring Bees/Wasps</td>\n",
       "      <td>Bees/Wasps - Not a beekeper</td>\n",
       "      <td>1-2 Family Dwelling</td>\n",
       "      <td>10302</td>\n",
       "      <td>57 HOOKER PLACE</td>\n",
       "      <td>ADDRESS</td>\n",
       "      <td>STATEN ISLAND</td>\n",
       "      <td>Closed</td>\n",
       "      <td>STATEN ISLAND</td>\n",
       "      <td>PHONE</td>\n",
       "    </tr>\n",
       "    <tr>\n",
       "      <th>378505</th>\n",
       "      <td>42171504</td>\n",
       "      <td>2019-04-08 15:50:40</td>\n",
       "      <td>2019-04-29 11:11:42</td>\n",
       "      <td>DOHMH</td>\n",
       "      <td>Department of Health and Mental Hygiene</td>\n",
       "      <td>Harboring Bees/Wasps</td>\n",
       "      <td>Bees/Wasps - Not a beekeper</td>\n",
       "      <td>1-2 Family Mixed Use Building</td>\n",
       "      <td>11214</td>\n",
       "      <td>2060 78 STREET</td>\n",
       "      <td>ADDRESS</td>\n",
       "      <td>BROOKLYN</td>\n",
       "      <td>Closed</td>\n",
       "      <td>BROOKLYN</td>\n",
       "      <td>ONLINE</td>\n",
       "    </tr>\n",
       "    <tr>\n",
       "      <th>391645</th>\n",
       "      <td>42189666</td>\n",
       "      <td>2019-04-10 19:28:14</td>\n",
       "      <td>2019-04-29 11:17:09</td>\n",
       "      <td>DOHMH</td>\n",
       "      <td>Department of Health and Mental Hygiene</td>\n",
       "      <td>Harboring Bees/Wasps</td>\n",
       "      <td>Beekeeping - Honeybees</td>\n",
       "      <td>1-2 Family Dwelling</td>\n",
       "      <td>10469</td>\n",
       "      <td>1462 STICKNEY PLACE</td>\n",
       "      <td>ADDRESS</td>\n",
       "      <td>BRONX</td>\n",
       "      <td>Closed</td>\n",
       "      <td>BRONX</td>\n",
       "      <td>PHONE</td>\n",
       "    </tr>\n",
       "    <tr>\n",
       "      <th>466469</th>\n",
       "      <td>42291921</td>\n",
       "      <td>2019-04-23 11:39:59</td>\n",
       "      <td>2019-05-06 09:36:28</td>\n",
       "      <td>DOHMH</td>\n",
       "      <td>Department of Health and Mental Hygiene</td>\n",
       "      <td>Harboring Bees/Wasps</td>\n",
       "      <td>Bees/Wasps - Not a beekeper</td>\n",
       "      <td>1-2 Family Dwelling</td>\n",
       "      <td>11210</td>\n",
       "      <td>674 EAST 22 STREET</td>\n",
       "      <td>ADDRESS</td>\n",
       "      <td>BROOKLYN</td>\n",
       "      <td>Closed</td>\n",
       "      <td>BROOKLYN</td>\n",
       "      <td>PHONE</td>\n",
       "    </tr>\n",
       "    <tr>\n",
       "      <th>472431</th>\n",
       "      <td>42300656</td>\n",
       "      <td>2019-04-23 14:56:21</td>\n",
       "      <td>2019-05-06 09:37:30</td>\n",
       "      <td>DOHMH</td>\n",
       "      <td>Department of Health and Mental Hygiene</td>\n",
       "      <td>Harboring Bees/Wasps</td>\n",
       "      <td>Bees/Wasps - Not a beekeper</td>\n",
       "      <td>3+ Family Apartment Building</td>\n",
       "      <td>10037</td>\n",
       "      <td>2311 5 AVENUE</td>\n",
       "      <td>ADDRESS</td>\n",
       "      <td>NEW YORK</td>\n",
       "      <td>Closed</td>\n",
       "      <td>MANHATTAN</td>\n",
       "      <td>PHONE</td>\n",
       "    </tr>\n",
       "    <tr>\n",
       "      <th>506112</th>\n",
       "      <td>42497797</td>\n",
       "      <td>2019-04-28 15:33:33</td>\n",
       "      <td>2019-05-13 11:10:45</td>\n",
       "      <td>DOHMH</td>\n",
       "      <td>Department of Health and Mental Hygiene</td>\n",
       "      <td>Harboring Bees/Wasps</td>\n",
       "      <td>Beekeeping - Honeybees</td>\n",
       "      <td>1-2 Family Dwelling</td>\n",
       "      <td>11385</td>\n",
       "      <td>2017 HARMAN STREET</td>\n",
       "      <td>ADDRESS</td>\n",
       "      <td>RIDGEWOOD</td>\n",
       "      <td>Closed</td>\n",
       "      <td>QUEENS</td>\n",
       "      <td>ONLINE</td>\n",
       "    </tr>\n",
       "    <tr>\n",
       "      <th>532844</th>\n",
       "      <td>42533095</td>\n",
       "      <td>2019-05-02 13:13:47</td>\n",
       "      <td>2019-05-13 11:10:47</td>\n",
       "      <td>DOHMH</td>\n",
       "      <td>Department of Health and Mental Hygiene</td>\n",
       "      <td>Harboring Bees/Wasps</td>\n",
       "      <td>Bees/Wasps - Not a beekeper</td>\n",
       "      <td>1-2 Family Dwelling</td>\n",
       "      <td>11419</td>\n",
       "      <td>107-14 125 STREET</td>\n",
       "      <td>ADDRESS</td>\n",
       "      <td>SOUTH RICHMOND HILL</td>\n",
       "      <td>Closed</td>\n",
       "      <td>QUEENS</td>\n",
       "      <td>ONLINE</td>\n",
       "    </tr>\n",
       "    <tr>\n",
       "      <th>547427</th>\n",
       "      <td>42549720</td>\n",
       "      <td>2019-05-02 12:45:50</td>\n",
       "      <td>2019-05-13 11:10:46</td>\n",
       "      <td>DOHMH</td>\n",
       "      <td>Department of Health and Mental Hygiene</td>\n",
       "      <td>Harboring Bees/Wasps</td>\n",
       "      <td>Beekeeping - Honeybees</td>\n",
       "      <td>1-2 Family Dwelling</td>\n",
       "      <td>10309</td>\n",
       "      <td>62 SHARROTTS ROAD</td>\n",
       "      <td>ADDRESS</td>\n",
       "      <td>STATEN ISLAND</td>\n",
       "      <td>Closed</td>\n",
       "      <td>STATEN ISLAND</td>\n",
       "      <td>PHONE</td>\n",
       "    </tr>\n",
       "    <tr>\n",
       "      <th>566847</th>\n",
       "      <td>42571843</td>\n",
       "      <td>2019-05-02 13:21:17</td>\n",
       "      <td>2019-05-13 11:11:51</td>\n",
       "      <td>DOHMH</td>\n",
       "      <td>Department of Health and Mental Hygiene</td>\n",
       "      <td>Harboring Bees/Wasps</td>\n",
       "      <td>Bees/Wasps - Not a beekeper</td>\n",
       "      <td>3+ Family Apartment Building</td>\n",
       "      <td>11218</td>\n",
       "      <td>571 OCEAN PARKWAY</td>\n",
       "      <td>ADDRESS</td>\n",
       "      <td>BROOKLYN</td>\n",
       "      <td>Closed</td>\n",
       "      <td>BROOKLYN</td>\n",
       "      <td>ONLINE</td>\n",
       "    </tr>\n",
       "    <tr>\n",
       "      <th>604907</th>\n",
       "      <td>42622408</td>\n",
       "      <td>2019-05-08 18:05:07</td>\n",
       "      <td>2019-05-28 10:24:37</td>\n",
       "      <td>DOHMH</td>\n",
       "      <td>Department of Health and Mental Hygiene</td>\n",
       "      <td>Harboring Bees/Wasps</td>\n",
       "      <td>Bees/Wasps - Not a beekeper</td>\n",
       "      <td>1-2 Family Dwelling</td>\n",
       "      <td>11234</td>\n",
       "      <td>1836 COLEMAN STREET</td>\n",
       "      <td>ADDRESS</td>\n",
       "      <td>BROOKLYN</td>\n",
       "      <td>Closed</td>\n",
       "      <td>BROOKLYN</td>\n",
       "      <td>ONLINE</td>\n",
       "    </tr>\n",
       "    <tr>\n",
       "      <th>625524</th>\n",
       "      <td>42649618</td>\n",
       "      <td>2019-05-11 14:56:02</td>\n",
       "      <td>2019-05-28 10:24:38</td>\n",
       "      <td>DOHMH</td>\n",
       "      <td>Department of Health and Mental Hygiene</td>\n",
       "      <td>Harboring Bees/Wasps</td>\n",
       "      <td>Bees/Wasps - Not a beekeper</td>\n",
       "      <td>1-2 Family Dwelling</td>\n",
       "      <td>10314</td>\n",
       "      <td>243 LIVINGSTON AVENUE</td>\n",
       "      <td>ADDRESS</td>\n",
       "      <td>STATEN ISLAND</td>\n",
       "      <td>Closed</td>\n",
       "      <td>STATEN ISLAND</td>\n",
       "      <td>PHONE</td>\n",
       "    </tr>\n",
       "    <tr>\n",
       "      <th>633155</th>\n",
       "      <td>42659676</td>\n",
       "      <td>2019-05-13 12:13:09</td>\n",
       "      <td>2019-05-28 10:24:38</td>\n",
       "      <td>DOHMH</td>\n",
       "      <td>Department of Health and Mental Hygiene</td>\n",
       "      <td>Harboring Bees/Wasps</td>\n",
       "      <td>Bees/Wasps - Not a beekeper</td>\n",
       "      <td>1-2 Family Dwelling</td>\n",
       "      <td>11420</td>\n",
       "      <td>116-16 131 STREET</td>\n",
       "      <td>ADDRESS</td>\n",
       "      <td>SOUTH OZONE PARK</td>\n",
       "      <td>Closed</td>\n",
       "      <td>QUEENS</td>\n",
       "      <td>PHONE</td>\n",
       "    </tr>\n",
       "    <tr>\n",
       "      <th>659549</th>\n",
       "      <td>42695253</td>\n",
       "      <td>2019-05-17 13:07:04</td>\n",
       "      <td>2019-05-28 10:25:54</td>\n",
       "      <td>DOHMH</td>\n",
       "      <td>Department of Health and Mental Hygiene</td>\n",
       "      <td>Harboring Bees/Wasps</td>\n",
       "      <td>Beekeeping - Honeybees</td>\n",
       "      <td>1-2 Family Mixed Use Building</td>\n",
       "      <td>11228</td>\n",
       "      <td>1358 80 STREET</td>\n",
       "      <td>ADDRESS</td>\n",
       "      <td>BROOKLYN</td>\n",
       "      <td>Closed</td>\n",
       "      <td>BROOKLYN</td>\n",
       "      <td>PHONE</td>\n",
       "    </tr>\n",
       "    <tr>\n",
       "      <th>664945</th>\n",
       "      <td>42702275</td>\n",
       "      <td>2019-05-17 16:28:20</td>\n",
       "      <td>2019-05-28 10:25:55</td>\n",
       "      <td>DOHMH</td>\n",
       "      <td>Department of Health and Mental Hygiene</td>\n",
       "      <td>Harboring Bees/Wasps</td>\n",
       "      <td>Beekeeping - Honeybees</td>\n",
       "      <td>1-2 Family Dwelling</td>\n",
       "      <td>10304</td>\n",
       "      <td>307 GORDON STREET</td>\n",
       "      <td>ADDRESS</td>\n",
       "      <td>STATEN ISLAND</td>\n",
       "      <td>Closed</td>\n",
       "      <td>STATEN ISLAND</td>\n",
       "      <td>PHONE</td>\n",
       "    </tr>\n",
       "    <tr>\n",
       "      <th>3402667</th>\n",
       "      <td>23410193</td>\n",
       "      <td>2012-06-12 13:27:19</td>\n",
       "      <td>2012-07-06 15:06:31</td>\n",
       "      <td>DOHMH</td>\n",
       "      <td>Department of Health and Mental Hygiene</td>\n",
       "      <td>Harboring Bees/Wasps</td>\n",
       "      <td>Beekeeping - Honeybees</td>\n",
       "      <td>1-2 Family Dwelling</td>\n",
       "      <td>10031</td>\n",
       "      <td>NaN</td>\n",
       "      <td>INTERSECTION</td>\n",
       "      <td>NEW YORK</td>\n",
       "      <td>Closed</td>\n",
       "      <td>MANHATTAN</td>\n",
       "      <td>PHONE</td>\n",
       "    </tr>\n",
       "  </tbody>\n",
       "</table>\n",
       "</div>"
      ],
      "text/plain": [
       "         unique_key        created_date         closed_date agency  \\\n",
       "288065     42054326 2019-03-26 19:10:34 2019-04-05 15:00:55  DOHMH   \n",
       "291446     42058804 2019-03-26 18:14:03 2019-04-05 15:02:00  DOHMH   \n",
       "372834     42163934 2019-04-08 18:26:04 2019-04-29 11:18:17  DOHMH   \n",
       "378505     42171504 2019-04-08 15:50:40 2019-04-29 11:11:42  DOHMH   \n",
       "391645     42189666 2019-04-10 19:28:14 2019-04-29 11:17:09  DOHMH   \n",
       "466469     42291921 2019-04-23 11:39:59 2019-05-06 09:36:28  DOHMH   \n",
       "472431     42300656 2019-04-23 14:56:21 2019-05-06 09:37:30  DOHMH   \n",
       "506112     42497797 2019-04-28 15:33:33 2019-05-13 11:10:45  DOHMH   \n",
       "532844     42533095 2019-05-02 13:13:47 2019-05-13 11:10:47  DOHMH   \n",
       "547427     42549720 2019-05-02 12:45:50 2019-05-13 11:10:46  DOHMH   \n",
       "566847     42571843 2019-05-02 13:21:17 2019-05-13 11:11:51  DOHMH   \n",
       "604907     42622408 2019-05-08 18:05:07 2019-05-28 10:24:37  DOHMH   \n",
       "625524     42649618 2019-05-11 14:56:02 2019-05-28 10:24:38  DOHMH   \n",
       "633155     42659676 2019-05-13 12:13:09 2019-05-28 10:24:38  DOHMH   \n",
       "659549     42695253 2019-05-17 13:07:04 2019-05-28 10:25:54  DOHMH   \n",
       "664945     42702275 2019-05-17 16:28:20 2019-05-28 10:25:55  DOHMH   \n",
       "3402667    23410193 2012-06-12 13:27:19 2012-07-06 15:06:31  DOHMH   \n",
       "\n",
       "                                     agency_name        complaint_type  \\\n",
       "288065   Department of Health and Mental Hygiene  Harboring Bees/Wasps   \n",
       "291446   Department of Health and Mental Hygiene  Harboring Bees/Wasps   \n",
       "372834   Department of Health and Mental Hygiene  Harboring Bees/Wasps   \n",
       "378505   Department of Health and Mental Hygiene  Harboring Bees/Wasps   \n",
       "391645   Department of Health and Mental Hygiene  Harboring Bees/Wasps   \n",
       "466469   Department of Health and Mental Hygiene  Harboring Bees/Wasps   \n",
       "472431   Department of Health and Mental Hygiene  Harboring Bees/Wasps   \n",
       "506112   Department of Health and Mental Hygiene  Harboring Bees/Wasps   \n",
       "532844   Department of Health and Mental Hygiene  Harboring Bees/Wasps   \n",
       "547427   Department of Health and Mental Hygiene  Harboring Bees/Wasps   \n",
       "566847   Department of Health and Mental Hygiene  Harboring Bees/Wasps   \n",
       "604907   Department of Health and Mental Hygiene  Harboring Bees/Wasps   \n",
       "625524   Department of Health and Mental Hygiene  Harboring Bees/Wasps   \n",
       "633155   Department of Health and Mental Hygiene  Harboring Bees/Wasps   \n",
       "659549   Department of Health and Mental Hygiene  Harboring Bees/Wasps   \n",
       "664945   Department of Health and Mental Hygiene  Harboring Bees/Wasps   \n",
       "3402667  Department of Health and Mental Hygiene  Harboring Bees/Wasps   \n",
       "\n",
       "                          descriptor                  location_type  \\\n",
       "288065        Beekeeping - Honeybees            1-2 Family Dwelling   \n",
       "291446        Beekeeping - Honeybees            1-2 Family Dwelling   \n",
       "372834   Bees/Wasps - Not a beekeper            1-2 Family Dwelling   \n",
       "378505   Bees/Wasps - Not a beekeper  1-2 Family Mixed Use Building   \n",
       "391645        Beekeeping - Honeybees            1-2 Family Dwelling   \n",
       "466469   Bees/Wasps - Not a beekeper            1-2 Family Dwelling   \n",
       "472431   Bees/Wasps - Not a beekeper   3+ Family Apartment Building   \n",
       "506112        Beekeeping - Honeybees            1-2 Family Dwelling   \n",
       "532844   Bees/Wasps - Not a beekeper            1-2 Family Dwelling   \n",
       "547427        Beekeeping - Honeybees            1-2 Family Dwelling   \n",
       "566847   Bees/Wasps - Not a beekeper   3+ Family Apartment Building   \n",
       "604907   Bees/Wasps - Not a beekeper            1-2 Family Dwelling   \n",
       "625524   Bees/Wasps - Not a beekeper            1-2 Family Dwelling   \n",
       "633155   Bees/Wasps - Not a beekeper            1-2 Family Dwelling   \n",
       "659549        Beekeeping - Honeybees  1-2 Family Mixed Use Building   \n",
       "664945        Beekeeping - Honeybees            1-2 Family Dwelling   \n",
       "3402667       Beekeeping - Honeybees            1-2 Family Dwelling   \n",
       "\n",
       "        incident_zip       incident_address  address_type  \\\n",
       "288065         11103        24-19 42 STREET       ADDRESS   \n",
       "291446         11104        42-19 42 STREET       ADDRESS   \n",
       "372834         10302        57 HOOKER PLACE       ADDRESS   \n",
       "378505         11214         2060 78 STREET       ADDRESS   \n",
       "391645         10469    1462 STICKNEY PLACE       ADDRESS   \n",
       "466469         11210     674 EAST 22 STREET       ADDRESS   \n",
       "472431         10037          2311 5 AVENUE       ADDRESS   \n",
       "506112         11385     2017 HARMAN STREET       ADDRESS   \n",
       "532844         11419      107-14 125 STREET       ADDRESS   \n",
       "547427         10309      62 SHARROTTS ROAD       ADDRESS   \n",
       "566847         11218      571 OCEAN PARKWAY       ADDRESS   \n",
       "604907         11234    1836 COLEMAN STREET       ADDRESS   \n",
       "625524         10314  243 LIVINGSTON AVENUE       ADDRESS   \n",
       "633155         11420      116-16 131 STREET       ADDRESS   \n",
       "659549         11228         1358 80 STREET       ADDRESS   \n",
       "664945         10304      307 GORDON STREET       ADDRESS   \n",
       "3402667        10031                    NaN  INTERSECTION   \n",
       "\n",
       "                        city  status        borough open_data_channel_type  \n",
       "288065               ASTORIA  Closed         QUEENS                  PHONE  \n",
       "291446             SUNNYSIDE  Closed         QUEENS                  PHONE  \n",
       "372834         STATEN ISLAND  Closed  STATEN ISLAND                  PHONE  \n",
       "378505              BROOKLYN  Closed       BROOKLYN                 ONLINE  \n",
       "391645                 BRONX  Closed          BRONX                  PHONE  \n",
       "466469              BROOKLYN  Closed       BROOKLYN                  PHONE  \n",
       "472431              NEW YORK  Closed      MANHATTAN                  PHONE  \n",
       "506112             RIDGEWOOD  Closed         QUEENS                 ONLINE  \n",
       "532844   SOUTH RICHMOND HILL  Closed         QUEENS                 ONLINE  \n",
       "547427         STATEN ISLAND  Closed  STATEN ISLAND                  PHONE  \n",
       "566847              BROOKLYN  Closed       BROOKLYN                 ONLINE  \n",
       "604907              BROOKLYN  Closed       BROOKLYN                 ONLINE  \n",
       "625524         STATEN ISLAND  Closed  STATEN ISLAND                  PHONE  \n",
       "633155      SOUTH OZONE PARK  Closed         QUEENS                  PHONE  \n",
       "659549              BROOKLYN  Closed       BROOKLYN                  PHONE  \n",
       "664945         STATEN ISLAND  Closed  STATEN ISLAND                  PHONE  \n",
       "3402667             NEW YORK  Closed      MANHATTAN                  PHONE  "
      ]
     },
     "execution_count": 402,
     "metadata": {},
     "output_type": "execute_result"
    }
   ],
   "source": [
    "bees = df[df.complaint_type.str.contains('Bee')]\n",
    "bees"
   ]
  },
  {
   "cell_type": "markdown",
   "id": "8c68e167",
   "metadata": {},
   "source": [
    "### What month do most of the complaints happen in? I'd like to see a graph."
   ]
  },
  {
   "cell_type": "code",
   "execution_count": 403,
   "id": "590fd267",
   "metadata": {},
   "outputs": [
    {
     "data": {
      "text/plain": [
       "<AxesSubplot:>"
      ]
     },
     "execution_count": 403,
     "metadata": {},
     "output_type": "execute_result"
    },
    {
     "data": {
      "image/png": "[encoded data removed]",
      "text/plain": [
       "<Figure size 432x288 with 1 Axes>"
      ]
     },
     "metadata": {
      "needs_background": "light"
     },
     "output_type": "display_data"
    }
   ],
   "source": [
    "bees.created_date.dt.month_name().value_counts().plot(kind='barh')"
   ]
  },
  {
   "cell_type": "markdown",
   "id": "9cdf43eb",
   "metadata": {},
   "source": [
    "### Are the people getting in trouble usually beekeepers or not beekeepers?"
   ]
  },
  {
   "cell_type": "code",
   "execution_count": 404,
   "id": "e517af3a",
   "metadata": {},
   "outputs": [
    {
     "data": {
      "text/plain": [
       "Bees/Wasps - Not a beekeper    0.529412\n",
       "Beekeeping - Honeybees         0.470588\n",
       "Name: descriptor, dtype: float64"
      ]
     },
     "execution_count": 404,
     "metadata": {},
     "output_type": "execute_result"
    }
   ],
   "source": [
    "bees.descriptor.value_counts(normalize=True)"
   ]
  },
  {
   "cell_type": "markdown",
   "id": "2f96be0a",
   "metadata": {},
   "source": [
    "# Math with datetimes\n",
    "\n",
    "## How long does it normally take to resolve a 311 complaint?\n",
    "\n",
    "Even if we didn't cover this in class, I have faith that you can guess how to calculate it."
   ]
  },
  {
   "cell_type": "code",
   "execution_count": 405,
   "id": "11145dfb",
   "metadata": {},
   "outputs": [],
   "source": [
    "df['time_to_fix'] = df.closed_date - df.created_date"
   ]
  },
  {
   "cell_type": "code",
   "execution_count": 406,
   "id": "acfb0e74",
   "metadata": {},
   "outputs": [
    {
     "data": {
      "text/plain": [
       "Timedelta('13 days 11:45:19.539945584')"
      ]
     },
     "execution_count": 406,
     "metadata": {},
     "output_type": "execute_result"
    }
   ],
   "source": [
    "df.time_to_fix.mean()"
   ]
  },
  {
   "cell_type": "markdown",
   "id": "f901cdb7",
   "metadata": {},
   "source": [
    "Save it as a new column called `time_to_fix`"
   ]
  },
  {
   "cell_type": "markdown",
   "id": "30fbc746",
   "metadata": {},
   "source": [
    "## Which agency has the best time-to-fix time?"
   ]
  },
  {
   "cell_type": "code",
   "execution_count": 407,
   "id": "c2bb7780",
   "metadata": {},
   "outputs": [
    {
     "data": {
      "text/plain": [
       "agency\n",
       "DOB      68 days 02:18:38.660278452\n",
       "TLC      40 days 13:21:01.182287822\n",
       "EDC      35 days 20:03:47.304347826\n",
       "DOE      23 days 13:24:39.513853904\n",
       "DOITT    17 days 01:45:27.645569620\n",
       "NYCEM    16 days 00:25:52.934615384\n",
       "DPR      12 days 04:39:49.397268851\n",
       "HPD      11 days 12:36:53.447180167\n",
       "DFTA      9 days 18:42:21.829454893\n",
       "DOHMH     8 days 06:55:13.980678995\n",
       "DCA       7 days 21:00:02.498509397\n",
       "DEP       6 days 23:59:29.412053231\n",
       "DOT       5 days 14:45:18.252221745\n",
       "DOF       4 days 20:30:04.630305472\n",
       "DSNY      4 days 11:16:33.815763300\n",
       "DORIS     3 days 20:56:12.698113207\n",
       "DHS       1 days 00:03:26.994699646\n",
       "HRA       0 days 00:00:54.680873991\n",
       "3-1-1     0 days 00:00:45.117647058\n",
       "NYPD    -1 days +17:13:31.370282038\n",
       "ACS                             NaT\n",
       "COIB                            NaT\n",
       "DCAS                            NaT\n",
       "DCP                             NaT\n",
       "DVS                             NaT\n",
       "TAX                             NaT\n",
       "Name: time_to_fix, dtype: timedelta64[ns]"
      ]
     },
     "execution_count": 407,
     "metadata": {},
     "output_type": "execute_result"
    }
   ],
   "source": [
    "df.groupby('agency').time_to_fix.mean().sort_values(ascending=False)"
   ]
  },
  {
   "cell_type": "markdown",
   "id": "376f1775",
   "metadata": {},
   "source": [
    "## Maybe we need some more information...\n",
    "\n",
    "I might want to know how big our sample size is for each of those, maybe the high performers only have one or two instances of having requests filed!\n",
    "\n",
    "### First, try using `.describe()` on the time to fix column after your `groupby`."
   ]
  },
  {
   "cell_type": "code",
   "execution_count": 408,
   "id": "81ba3d2e",
   "metadata": {},
   "outputs": [
    {
     "data": {
      "text/html": [
       "<div>\n",
       "<style scoped>\n",
       "    .dataframe tbody tr th:only-of-type {\n",
       "        vertical-align: middle;\n",
       "    }\n",
       "\n",
       "    .dataframe tbody tr th {\n",
       "        vertical-align: top;\n",
       "    }\n",
       "\n",
       "    .dataframe thead th {\n",
       "        text-align: right;\n",
       "    }\n",
       "</style>\n",
       "<table border=\"1\" class=\"dataframe\">\n",
       "  <thead>\n",
       "    <tr style=\"text-align: right;\">\n",
       "      <th></th>\n",
       "      <th>count</th>\n",
       "      <th>mean</th>\n",
       "      <th>std</th>\n",
       "      <th>min</th>\n",
       "      <th>25%</th>\n",
       "      <th>50%</th>\n",
       "      <th>75%</th>\n",
       "      <th>max</th>\n",
       "    </tr>\n",
       "    <tr>\n",
       "      <th>agency</th>\n",
       "      <th></th>\n",
       "      <th></th>\n",
       "      <th></th>\n",
       "      <th></th>\n",
       "      <th></th>\n",
       "      <th></th>\n",
       "      <th></th>\n",
       "      <th></th>\n",
       "    </tr>\n",
       "  </thead>\n",
       "  <tbody>\n",
       "    <tr>\n",
       "      <th>3-1-1</th>\n",
       "      <td>34</td>\n",
       "      <td>0 days 00:00:45.117647058</td>\n",
       "      <td>0 days 00:01:16.105494846</td>\n",
       "      <td>0 days 00:00:03</td>\n",
       "      <td>0 days 00:00:17.500000</td>\n",
       "      <td>0 days 00:00:35</td>\n",
       "      <td>0 days 00:00:42</td>\n",
       "      <td>0 days 00:07:44</td>\n",
       "    </tr>\n",
       "    <tr>\n",
       "      <th>ACS</th>\n",
       "      <td>0</td>\n",
       "      <td>NaT</td>\n",
       "      <td>NaT</td>\n",
       "      <td>NaT</td>\n",
       "      <td>NaT</td>\n",
       "      <td>NaT</td>\n",
       "      <td>NaT</td>\n",
       "      <td>NaT</td>\n",
       "    </tr>\n",
       "    <tr>\n",
       "      <th>COIB</th>\n",
       "      <td>0</td>\n",
       "      <td>NaT</td>\n",
       "      <td>NaT</td>\n",
       "      <td>NaT</td>\n",
       "      <td>NaT</td>\n",
       "      <td>NaT</td>\n",
       "      <td>NaT</td>\n",
       "      <td>NaT</td>\n",
       "    </tr>\n",
       "    <tr>\n",
       "      <th>DCA</th>\n",
       "      <td>7715</td>\n",
       "      <td>7 days 21:00:02.498509397</td>\n",
       "      <td>24 days 02:24:37.424020452</td>\n",
       "      <td>0 days 00:15:51</td>\n",
       "      <td>1 days 01:32:23.500000</td>\n",
       "      <td>2 days 17:54:37</td>\n",
       "      <td>15 days 04:34:50.500000</td>\n",
       "      <td>537 days 20:01:13</td>\n",
       "    </tr>\n",
       "    <tr>\n",
       "      <th>DCAS</th>\n",
       "      <td>0</td>\n",
       "      <td>NaT</td>\n",
       "      <td>NaT</td>\n",
       "      <td>NaT</td>\n",
       "      <td>NaT</td>\n",
       "      <td>NaT</td>\n",
       "      <td>NaT</td>\n",
       "      <td>NaT</td>\n",
       "    </tr>\n",
       "    <tr>\n",
       "      <th>DCP</th>\n",
       "      <td>0</td>\n",
       "      <td>NaT</td>\n",
       "      <td>NaT</td>\n",
       "      <td>NaT</td>\n",
       "      <td>NaT</td>\n",
       "      <td>NaT</td>\n",
       "      <td>NaT</td>\n",
       "      <td>NaT</td>\n",
       "    </tr>\n",
       "    <tr>\n",
       "      <th>DEP</th>\n",
       "      <td>232419</td>\n",
       "      <td>6 days 23:59:29.412053231</td>\n",
       "      <td>46 days 14:09:49.814494835</td>\n",
       "      <td>-1062 days +08:42:00</td>\n",
       "      <td>0 days 03:01:00</td>\n",
       "      <td>0 days 23:20:00</td>\n",
       "      <td>4 days 05:21:00</td>\n",
       "      <td>3562 days 03:17:00</td>\n",
       "    </tr>\n",
       "    <tr>\n",
       "      <th>DFTA</th>\n",
       "      <td>3137</td>\n",
       "      <td>9 days 18:42:21.829454893</td>\n",
       "      <td>5 days 19:08:37.471303582</td>\n",
       "      <td>0 days 00:37:46</td>\n",
       "      <td>4 days 07:15:15</td>\n",
       "      <td>10 days 23:25:31</td>\n",
       "      <td>13 days 21:43:01</td>\n",
       "      <td>33 days 17:46:05</td>\n",
       "    </tr>\n",
       "    <tr>\n",
       "      <th>DHS</th>\n",
       "      <td>1132</td>\n",
       "      <td>1 days 00:03:26.994699646</td>\n",
       "      <td>17 days 17:31:01.665163370</td>\n",
       "      <td>0 days 00:00:40</td>\n",
       "      <td>0 days 00:38:20.250000</td>\n",
       "      <td>0 days 01:34:13.500000</td>\n",
       "      <td>0 days 04:23:02.750000</td>\n",
       "      <td>561 days 00:34:39</td>\n",
       "    </tr>\n",
       "    <tr>\n",
       "      <th>DOB</th>\n",
       "      <td>338801</td>\n",
       "      <td>68 days 02:18:38.660278452</td>\n",
       "      <td>184 days 16:31:35.881562538</td>\n",
       "      <td>0 days 00:00:00</td>\n",
       "      <td>0 days 14:43:34</td>\n",
       "      <td>13 days 09:49:32</td>\n",
       "      <td>64 days 11:07:38</td>\n",
       "      <td>4246 days 16:20:15</td>\n",
       "    </tr>\n",
       "    <tr>\n",
       "      <th>DOE</th>\n",
       "      <td>397</td>\n",
       "      <td>23 days 13:24:39.513853904</td>\n",
       "      <td>77 days 19:16:04.190156643</td>\n",
       "      <td>0 days 00:09:36</td>\n",
       "      <td>1 days 06:18:06</td>\n",
       "      <td>4 days 14:52:28</td>\n",
       "      <td>8 days 21:19:55</td>\n",
       "      <td>652 days 03:26:05</td>\n",
       "    </tr>\n",
       "    <tr>\n",
       "      <th>DOF</th>\n",
       "      <td>62035</td>\n",
       "      <td>4 days 20:30:04.630305472</td>\n",
       "      <td>8 days 03:34:10.726042648</td>\n",
       "      <td>0 days 00:01:27</td>\n",
       "      <td>0 days 21:10:54.500000</td>\n",
       "      <td>1 days 22:45:06</td>\n",
       "      <td>5 days 15:07:05</td>\n",
       "      <td>189 days 04:08:30</td>\n",
       "    </tr>\n",
       "    <tr>\n",
       "      <th>DOHMH</th>\n",
       "      <td>10869</td>\n",
       "      <td>8 days 06:55:13.980678995</td>\n",
       "      <td>387 days 10:52:27.889405388</td>\n",
       "      <td>-40321 days +07:32:32</td>\n",
       "      <td>0 days 04:39:18</td>\n",
       "      <td>3 days 14:54:59</td>\n",
       "      <td>11 days 00:00:00</td>\n",
       "      <td>581 days 01:44:09</td>\n",
       "    </tr>\n",
       "    <tr>\n",
       "      <th>DOITT</th>\n",
       "      <td>158</td>\n",
       "      <td>17 days 01:45:27.645569620</td>\n",
       "      <td>17 days 09:42:12.462090570</td>\n",
       "      <td>0 days 20:12:20</td>\n",
       "      <td>12 days 01:24:01.500000</td>\n",
       "      <td>14 days 17:49:33</td>\n",
       "      <td>18 days 18:02:08.500000</td>\n",
       "      <td>165 days 00:01:33</td>\n",
       "    </tr>\n",
       "    <tr>\n",
       "      <th>DORIS</th>\n",
       "      <td>53</td>\n",
       "      <td>3 days 20:56:12.698113207</td>\n",
       "      <td>4 days 09:09:43.218568387</td>\n",
       "      <td>0 days 01:24:57</td>\n",
       "      <td>1 days 00:02:49</td>\n",
       "      <td>1 days 00:03:53</td>\n",
       "      <td>7 days 05:50:21</td>\n",
       "      <td>16 days 07:00:54</td>\n",
       "    </tr>\n",
       "    <tr>\n",
       "      <th>DOT</th>\n",
       "      <td>524475</td>\n",
       "      <td>5 days 14:45:18.252221745</td>\n",
       "      <td>28 days 21:26:15.601295622</td>\n",
       "      <td>-368 days +23:59:00</td>\n",
       "      <td>0 days 00:00:00</td>\n",
       "      <td>0 days 13:23:01</td>\n",
       "      <td>2 days 18:43:17</td>\n",
       "      <td>2367 days 06:25:00</td>\n",
       "    </tr>\n",
       "    <tr>\n",
       "      <th>DPR</th>\n",
       "      <td>33539</td>\n",
       "      <td>12 days 04:39:49.397268851</td>\n",
       "      <td>47 days 14:54:20.819337835</td>\n",
       "      <td>0 days 00:00:00</td>\n",
       "      <td>0 days 18:08:30</td>\n",
       "      <td>2 days 21:41:40</td>\n",
       "      <td>8 days 16:03:10.500000</td>\n",
       "      <td>1489 days 22:14:14</td>\n",
       "    </tr>\n",
       "    <tr>\n",
       "      <th>DSNY</th>\n",
       "      <td>451441</td>\n",
       "      <td>4 days 11:16:33.815763300</td>\n",
       "      <td>19 days 02:32:10.730396666</td>\n",
       "      <td>-159 days +00:10:00</td>\n",
       "      <td>0 days 23:35:00</td>\n",
       "      <td>1 days 21:58:00</td>\n",
       "      <td>3 days 22:10:00</td>\n",
       "      <td>3302 days 05:09:34</td>\n",
       "    </tr>\n",
       "    <tr>\n",
       "      <th>DVS</th>\n",
       "      <td>0</td>\n",
       "      <td>NaT</td>\n",
       "      <td>NaT</td>\n",
       "      <td>NaT</td>\n",
       "      <td>NaT</td>\n",
       "      <td>NaT</td>\n",
       "      <td>NaT</td>\n",
       "      <td>NaT</td>\n",
       "    </tr>\n",
       "    <tr>\n",
       "      <th>EDC</th>\n",
       "      <td>184</td>\n",
       "      <td>35 days 20:03:47.304347826</td>\n",
       "      <td>79 days 18:43:43.896481993</td>\n",
       "      <td>0 days 00:00:01</td>\n",
       "      <td>13 days 03:44:59.500000</td>\n",
       "      <td>20 days 04:10:08</td>\n",
       "      <td>32 days 23:20:23.250000</td>\n",
       "      <td>604 days 21:39:20</td>\n",
       "    </tr>\n",
       "    <tr>\n",
       "      <th>HPD</th>\n",
       "      <td>1922384</td>\n",
       "      <td>11 days 12:36:53.447180168</td>\n",
       "      <td>21 days 17:09:38.573008801</td>\n",
       "      <td>-4 days +00:00:00</td>\n",
       "      <td>3 days 00:00:00</td>\n",
       "      <td>6 days 00:00:00</td>\n",
       "      <td>15 days 00:00:00</td>\n",
       "      <td>2366 days 00:00:00</td>\n",
       "    </tr>\n",
       "    <tr>\n",
       "      <th>HRA</th>\n",
       "      <td>43616</td>\n",
       "      <td>0 days 00:00:54.680873991</td>\n",
       "      <td>0 days 00:01:17.254935148</td>\n",
       "      <td>0 days 00:00:02</td>\n",
       "      <td>0 days 00:00:21</td>\n",
       "      <td>0 days 00:00:39</td>\n",
       "      <td>0 days 00:00:57</td>\n",
       "      <td>0 days 01:00:41</td>\n",
       "    </tr>\n",
       "    <tr>\n",
       "      <th>NYCEM</th>\n",
       "      <td>520</td>\n",
       "      <td>16 days 00:25:52.934615384</td>\n",
       "      <td>13 days 21:36:39.918804134</td>\n",
       "      <td>0 days 00:14:58</td>\n",
       "      <td>4 days 19:04:57.500000</td>\n",
       "      <td>12 days 18:20:29.500000</td>\n",
       "      <td>24 days 05:24:29.250000</td>\n",
       "      <td>60 days 04:49:29</td>\n",
       "    </tr>\n",
       "    <tr>\n",
       "      <th>NYPD</th>\n",
       "      <td>278828</td>\n",
       "      <td>-1 days +17:13:31.370282038</td>\n",
       "      <td>139 days 05:03:43.472717080</td>\n",
       "      <td>-42442 days +23:39:04</td>\n",
       "      <td>0 days 01:08:29</td>\n",
       "      <td>0 days 02:29:28</td>\n",
       "      <td>0 days 04:56:53</td>\n",
       "      <td>179 days 20:08:34</td>\n",
       "    </tr>\n",
       "    <tr>\n",
       "      <th>TAX</th>\n",
       "      <td>0</td>\n",
       "      <td>NaT</td>\n",
       "      <td>NaT</td>\n",
       "      <td>NaT</td>\n",
       "      <td>NaT</td>\n",
       "      <td>NaT</td>\n",
       "      <td>NaT</td>\n",
       "      <td>NaT</td>\n",
       "    </tr>\n",
       "    <tr>\n",
       "      <th>TLC</th>\n",
       "      <td>4065</td>\n",
       "      <td>40 days 13:21:01.182287823</td>\n",
       "      <td>680 days 20:58:28.144494104</td>\n",
       "      <td>-42359 days +23:14:05</td>\n",
       "      <td>0 days 00:01:01</td>\n",
       "      <td>33 days 23:02:16</td>\n",
       "      <td>68 days 18:12:58</td>\n",
       "      <td>3041 days 04:04:24</td>\n",
       "    </tr>\n",
       "  </tbody>\n",
       "</table>\n",
       "</div>"
      ],
      "text/plain": [
       "          count                        mean                         std  \\\n",
       "agency                                                                    \n",
       "3-1-1        34   0 days 00:00:45.117647058   0 days 00:01:16.105494846   \n",
       "ACS           0                         NaT                         NaT   \n",
       "COIB          0                         NaT                         NaT   \n",
       "DCA        7715   7 days 21:00:02.498509397  24 days 02:24:37.424020452   \n",
       "DCAS          0                         NaT                         NaT   \n",
       "DCP           0                         NaT                         NaT   \n",
       "DEP      232419   6 days 23:59:29.412053231  46 days 14:09:49.814494835   \n",
       "DFTA       3137   9 days 18:42:21.829454893   5 days 19:08:37.471303582   \n",
       "DHS        1132   1 days 00:03:26.994699646  17 days 17:31:01.665163370   \n",
       "DOB      338801  68 days 02:18:38.660278452 184 days 16:31:35.881562538   \n",
       "DOE         397  23 days 13:24:39.513853904  77 days 19:16:04.190156643   \n",
       "DOF       62035   4 days 20:30:04.630305472   8 days 03:34:10.726042648   \n",
       "DOHMH     10869   8 days 06:55:13.980678995 387 days 10:52:27.889405388   \n",
       "DOITT       158  17 days 01:45:27.645569620  17 days 09:42:12.462090570   \n",
       "DORIS        53   3 days 20:56:12.698113207   4 days 09:09:43.218568387   \n",
       "DOT      524475   5 days 14:45:18.252221745  28 days 21:26:15.601295622   \n",
       "DPR       33539  12 days 04:39:49.397268851  47 days 14:54:20.819337835   \n",
       "DSNY     451441   4 days 11:16:33.815763300  19 days 02:32:10.730396666   \n",
       "DVS           0                         NaT                         NaT   \n",
       "EDC         184  35 days 20:03:47.304347826  79 days 18:43:43.896481993   \n",
       "HPD     1922384  11 days 12:36:53.447180168  21 days 17:09:38.573008801   \n",
       "HRA       43616   0 days 00:00:54.680873991   0 days 00:01:17.254935148   \n",
       "NYCEM       520  16 days 00:25:52.934615384  13 days 21:36:39.918804134   \n",
       "NYPD     278828 -1 days +17:13:31.370282038 139 days 05:03:43.472717080   \n",
       "TAX           0                         NaT                         NaT   \n",
       "TLC        4065  40 days 13:21:01.182287823 680 days 20:58:28.144494104   \n",
       "\n",
       "                         min                     25%                     50%  \\\n",
       "agency                                                                         \n",
       "3-1-1        0 days 00:00:03  0 days 00:00:17.500000         0 days 00:00:35   \n",
       "ACS                      NaT                     NaT                     NaT   \n",
       "COIB                     NaT                     NaT                     NaT   \n",
       "DCA          0 days 00:15:51  1 days 01:32:23.500000         2 days 17:54:37   \n",
       "DCAS                     NaT                     NaT                     NaT   \n",
       "DCP                      NaT                     NaT                     NaT   \n",
       "DEP     -1062 days +08:42:00         0 days 03:01:00         0 days 23:20:00   \n",
       "DFTA         0 days 00:37:46         4 days 07:15:15        10 days 23:25:31   \n",
       "DHS          0 days 00:00:40  0 days 00:38:20.250000  0 days 01:34:13.500000   \n",
       "DOB          0 days 00:00:00         0 days 14:43:34        13 days 09:49:32   \n",
       "DOE          0 days 00:09:36         1 days 06:18:06         4 days 14:52:28   \n",
       "DOF          0 days 00:01:27  0 days 21:10:54.500000         1 days 22:45:06   \n",
       "DOHMH  -40321 days +07:32:32         0 days 04:39:18         3 days 14:54:59   \n",
       "DOITT        0 days 20:12:20 12 days 01:24:01.500000        14 days 17:49:33   \n",
       "DORIS        0 days 01:24:57         1 days 00:02:49         1 days 00:03:53   \n",
       "DOT      -368 days +23:59:00         0 days 00:00:00         0 days 13:23:01   \n",
       "DPR          0 days 00:00:00         0 days 18:08:30         2 days 21:41:40   \n",
       "DSNY     -159 days +00:10:00         0 days 23:35:00         1 days 21:58:00   \n",
       "DVS                      NaT                     NaT                     NaT   \n",
       "EDC          0 days 00:00:01 13 days 03:44:59.500000        20 days 04:10:08   \n",
       "HPD        -4 days +00:00:00         3 days 00:00:00         6 days 00:00:00   \n",
       "HRA          0 days 00:00:02         0 days 00:00:21         0 days 00:00:39   \n",
       "NYCEM        0 days 00:14:58  4 days 19:04:57.500000 12 days 18:20:29.500000   \n",
       "NYPD   -42442 days +23:39:04         0 days 01:08:29         0 days 02:29:28   \n",
       "TAX                      NaT                     NaT                     NaT   \n",
       "TLC    -42359 days +23:14:05         0 days 00:01:01        33 days 23:02:16   \n",
       "\n",
       "                           75%                max  \n",
       "agency                                             \n",
       "3-1-1          0 days 00:00:42    0 days 00:07:44  \n",
       "ACS                        NaT                NaT  \n",
       "COIB                       NaT                NaT  \n",
       "DCA    15 days 04:34:50.500000  537 days 20:01:13  \n",
       "DCAS                       NaT                NaT  \n",
       "DCP                        NaT                NaT  \n",
       "DEP            4 days 05:21:00 3562 days 03:17:00  \n",
       "DFTA          13 days 21:43:01   33 days 17:46:05  \n",
       "DHS     0 days 04:23:02.750000  561 days 00:34:39  \n",
       "DOB           64 days 11:07:38 4246 days 16:20:15  \n",
       "DOE            8 days 21:19:55  652 days 03:26:05  \n",
       "DOF            5 days 15:07:05  189 days 04:08:30  \n",
       "DOHMH         11 days 00:00:00  581 days 01:44:09  \n",
       "DOITT  18 days 18:02:08.500000  165 days 00:01:33  \n",
       "DORIS          7 days 05:50:21   16 days 07:00:54  \n",
       "DOT            2 days 18:43:17 2367 days 06:25:00  \n",
       "DPR     8 days 16:03:10.500000 1489 days 22:14:14  \n",
       "DSNY           3 days 22:10:00 3302 days 05:09:34  \n",
       "DVS                        NaT                NaT  \n",
       "EDC    32 days 23:20:23.250000  604 days 21:39:20  \n",
       "HPD           15 days 00:00:00 2366 days 00:00:00  \n",
       "HRA            0 days 00:00:57    0 days 01:00:41  \n",
       "NYCEM  24 days 05:24:29.250000   60 days 04:49:29  \n",
       "NYPD           0 days 04:56:53  179 days 20:08:34  \n",
       "TAX                        NaT                NaT  \n",
       "TLC           68 days 18:12:58 3041 days 04:04:24  "
      ]
     },
     "execution_count": 408,
     "metadata": {},
     "output_type": "execute_result"
    }
   ],
   "source": [
    "df.groupby('agency').time_to_fix.describe()"
   ]
  },
  {
   "cell_type": "markdown",
   "id": "d9805543",
   "metadata": {},
   "source": [
    "### Now, an alternative\n",
    "\n",
    "Seems a little busy, yeah? **You can also do smaller, custom aggregations.**\n",
    "\n",
    "Try something like this:\n",
    "\n",
    "```python\n",
    "# Multiple aggregations of one column\n",
    "df.groupby('agency').time_to_fix.agg(['median', 'size'])\n",
    "\n",
    "# You can also do something like this to reach multiple columns\n",
    "df.groupby('agency').agg({\n",
    "    'time_to_fix': ['median', 'size']\n",
    "})\n",
    "```"
   ]
  },
  {
   "cell_type": "code",
   "execution_count": 409,
   "id": "90413000",
   "metadata": {},
   "outputs": [
    {
     "data": {
      "text/html": [
       "<div>\n",
       "<style scoped>\n",
       "    .dataframe tbody tr th:only-of-type {\n",
       "        vertical-align: middle;\n",
       "    }\n",
       "\n",
       "    .dataframe tbody tr th {\n",
       "        vertical-align: top;\n",
       "    }\n",
       "\n",
       "    .dataframe thead th {\n",
       "        text-align: right;\n",
       "    }\n",
       "</style>\n",
       "<table border=\"1\" class=\"dataframe\">\n",
       "  <thead>\n",
       "    <tr style=\"text-align: right;\">\n",
       "      <th></th>\n",
       "      <th>count</th>\n",
       "      <th>mean</th>\n",
       "    </tr>\n",
       "    <tr>\n",
       "      <th>agency</th>\n",
       "      <th></th>\n",
       "      <th></th>\n",
       "    </tr>\n",
       "  </thead>\n",
       "  <tbody>\n",
       "    <tr>\n",
       "      <th>NYPD</th>\n",
       "      <td>278828</td>\n",
       "      <td>-1 days +17:13:31.370282038</td>\n",
       "    </tr>\n",
       "    <tr>\n",
       "      <th>3-1-1</th>\n",
       "      <td>34</td>\n",
       "      <td>0 days 00:00:45.117647058</td>\n",
       "    </tr>\n",
       "    <tr>\n",
       "      <th>HRA</th>\n",
       "      <td>43616</td>\n",
       "      <td>0 days 00:00:54.680873991</td>\n",
       "    </tr>\n",
       "    <tr>\n",
       "      <th>DHS</th>\n",
       "      <td>1132</td>\n",
       "      <td>1 days 00:03:26.994699646</td>\n",
       "    </tr>\n",
       "    <tr>\n",
       "      <th>DORIS</th>\n",
       "      <td>53</td>\n",
       "      <td>3 days 20:56:12.698113207</td>\n",
       "    </tr>\n",
       "    <tr>\n",
       "      <th>DSNY</th>\n",
       "      <td>451441</td>\n",
       "      <td>4 days 11:16:33.815763300</td>\n",
       "    </tr>\n",
       "    <tr>\n",
       "      <th>DOF</th>\n",
       "      <td>62035</td>\n",
       "      <td>4 days 20:30:04.630305472</td>\n",
       "    </tr>\n",
       "    <tr>\n",
       "      <th>DOT</th>\n",
       "      <td>524475</td>\n",
       "      <td>5 days 14:45:18.252221745</td>\n",
       "    </tr>\n",
       "    <tr>\n",
       "      <th>DEP</th>\n",
       "      <td>232419</td>\n",
       "      <td>6 days 23:59:29.412053231</td>\n",
       "    </tr>\n",
       "    <tr>\n",
       "      <th>DCA</th>\n",
       "      <td>7715</td>\n",
       "      <td>7 days 21:00:02.498509397</td>\n",
       "    </tr>\n",
       "    <tr>\n",
       "      <th>DOHMH</th>\n",
       "      <td>10869</td>\n",
       "      <td>8 days 06:55:13.980678995</td>\n",
       "    </tr>\n",
       "    <tr>\n",
       "      <th>DFTA</th>\n",
       "      <td>3137</td>\n",
       "      <td>9 days 18:42:21.829454893</td>\n",
       "    </tr>\n",
       "    <tr>\n",
       "      <th>HPD</th>\n",
       "      <td>1922384</td>\n",
       "      <td>11 days 12:36:53.447180167</td>\n",
       "    </tr>\n",
       "    <tr>\n",
       "      <th>DPR</th>\n",
       "      <td>33539</td>\n",
       "      <td>12 days 04:39:49.397268851</td>\n",
       "    </tr>\n",
       "    <tr>\n",
       "      <th>NYCEM</th>\n",
       "      <td>520</td>\n",
       "      <td>16 days 00:25:52.934615384</td>\n",
       "    </tr>\n",
       "    <tr>\n",
       "      <th>DOITT</th>\n",
       "      <td>158</td>\n",
       "      <td>17 days 01:45:27.645569620</td>\n",
       "    </tr>\n",
       "    <tr>\n",
       "      <th>DOE</th>\n",
       "      <td>397</td>\n",
       "      <td>23 days 13:24:39.513853904</td>\n",
       "    </tr>\n",
       "    <tr>\n",
       "      <th>EDC</th>\n",
       "      <td>184</td>\n",
       "      <td>35 days 20:03:47.304347826</td>\n",
       "    </tr>\n",
       "    <tr>\n",
       "      <th>TLC</th>\n",
       "      <td>4065</td>\n",
       "      <td>40 days 13:21:01.182287822</td>\n",
       "    </tr>\n",
       "    <tr>\n",
       "      <th>DOB</th>\n",
       "      <td>338801</td>\n",
       "      <td>68 days 02:18:38.660278452</td>\n",
       "    </tr>\n",
       "    <tr>\n",
       "      <th>ACS</th>\n",
       "      <td>0</td>\n",
       "      <td>NaT</td>\n",
       "    </tr>\n",
       "    <tr>\n",
       "      <th>COIB</th>\n",
       "      <td>0</td>\n",
       "      <td>NaT</td>\n",
       "    </tr>\n",
       "    <tr>\n",
       "      <th>DCAS</th>\n",
       "      <td>0</td>\n",
       "      <td>NaT</td>\n",
       "    </tr>\n",
       "    <tr>\n",
       "      <th>DCP</th>\n",
       "      <td>0</td>\n",
       "      <td>NaT</td>\n",
       "    </tr>\n",
       "    <tr>\n",
       "      <th>DVS</th>\n",
       "      <td>0</td>\n",
       "      <td>NaT</td>\n",
       "    </tr>\n",
       "    <tr>\n",
       "      <th>TAX</th>\n",
       "      <td>0</td>\n",
       "      <td>NaT</td>\n",
       "    </tr>\n",
       "  </tbody>\n",
       "</table>\n",
       "</div>"
      ],
      "text/plain": [
       "          count                        mean\n",
       "agency                                     \n",
       "NYPD     278828 -1 days +17:13:31.370282038\n",
       "3-1-1        34   0 days 00:00:45.117647058\n",
       "HRA       43616   0 days 00:00:54.680873991\n",
       "DHS        1132   1 days 00:03:26.994699646\n",
       "DORIS        53   3 days 20:56:12.698113207\n",
       "DSNY     451441   4 days 11:16:33.815763300\n",
       "DOF       62035   4 days 20:30:04.630305472\n",
       "DOT      524475   5 days 14:45:18.252221745\n",
       "DEP      232419   6 days 23:59:29.412053231\n",
       "DCA        7715   7 days 21:00:02.498509397\n",
       "DOHMH     10869   8 days 06:55:13.980678995\n",
       "DFTA       3137   9 days 18:42:21.829454893\n",
       "HPD     1922384  11 days 12:36:53.447180167\n",
       "DPR       33539  12 days 04:39:49.397268851\n",
       "NYCEM       520  16 days 00:25:52.934615384\n",
       "DOITT       158  17 days 01:45:27.645569620\n",
       "DOE         397  23 days 13:24:39.513853904\n",
       "EDC         184  35 days 20:03:47.304347826\n",
       "TLC        4065  40 days 13:21:01.182287822\n",
       "DOB      338801  68 days 02:18:38.660278452\n",
       "ACS           0                         NaT\n",
       "COIB          0                         NaT\n",
       "DCAS          0                         NaT\n",
       "DCP           0                         NaT\n",
       "DVS           0                         NaT\n",
       "TAX           0                         NaT"
      ]
     },
     "execution_count": 409,
     "metadata": {},
     "output_type": "execute_result"
    }
   ],
   "source": [
    "df.groupby('agency').time_to_fix.agg(['count', 'mean']).sort_values(by='mean') #use median instead"
   ]
  },
  {
   "cell_type": "markdown",
   "id": "d1cf1865",
   "metadata": {},
   "source": [
    "## Seems weird that NYPD time-to-close is so fast. Can we break that down by complaint type?\n",
    "\n",
    "Remember the order: \n",
    "\n",
    "1. Filter\n",
    "2. Group\n",
    "3. Grab a column\n",
    "4. Do something with it\n",
    "5. Sort"
   ]
  },
  {
   "cell_type": "code",
   "execution_count": 410,
   "id": "c0b0208b",
   "metadata": {},
   "outputs": [],
   "source": [
    "#data type wrong?"
   ]
  },
  {
   "cell_type": "code",
   "execution_count": 411,
   "id": "11c4f90f",
   "metadata": {},
   "outputs": [
    {
     "data": {
      "text/plain": [
       "complaint_type\n",
       "Blocked Driveway              -3 days +07:15:54.026892522\n",
       "Encampment                                0 days 01:23:34\n",
       "Homeless Street Condition       0 days 02:08:40.641025641\n",
       "Animal-Abuse                    0 days 02:19:17.402597402\n",
       "Illegal Fireworks                  0 days 02:42:36.700000\n",
       "Traffic/Illegal Parking         0 days 02:44:14.578947368\n",
       "Non-Emergency Police Matter     0 days 02:44:19.353900470\n",
       "Noise - House of Worship        0 days 02:44:42.772435897\n",
       "Noise - Vehicle                 0 days 02:45:39.629214191\n",
       "Disorderly Youth                0 days 02:56:51.717391304\n",
       "Noise - Commercial              0 days 03:02:35.929450211\n",
       "Noise - Park                    0 days 03:05:06.061608300\n",
       "Traffic                         0 days 03:11:23.892993630\n",
       "Noise - Street/Sidewalk         0 days 03:14:04.852310924\n",
       "Posting Advertisement           0 days 03:24:10.830188679\n",
       "Urinating in Public                0 days 03:29:09.812500\n",
       "Noise - Residential             0 days 03:44:51.069732466\n",
       "Vending                         0 days 03:49:07.453342157\n",
       "Homeless Encampment             0 days 03:58:35.696443341\n",
       "Drinking                        0 days 04:01:11.292338709\n",
       "Illegal Parking                 0 days 04:26:36.795339990\n",
       "Bike/Roller/Skate Chronic       0 days 04:37:16.130208333\n",
       "Panhandling                     0 days 04:50:40.597701149\n",
       "Drug Activity                   0 days 05:07:14.107876712\n",
       "Animal Abuse                    0 days 05:09:56.271039114\n",
       "Graffiti                        0 days 06:58:55.671232876\n",
       "Derelict Vehicle                0 days 08:39:54.555421867\n",
       "Abandoned Vehicle               0 days 09:18:24.362162162\n",
       "Ferry Complaint                                       NaT\n",
       "Ferry Permit                                          NaT\n",
       "Maintenance or Facility                               NaT\n",
       "Name: time_to_fix, dtype: timedelta64[ns]"
      ]
     },
     "execution_count": 411,
     "metadata": {},
     "output_type": "execute_result"
    }
   ],
   "source": [
    "df[df.agency == 'NYPD'].groupby('complaint_type').time_to_fix.mean().sort_values() #use median instead"
   ]
  },
  {
   "cell_type": "markdown",
   "id": "c5b5caf5",
   "metadata": {},
   "source": [
    "## Back to median fix time for all agencies: do these values change based on the borough?\n",
    "\n",
    "First, use `groupby` to get the median time to fix per agency in each borough. You can use something like `pd.set_option(\"display.max_rows\", 200)` if you can't see all of the results by default!"
   ]
  },
  {
   "cell_type": "code",
   "execution_count": 412,
   "id": "f91d7ae2",
   "metadata": {},
   "outputs": [
    {
     "data": {
      "text/plain": [
       "agency  borough      \n",
       "DOITT   Unspecified           165 days 00:01:33\n",
       "TLC     STATEN ISLAND          43 days 19:21:39\n",
       "        BRONX                  43 days 11:04:37\n",
       "        MANHATTAN              41 days 16:19:18\n",
       "        BROOKLYN               36 days 21:17:28\n",
       "        QUEENS          29 days 20:15:18.500000\n",
       "EDC     BRONX                  29 days 09:57:57\n",
       "        QUEENS          24 days 02:46:23.500000\n",
       "DOB     BRONX                  23 days 11:10:16\n",
       "EDC     BROOKLYN               22 days 08:39:46\n",
       "        MANHATTAN              19 days 00:22:46\n",
       "        STATEN ISLAND   17 days 22:38:35.500000\n",
       "DOITT   STATEN ISLAND          17 days 21:47:06\n",
       "        QUEENS          16 days 00:37:46.500000\n",
       "DOB     QUEENS                 15 days 11:50:04\n",
       "DOITT   BRONX                  14 days 15:53:27\n",
       "        MANHATTAN              14 days 14:11:52\n",
       "        BROOKLYN               13 days 21:53:22\n",
       "NYCEM   Unspecified     12 days 03:10:46.500000\n",
       "DFTA    BRONX           12 days 00:18:41.500000\n",
       "DOB     BROOKLYN               11 days 13:45:20\n",
       "DFTA    QUEENS                 11 days 03:11:47\n",
       "        BROOKLYN               10 days 18:00:50\n",
       "DOB     MANHATTAN              10 days 09:35:49\n",
       "DFTA    MANHATTAN              10 days 06:31:50\n",
       "        STATEN ISLAND          10 days 05:12:26\n",
       "        Unspecified             9 days 14:38:33\n",
       "DOB     STATEN ISLAND           9 days 10:31:41\n",
       "DOE     STATEN ISLAND           7 days 17:01:37\n",
       "        Unspecified             7 days 01:46:29\n",
       "HPD     QUEENS                  7 days 00:00:00\n",
       "        STATEN ISLAND           7 days 00:00:00\n",
       "        Unspecified             7 days 00:00:00\n",
       "        MANHATTAN               6 days 00:00:00\n",
       "DOHMH   STATEN ISLAND           6 days 00:00:00\n",
       "HPD     BRONX                   5 days 00:00:00\n",
       "        BROOKLYN                5 days 00:00:00\n",
       "DOE     QUEENS                  4 days 21:20:48\n",
       "DOHMH   QUEENS           4 days 14:09:32.500000\n",
       "DOE     MANHATTAN               4 days 02:16:48\n",
       "DPR     MANHATTAN               4 days 00:11:15\n",
       "DOHMH   BROOKLYN                4 days 00:00:00\n",
       "DOE     BRONX            3 days 16:47:19.500000\n",
       "DOF     Unspecified      3 days 05:37:03.500000\n",
       "DOHMH   MANHATTAN               2 days 23:59:18\n",
       "DPR     QUEENS           2 days 21:19:42.500000\n",
       "DCA     Unspecified             2 days 20:43:35\n",
       "        QUEENS           2 days 19:20:21.500000\n",
       "        STATEN ISLAND    2 days 18:56:39.500000\n",
       "DOE     BROOKLYN                2 days 17:40:14\n",
       "DCA     BRONX                   2 days 17:29:31\n",
       "DPR     Unspecified             2 days 16:50:57\n",
       "        BRONX                   2 days 15:46:51\n",
       "DCA     BROOKLYN                2 days 14:11:59\n",
       "        MANHATTAN               2 days 13:47:58\n",
       "DPR     BROOKLYN                2 days 10:39:21\n",
       "DSNY    QUEENS                  2 days 00:45:00\n",
       "DOHMH   BRONX                   2 days 00:00:00\n",
       "DPR     STATEN ISLAND           1 days 23:50:42\n",
       "DSNY    STATEN ISLAND           1 days 23:29:00\n",
       "DOF     BRONX                   1 days 23:05:14\n",
       "DSNY    BROOKLYN                1 days 22:50:00\n",
       "DEP     MANHATTAN               1 days 21:12:00\n",
       "DOF     MANHATTAN               1 days 21:00:45\n",
       "        QUEENS                  1 days 19:22:39\n",
       "        BROOKLYN                1 days 19:22:33\n",
       "DSNY    MANHATTAN               1 days 12:30:00\n",
       "        Unspecified             1 days 09:52:30\n",
       "DOF     STATEN ISLAND           1 days 06:25:23\n",
       "DSNY    BRONX                   1 days 05:29:00\n",
       "DORIS   Unspecified             1 days 00:03:53\n",
       "DOT     STATEN ISLAND    0 days 23:44:22.500000\n",
       "DOB     Unspecified             0 days 21:32:19\n",
       "DOT     Unspecified             0 days 20:45:03\n",
       "DEP     QUEENS                  0 days 20:32:00\n",
       "DOT     MANHATTAN        0 days 20:28:13.500000\n",
       "DEP     BRONX                   0 days 20:08:00\n",
       "        STATEN ISLAND           0 days 18:56:00\n",
       "        BROOKLYN                0 days 17:59:00\n",
       "DOHMH   Unspecified      0 days 17:43:22.500000\n",
       "DOT     QUEENS                  0 days 14:18:00\n",
       "        BROOKLYN                0 days 08:38:00\n",
       "DEP     Unspecified             0 days 07:12:00\n",
       "NYPD    Unspecified             0 days 04:51:38\n",
       "        BRONX                   0 days 03:36:06\n",
       "DOT     BRONX                   0 days 02:35:00\n",
       "NYPD    QUEENS                  0 days 02:30:04\n",
       "        BROOKLYN         0 days 02:29:00.500000\n",
       "        STATEN ISLAND    0 days 02:28:43.500000\n",
       "        MANHATTAN               0 days 01:49:47\n",
       "DHS     BROOKLYN         0 days 01:40:54.500000\n",
       "        MANHATTAN               0 days 01:35:39\n",
       "        BRONX                   0 days 01:26:01\n",
       "        QUEENS                  0 days 01:12:39\n",
       "        STATEN ISLAND           0 days 01:11:11\n",
       "3-1-1   QUEENS           0 days 00:00:49.500000\n",
       "HRA     Unspecified             0 days 00:00:39\n",
       "3-1-1   BROOKLYN         0 days 00:00:37.500000\n",
       "        MANHATTAN        0 days 00:00:28.500000\n",
       "TLC     Unspecified             0 days 00:00:28\n",
       "3-1-1   Unspecified      0 days 00:00:07.500000\n",
       "ACS     Unspecified                         NaT\n",
       "COIB    Unspecified                         NaT\n",
       "DCAS    Unspecified                         NaT\n",
       "DCP     Unspecified                         NaT\n",
       "DHS     Unspecified                         NaT\n",
       "DVS     Unspecified                         NaT\n",
       "TAX     Unspecified                         NaT\n",
       "Name: time_to_fix, dtype: timedelta64[ns]"
      ]
     },
     "execution_count": 412,
     "metadata": {},
     "output_type": "execute_result"
    }
   ],
   "source": [
    "pd.set_option(\"display.max_rows\", 200)\n",
    "df.groupby(['agency', 'borough']).time_to_fix.median().sort_values(ascending=False)"
   ]
  },
  {
   "cell_type": "markdown",
   "id": "04727585",
   "metadata": {},
   "source": [
    "### Or, use another technique!"
   ]
  },
  {
   "cell_type": "markdown",
   "id": "be7a8f72",
   "metadata": {},
   "source": [
    "We talked about pivot table for a hot second in class, but it's (potentially) a good fit for this situation:\n",
    "\n",
    "```python\n",
    "df.pivot_table(\n",
    "    columns='what will show up as your columns',\n",
    "    index='what will show up as your rows',\n",
    "    values='the column that will show up in each cell',\n",
    "    aggfunc='the calculation(s) you want dont'\n",
    ")\n",
    "```"
   ]
  },
  {
   "cell_type": "code",
   "execution_count": null,
   "id": "bcd98dc1",
   "metadata": {},
   "outputs": [],
   "source": [
    "pivot = df.pivot_table( #could have made columns = borough, index=agency\n",
    "        index=['agency', 'borough'],\n",
    "        values='time_to_fix',\n",
    "        aggfunc='median'\n",
    "    )\n",
    "pivot"
   ]
  },
  {
   "cell_type": "markdown",
   "id": "01d10369",
   "metadata": {},
   "source": [
    "### Use the pivot table result to find the worst-performing agency in the Bronx, then compare with Staten Island\n",
    "\n",
    "Since it's a dataframe, you can use the power of `.sort_values` (twice!). Do any of the agencies have a large difference between the two?"
   ]
  },
  {
   "cell_type": "code",
   "execution_count": 414,
   "id": "e09a49d8",
   "metadata": {},
   "outputs": [
    {
     "data": {
      "text/html": [
       "<div>\n",
       "<style scoped>\n",
       "    .dataframe tbody tr th:only-of-type {\n",
       "        vertical-align: middle;\n",
       "    }\n",
       "\n",
       "    .dataframe tbody tr th {\n",
       "        vertical-align: top;\n",
       "    }\n",
       "\n",
       "    .dataframe thead th {\n",
       "        text-align: right;\n",
       "    }\n",
       "</style>\n",
       "<table border=\"1\" class=\"dataframe\">\n",
       "  <thead>\n",
       "    <tr style=\"text-align: right;\">\n",
       "      <th></th>\n",
       "      <th></th>\n",
       "      <th>time_to_fix</th>\n",
       "    </tr>\n",
       "    <tr>\n",
       "      <th>agency</th>\n",
       "      <th>borough</th>\n",
       "      <th></th>\n",
       "    </tr>\n",
       "  </thead>\n",
       "  <tbody>\n",
       "    <tr>\n",
       "      <th>TLC</th>\n",
       "      <th>BRONX</th>\n",
       "      <td>43 days 11:04:37</td>\n",
       "    </tr>\n",
       "  </tbody>\n",
       "</table>\n",
       "</div>"
      ],
      "text/plain": [
       "                    time_to_fix\n",
       "agency borough                 \n",
       "TLC    BRONX   43 days 11:04:37"
      ]
     },
     "execution_count": 414,
     "metadata": {},
     "output_type": "execute_result"
    }
   ],
   "source": [
    "pivot.sort_values(by=['borough', 'time_to_fix'], ascending=(True, False)).head(1)"
   ]
  },
  {
   "cell_type": "code",
   "execution_count": 415,
   "id": "d195c2d3",
   "metadata": {
    "scrolled": false
   },
   "outputs": [],
   "source": [
    "pivot = pivot.reset_index()"
   ]
  },
  {
   "cell_type": "code",
   "execution_count": 416,
   "id": "1018199c",
   "metadata": {},
   "outputs": [
    {
     "data": {
      "text/html": [
       "<div>\n",
       "<style scoped>\n",
       "    .dataframe tbody tr th:only-of-type {\n",
       "        vertical-align: middle;\n",
       "    }\n",
       "\n",
       "    .dataframe tbody tr th {\n",
       "        vertical-align: top;\n",
       "    }\n",
       "\n",
       "    .dataframe thead th {\n",
       "        text-align: right;\n",
       "    }\n",
       "</style>\n",
       "<table border=\"1\" class=\"dataframe\">\n",
       "  <thead>\n",
       "    <tr style=\"text-align: right;\">\n",
       "      <th></th>\n",
       "      <th>agency</th>\n",
       "      <th>borough</th>\n",
       "      <th>time_to_fix</th>\n",
       "    </tr>\n",
       "  </thead>\n",
       "  <tbody>\n",
       "    <tr>\n",
       "      <th>99</th>\n",
       "      <td>TLC</td>\n",
       "      <td>STATEN ISLAND</td>\n",
       "      <td>43 days 19:21:39</td>\n",
       "    </tr>\n",
       "  </tbody>\n",
       "</table>\n",
       "</div>"
      ],
      "text/plain": [
       "   agency        borough      time_to_fix\n",
       "99    TLC  STATEN ISLAND 43 days 19:21:39"
      ]
     },
     "execution_count": 416,
     "metadata": {},
     "output_type": "execute_result"
    }
   ],
   "source": [
    "pivot[pivot.borough == 'STATEN ISLAND'].sort_values(by='time_to_fix', ascending=False).head(1)"
   ]
  },
  {
   "cell_type": "markdown",
   "id": "ce6c5d0b",
   "metadata": {},
   "source": [
    "## What were the top ten 311 types of complaints on Thanksgiving 2020? Are they different than the day before Thanksgiving?\n",
    "\n",
    "**Finding exact dates is awful, honestly.** While you can do something like this to ask for rows after a specific date:\n",
    "\n",
    "```python\n",
    "df[df.date_column >= '2020-01-01']\n",
    "```\n",
    "\n",
    "You, for some reason, can't ask for an **exact match** unless you're really looking for exactly at midnight. For example, this won't give you what you want:\n",
    "\n",
    "```python\n",
    "df[df.date_column == '2020-01-01']\n",
    "```\n",
    "\n",
    "Instead, the thing you need to do is this:\n",
    "\n",
    "```python\n",
    "df[(df.date_column >= '2020-01-01') & (df.date_column < '2020-01-02']\n",
    "```\n",
    "\n",
    "Everything that starts at midnight on the 1st but *is still less than midnight on the 2nd**."
   ]
  },
  {
   "cell_type": "code",
   "execution_count": 420,
   "id": "e6882c87",
   "metadata": {},
   "outputs": [
    {
     "data": {
      "text/html": [
       "<div>\n",
       "<style scoped>\n",
       "    .dataframe tbody tr th:only-of-type {\n",
       "        vertical-align: middle;\n",
       "    }\n",
       "\n",
       "    .dataframe tbody tr th {\n",
       "        vertical-align: top;\n",
       "    }\n",
       "\n",
       "    .dataframe thead th {\n",
       "        text-align: right;\n",
       "    }\n",
       "</style>\n",
       "<table border=\"1\" class=\"dataframe\">\n",
       "  <thead>\n",
       "    <tr style=\"text-align: right;\">\n",
       "      <th></th>\n",
       "      <th>unique_key</th>\n",
       "      <th>created_date</th>\n",
       "      <th>closed_date</th>\n",
       "      <th>agency</th>\n",
       "      <th>agency_name</th>\n",
       "      <th>complaint_type</th>\n",
       "      <th>descriptor</th>\n",
       "      <th>location_type</th>\n",
       "      <th>incident_zip</th>\n",
       "      <th>incident_address</th>\n",
       "      <th>address_type</th>\n",
       "      <th>city</th>\n",
       "      <th>status</th>\n",
       "      <th>borough</th>\n",
       "      <th>open_data_channel_type</th>\n",
       "      <th>time_to_fix</th>\n",
       "    </tr>\n",
       "  </thead>\n",
       "  <tbody>\n",
       "    <tr>\n",
       "      <th>2126217</th>\n",
       "      <td>48258810</td>\n",
       "      <td>2020-11-26 12:00:00</td>\n",
       "      <td>2020-11-28 12:00:00</td>\n",
       "      <td>DSNY</td>\n",
       "      <td>Department of Sanitation</td>\n",
       "      <td>Derelict Vehicles</td>\n",
       "      <td>Derelict Vehicles</td>\n",
       "      <td>Street</td>\n",
       "      <td>11233</td>\n",
       "      <td>216 ROCKAWAY AVENUE</td>\n",
       "      <td>ADDRESS</td>\n",
       "      <td>BROOKLYN</td>\n",
       "      <td>Closed</td>\n",
       "      <td>BROOKLYN</td>\n",
       "      <td>PHONE</td>\n",
       "      <td>2 days 00:00:00</td>\n",
       "    </tr>\n",
       "    <tr>\n",
       "      <th>3519724</th>\n",
       "      <td>48257127</td>\n",
       "      <td>2020-11-26 20:10:55</td>\n",
       "      <td>2020-11-27 17:09:38</td>\n",
       "      <td>DHS</td>\n",
       "      <td>Department of Homeless Services</td>\n",
       "      <td>Homeless Person Assistance</td>\n",
       "      <td>NaN</td>\n",
       "      <td>NaN</td>\n",
       "      <td>11217</td>\n",
       "      <td>4 AVENUE</td>\n",
       "      <td>INTERSECTION</td>\n",
       "      <td>BROOKLYN</td>\n",
       "      <td>Closed</td>\n",
       "      <td>BROOKLYN</td>\n",
       "      <td>PHONE</td>\n",
       "      <td>0 days 20:58:43</td>\n",
       "    </tr>\n",
       "  </tbody>\n",
       "</table>\n",
       "</div>"
      ],
      "text/plain": [
       "         unique_key        created_date         closed_date agency  \\\n",
       "2126217    48258810 2020-11-26 12:00:00 2020-11-28 12:00:00   DSNY   \n",
       "3519724    48257127 2020-11-26 20:10:55 2020-11-27 17:09:38    DHS   \n",
       "\n",
       "                             agency_name              complaint_type  \\\n",
       "2126217         Department of Sanitation           Derelict Vehicles   \n",
       "3519724  Department of Homeless Services  Homeless Person Assistance   \n",
       "\n",
       "                descriptor location_type incident_zip     incident_address  \\\n",
       "2126217  Derelict Vehicles        Street        11233  216 ROCKAWAY AVENUE   \n",
       "3519724                NaN           NaN        11217             4 AVENUE   \n",
       "\n",
       "         address_type      city  status   borough open_data_channel_type  \\\n",
       "2126217       ADDRESS  BROOKLYN  Closed  BROOKLYN                  PHONE   \n",
       "3519724  INTERSECTION  BROOKLYN  Closed  BROOKLYN                  PHONE   \n",
       "\n",
       "            time_to_fix  \n",
       "2126217 2 days 00:00:00  \n",
       "3519724 0 days 20:58:43  "
      ]
     },
     "execution_count": 420,
     "metadata": {},
     "output_type": "execute_result"
    }
   ],
   "source": [
    "df[(df.created_date >= '2020-11-26') & (df.created_date < '2020-11-27')]"
   ]
  },
  {
   "cell_type": "code",
   "execution_count": null,
   "id": "c60fc75d",
   "metadata": {},
   "outputs": [],
   "source": [
    "df[(df.created_date >= '2020-11-26') & (df.created_date < '2020-11-27')] \\\n",
    "    .complaint_type.value_counts()"
   ]
  },
  {
   "cell_type": "markdown",
   "id": "db27701d",
   "metadata": {},
   "source": [
    "## What is the most common 311 complaint types on Christmas day?\n",
    "\n",
    "And I mean *all Christmas days*, not just in certain years)\n",
    "\n",
    "* Tip: `dt.` and `&` are going to be your friend here\n",
    "* Tip: If you want to get fancy you can look up `strftime`\n",
    "* Tip: One of those is much much faster than the other"
   ]
  },
  {
   "cell_type": "code",
   "execution_count": 418,
   "id": "4b935a41",
   "metadata": {},
   "outputs": [
    {
     "data": {
      "text/plain": [
       "HEATING    1418\n",
       "Name: complaint_type, dtype: int64"
      ]
     },
     "execution_count": 418,
     "metadata": {},
     "output_type": "execute_result"
    }
   ],
   "source": [
    "df[(df.created_date.dt.month == 12) & (df.created_date.dt.day == 25)].complaint_type.value_counts().nlargest(1)"
   ]
  },
  {
   "cell_type": "markdown",
   "id": "183ca029",
   "metadata": {},
   "source": [
    "# Stories\n",
    "\n",
    "Let's approach this from the idea of **having stories and wanting to investigate them.** Fun facts:\n",
    "\n",
    "* Not all of these are reasonably answered with what our data is\n",
    "* We only have certain skills about how to analyzing the data\n",
    "* There are about six hundred approaches for each question\n",
    "\n",
    "But: **for most of these prompts there are at least a few ways you can get something interesting out of the dataset.**"
   ]
  },
  {
   "cell_type": "code",
   "execution_count": null,
   "id": "45046a03",
   "metadata": {},
   "outputs": [],
   "source": [
    "#You're assuming people complained to the same degree in each year and each firework getting shot off would trigger\n",
    "#a 311 complaint. Big differences in the number of overall complaints from year to year could destabilize the analysis "
   ]
  },
  {
   "cell_type": "markdown",
   "id": "e48a6243",
   "metadata": {},
   "source": [
    "## Sanitation and work slowdowns\n",
    "\n",
    "The Dept of Sanitation recently had a work slowdown to protest the vaccine mandate. You'd like to write about past work slowdowns that have caused garbage to pile up in the street, streets to not be swept, etc, and compare them to the current slowdown. You've also heard rumors that it was worse in Staten Island and a few Brooklyn neighborhoods - Marine Park and Canarsie - than everywhere else.\n",
    "\n",
    "Use the data to find timeframes worth researching, and note how this slowdown might compare. Also, is there anything behind the geographic issue?\n",
    "\n",
    "What assumptions is your analysis making? What could make your analysis fall apart?"
   ]
  },
  {
   "cell_type": "code",
   "execution_count": 425,
   "id": "46a342c4",
   "metadata": {},
   "outputs": [],
   "source": [
    "#Compare with 2011 Blizzard slowdown: Dec 26-28 2011\n",
    "#Vax mandate slowdown: Oct 26-28 2021\n",
    "\n",
    "sanitation = df[df.agency == 'DSNY']\n",
    "\n",
    "#Same concerns re: complaints being representative of the situation. The 2011 slowdown was also right after Christmsas\n",
    "#so the holidays may have contributed"
   ]
  },
  {
   "cell_type": "code",
   "execution_count": 426,
   "id": "9de158b9",
   "metadata": {},
   "outputs": [
    {
     "data": {
      "text/html": [
       "<div>\n",
       "<style scoped>\n",
       "    .dataframe tbody tr th:only-of-type {\n",
       "        vertical-align: middle;\n",
       "    }\n",
       "\n",
       "    .dataframe tbody tr th {\n",
       "        vertical-align: top;\n",
       "    }\n",
       "\n",
       "    .dataframe thead th {\n",
       "        text-align: right;\n",
       "    }\n",
       "</style>\n",
       "<table border=\"1\" class=\"dataframe\">\n",
       "  <thead>\n",
       "    <tr style=\"text-align: right;\">\n",
       "      <th></th>\n",
       "      <th>unique_key</th>\n",
       "      <th>created_date</th>\n",
       "      <th>closed_date</th>\n",
       "      <th>agency</th>\n",
       "      <th>agency_name</th>\n",
       "      <th>complaint_type</th>\n",
       "      <th>descriptor</th>\n",
       "      <th>location_type</th>\n",
       "      <th>incident_zip</th>\n",
       "      <th>incident_address</th>\n",
       "      <th>address_type</th>\n",
       "      <th>city</th>\n",
       "      <th>status</th>\n",
       "      <th>borough</th>\n",
       "      <th>open_data_channel_type</th>\n",
       "      <th>time_to_fix</th>\n",
       "    </tr>\n",
       "  </thead>\n",
       "  <tbody>\n",
       "    <tr>\n",
       "      <th>10</th>\n",
       "      <td>41694433</td>\n",
       "      <td>2019-02-13 21:57:00</td>\n",
       "      <td>2019-02-28 09:41:00</td>\n",
       "      <td>DSNY</td>\n",
       "      <td>Department of Sanitation</td>\n",
       "      <td>Electronics Waste Appointment</td>\n",
       "      <td>Ewaste appointment</td>\n",
       "      <td>Sidewalk</td>\n",
       "      <td>11385</td>\n",
       "      <td>89-25 DORAN AVENUE</td>\n",
       "      <td>ADDRESS</td>\n",
       "      <td>Ridgewood</td>\n",
       "      <td>Closed</td>\n",
       "      <td>QUEENS</td>\n",
       "      <td>PHONE</td>\n",
       "      <td>14 days 11:44:00</td>\n",
       "    </tr>\n",
       "    <tr>\n",
       "      <th>11</th>\n",
       "      <td>41694434</td>\n",
       "      <td>2019-02-13 16:48:00</td>\n",
       "      <td>2019-02-15 12:33:00</td>\n",
       "      <td>DSNY</td>\n",
       "      <td>Department of Sanitation</td>\n",
       "      <td>Electronics Waste Appointment</td>\n",
       "      <td>Ewaste appointment</td>\n",
       "      <td>Sidewalk</td>\n",
       "      <td>10304</td>\n",
       "      <td>126 VANDERBILT AVENUE</td>\n",
       "      <td>ADDRESS</td>\n",
       "      <td>STATEN ISLAND</td>\n",
       "      <td>Closed</td>\n",
       "      <td>STATEN ISLAND</td>\n",
       "      <td>PHONE</td>\n",
       "      <td>1 days 19:45:00</td>\n",
       "    </tr>\n",
       "    <tr>\n",
       "      <th>12</th>\n",
       "      <td>41694435</td>\n",
       "      <td>2019-02-13 16:11:00</td>\n",
       "      <td>2019-02-20 13:00:00</td>\n",
       "      <td>DSNY</td>\n",
       "      <td>Department of Sanitation</td>\n",
       "      <td>Electronics Waste Appointment</td>\n",
       "      <td>Ewaste appointment</td>\n",
       "      <td>Sidewalk</td>\n",
       "      <td>11226</td>\n",
       "      <td>63 CLARKSON AVENUE</td>\n",
       "      <td>ADDRESS</td>\n",
       "      <td>BROOKLYN</td>\n",
       "      <td>Closed</td>\n",
       "      <td>BROOKLYN</td>\n",
       "      <td>PHONE</td>\n",
       "      <td>6 days 20:49:00</td>\n",
       "    </tr>\n",
       "    <tr>\n",
       "      <th>13</th>\n",
       "      <td>41694436</td>\n",
       "      <td>2019-02-13 15:15:00</td>\n",
       "      <td>2019-02-28 10:40:00</td>\n",
       "      <td>DSNY</td>\n",
       "      <td>Department of Sanitation</td>\n",
       "      <td>Electronics Waste Appointment</td>\n",
       "      <td>Ewaste appointment</td>\n",
       "      <td>Sidewalk</td>\n",
       "      <td>11385</td>\n",
       "      <td>263 SAINT NICHOLAS AVENUE</td>\n",
       "      <td>ADDRESS</td>\n",
       "      <td>Ridgewood</td>\n",
       "      <td>Closed</td>\n",
       "      <td>QUEENS</td>\n",
       "      <td>PHONE</td>\n",
       "      <td>14 days 19:25:00</td>\n",
       "    </tr>\n",
       "    <tr>\n",
       "      <th>28</th>\n",
       "      <td>41694451</td>\n",
       "      <td>2019-02-13 15:46:00</td>\n",
       "      <td>2019-02-19 12:23:00</td>\n",
       "      <td>DSNY</td>\n",
       "      <td>Department of Sanitation</td>\n",
       "      <td>Electronics Waste Appointment</td>\n",
       "      <td>Ewaste appointment</td>\n",
       "      <td>Sidewalk</td>\n",
       "      <td>11421</td>\n",
       "      <td>88-18 85 STREET</td>\n",
       "      <td>ADDRESS</td>\n",
       "      <td>Woodhaven</td>\n",
       "      <td>Closed</td>\n",
       "      <td>QUEENS</td>\n",
       "      <td>PHONE</td>\n",
       "      <td>5 days 20:37:00</td>\n",
       "    </tr>\n",
       "    <tr>\n",
       "      <th>...</th>\n",
       "      <td>...</td>\n",
       "      <td>...</td>\n",
       "      <td>...</td>\n",
       "      <td>...</td>\n",
       "      <td>...</td>\n",
       "      <td>...</td>\n",
       "      <td>...</td>\n",
       "      <td>...</td>\n",
       "      <td>...</td>\n",
       "      <td>...</td>\n",
       "      <td>...</td>\n",
       "      <td>...</td>\n",
       "      <td>...</td>\n",
       "      <td>...</td>\n",
       "      <td>...</td>\n",
       "      <td>...</td>\n",
       "    </tr>\n",
       "    <tr>\n",
       "      <th>3999967</th>\n",
       "      <td>24889440</td>\n",
       "      <td>2013-01-28 13:46:00</td>\n",
       "      <td>2013-01-29 12:00:00</td>\n",
       "      <td>DSNY</td>\n",
       "      <td>P - Queens</td>\n",
       "      <td>Dirty Conditions</td>\n",
       "      <td>E12 Illegal Dumping Surveillance</td>\n",
       "      <td>Sidewalk</td>\n",
       "      <td>11368</td>\n",
       "      <td>108-17 35 AVENUE</td>\n",
       "      <td>ADDRESS</td>\n",
       "      <td>Corona</td>\n",
       "      <td>Closed</td>\n",
       "      <td>QUEENS</td>\n",
       "      <td>PHONE</td>\n",
       "      <td>0 days 22:14:00</td>\n",
       "    </tr>\n",
       "    <tr>\n",
       "      <th>3999982</th>\n",
       "      <td>24888329</td>\n",
       "      <td>2013-01-28 20:16:00</td>\n",
       "      <td>2013-01-29 12:00:00</td>\n",
       "      <td>DSNY</td>\n",
       "      <td>BCC - Brooklyn South</td>\n",
       "      <td>Missed Collection (All Materials)</td>\n",
       "      <td>2R Bulk-Missed Recy Collection</td>\n",
       "      <td>Sidewalk</td>\n",
       "      <td>11235</td>\n",
       "      <td>2928 BRIGHTON 8 STREET</td>\n",
       "      <td>ADDRESS</td>\n",
       "      <td>BROOKLYN</td>\n",
       "      <td>Closed</td>\n",
       "      <td>BROOKLYN</td>\n",
       "      <td>ONLINE</td>\n",
       "      <td>0 days 15:44:00</td>\n",
       "    </tr>\n",
       "    <tr>\n",
       "      <th>3999989</th>\n",
       "      <td>24888315</td>\n",
       "      <td>2013-01-28 08:40:00</td>\n",
       "      <td>2013-01-29 12:00:00</td>\n",
       "      <td>DSNY</td>\n",
       "      <td>BCC - Staten Island</td>\n",
       "      <td>Snow</td>\n",
       "      <td>15I Street Condition Ice-Non Storm</td>\n",
       "      <td>Street</td>\n",
       "      <td>10310</td>\n",
       "      <td>156 CLOVE ROAD</td>\n",
       "      <td>ADDRESS</td>\n",
       "      <td>STATEN ISLAND</td>\n",
       "      <td>Closed</td>\n",
       "      <td>STATEN ISLAND</td>\n",
       "      <td>PHONE</td>\n",
       "      <td>1 days 03:20:00</td>\n",
       "    </tr>\n",
       "    <tr>\n",
       "      <th>3999994</th>\n",
       "      <td>24890451</td>\n",
       "      <td>2013-01-29 12:35:00</td>\n",
       "      <td>2013-02-01 12:00:00</td>\n",
       "      <td>DSNY</td>\n",
       "      <td>A - Brooklyn</td>\n",
       "      <td>Dirty Conditions</td>\n",
       "      <td>E3 Dirty Sidewalk</td>\n",
       "      <td>Sidewalk</td>\n",
       "      <td>11237</td>\n",
       "      <td>249 HARMAN STREET</td>\n",
       "      <td>ADDRESS</td>\n",
       "      <td>BROOKLYN</td>\n",
       "      <td>Closed</td>\n",
       "      <td>BROOKLYN</td>\n",
       "      <td>PHONE</td>\n",
       "      <td>2 days 23:25:00</td>\n",
       "    </tr>\n",
       "    <tr>\n",
       "      <th>3999997</th>\n",
       "      <td>24891444</td>\n",
       "      <td>2013-01-29 20:10:00</td>\n",
       "      <td>2013-02-01 12:00:00</td>\n",
       "      <td>DSNY</td>\n",
       "      <td>BCC - Brooklyn North</td>\n",
       "      <td>Missed Collection (All Materials)</td>\n",
       "      <td>1 Missed Collection</td>\n",
       "      <td>Sidewalk</td>\n",
       "      <td>11207</td>\n",
       "      <td>789 VANSINDEREN AVENUE</td>\n",
       "      <td>ADDRESS</td>\n",
       "      <td>BROOKLYN</td>\n",
       "      <td>Closed</td>\n",
       "      <td>BROOKLYN</td>\n",
       "      <td>PHONE</td>\n",
       "      <td>2 days 15:50:00</td>\n",
       "    </tr>\n",
       "  </tbody>\n",
       "</table>\n",
       "<p>453196 rows × 16 columns</p>\n",
       "</div>"
      ],
      "text/plain": [
       "         unique_key        created_date         closed_date agency  \\\n",
       "10         41694433 2019-02-13 21:57:00 2019-02-28 09:41:00   DSNY   \n",
       "11         41694434 2019-02-13 16:48:00 2019-02-15 12:33:00   DSNY   \n",
       "12         41694435 2019-02-13 16:11:00 2019-02-20 13:00:00   DSNY   \n",
       "13         41694436 2019-02-13 15:15:00 2019-02-28 10:40:00   DSNY   \n",
       "28         41694451 2019-02-13 15:46:00 2019-02-19 12:23:00   DSNY   \n",
       "...             ...                 ...                 ...    ...   \n",
       "3999967    24889440 2013-01-28 13:46:00 2013-01-29 12:00:00   DSNY   \n",
       "3999982    24888329 2013-01-28 20:16:00 2013-01-29 12:00:00   DSNY   \n",
       "3999989    24888315 2013-01-28 08:40:00 2013-01-29 12:00:00   DSNY   \n",
       "3999994    24890451 2013-01-29 12:35:00 2013-02-01 12:00:00   DSNY   \n",
       "3999997    24891444 2013-01-29 20:10:00 2013-02-01 12:00:00   DSNY   \n",
       "\n",
       "                      agency_name                     complaint_type  \\\n",
       "10       Department of Sanitation      Electronics Waste Appointment   \n",
       "11       Department of Sanitation      Electronics Waste Appointment   \n",
       "12       Department of Sanitation      Electronics Waste Appointment   \n",
       "13       Department of Sanitation      Electronics Waste Appointment   \n",
       "28       Department of Sanitation      Electronics Waste Appointment   \n",
       "...                           ...                                ...   \n",
       "3999967                P - Queens                   Dirty Conditions   \n",
       "3999982      BCC - Brooklyn South  Missed Collection (All Materials)   \n",
       "3999989       BCC - Staten Island                               Snow   \n",
       "3999994              A - Brooklyn                   Dirty Conditions   \n",
       "3999997      BCC - Brooklyn North  Missed Collection (All Materials)   \n",
       "\n",
       "                                 descriptor location_type incident_zip  \\\n",
       "10                       Ewaste appointment      Sidewalk        11385   \n",
       "11                       Ewaste appointment      Sidewalk        10304   \n",
       "12                       Ewaste appointment      Sidewalk        11226   \n",
       "13                       Ewaste appointment      Sidewalk        11385   \n",
       "28                       Ewaste appointment      Sidewalk        11421   \n",
       "...                                     ...           ...          ...   \n",
       "3999967    E12 Illegal Dumping Surveillance      Sidewalk        11368   \n",
       "3999982      2R Bulk-Missed Recy Collection      Sidewalk        11235   \n",
       "3999989  15I Street Condition Ice-Non Storm        Street        10310   \n",
       "3999994                   E3 Dirty Sidewalk      Sidewalk        11237   \n",
       "3999997                 1 Missed Collection      Sidewalk        11207   \n",
       "\n",
       "                  incident_address address_type           city  status  \\\n",
       "10              89-25 DORAN AVENUE      ADDRESS      Ridgewood  Closed   \n",
       "11           126 VANDERBILT AVENUE      ADDRESS  STATEN ISLAND  Closed   \n",
       "12              63 CLARKSON AVENUE      ADDRESS       BROOKLYN  Closed   \n",
       "13       263 SAINT NICHOLAS AVENUE      ADDRESS      Ridgewood  Closed   \n",
       "28                 88-18 85 STREET      ADDRESS      Woodhaven  Closed   \n",
       "...                            ...          ...            ...     ...   \n",
       "3999967           108-17 35 AVENUE      ADDRESS         Corona  Closed   \n",
       "3999982     2928 BRIGHTON 8 STREET      ADDRESS       BROOKLYN  Closed   \n",
       "3999989             156 CLOVE ROAD      ADDRESS  STATEN ISLAND  Closed   \n",
       "3999994          249 HARMAN STREET      ADDRESS       BROOKLYN  Closed   \n",
       "3999997     789 VANSINDEREN AVENUE      ADDRESS       BROOKLYN  Closed   \n",
       "\n",
       "               borough open_data_channel_type      time_to_fix  \n",
       "10              QUEENS                  PHONE 14 days 11:44:00  \n",
       "11       STATEN ISLAND                  PHONE  1 days 19:45:00  \n",
       "12            BROOKLYN                  PHONE  6 days 20:49:00  \n",
       "13              QUEENS                  PHONE 14 days 19:25:00  \n",
       "28              QUEENS                  PHONE  5 days 20:37:00  \n",
       "...                ...                    ...              ...  \n",
       "3999967         QUEENS                  PHONE  0 days 22:14:00  \n",
       "3999982       BROOKLYN                 ONLINE  0 days 15:44:00  \n",
       "3999989  STATEN ISLAND                  PHONE  1 days 03:20:00  \n",
       "3999994       BROOKLYN                  PHONE  2 days 23:25:00  \n",
       "3999997       BROOKLYN                  PHONE  2 days 15:50:00  \n",
       "\n",
       "[453196 rows x 16 columns]"
      ]
     },
     "execution_count": 426,
     "metadata": {},
     "output_type": "execute_result"
    }
   ],
   "source": [
    "sanitation"
   ]
  },
  {
   "cell_type": "code",
   "execution_count": 427,
   "id": "8ebd31df",
   "metadata": {},
   "outputs": [
    {
     "data": {
      "text/plain": [
       "(0, 16)"
      ]
     },
     "execution_count": 427,
     "metadata": {},
     "output_type": "execute_result"
    }
   ],
   "source": [
    "sanitation[(sanitation.created_date >= '2021-10-26') & (sanitation.created_date < '2021-10-28')].shape"
   ]
  },
  {
   "cell_type": "code",
   "execution_count": 428,
   "id": "ba3771bc",
   "metadata": {},
   "outputs": [
    {
     "data": {
      "text/plain": [
       "(295339, 16)"
      ]
     },
     "execution_count": 428,
     "metadata": {},
     "output_type": "execute_result"
    }
   ],
   "source": [
    "sanitation[(sanitation.created_date >= '2011-12-26') & (sanitation.created_date < '2021-12-28')].shape"
   ]
  },
  {
   "cell_type": "markdown",
   "id": "2cba95a7",
   "metadata": {},
   "source": [
    "## 311 quirks\n",
    "\n",
    "Our editor tried to submit a 311 request using the app the other day, but it didn't go through. As we all know, news is what happens to your editor! Has the 311 mobile app ever actually stopped working?\n",
    "\n",
    "If that's a dead end, maybe you can talk about the differences between the different submission avenues: could a mobile outage disproportionately impact a certain kind of complaint or agency? How about if the phone lines stopped working?\n",
    "\n",
    "What assumptions is your analysis making? What could make your analysis fall apart?"
   ]
  },
  {
   "cell_type": "code",
   "execution_count": 443,
   "id": "e034d6bb",
   "metadata": {},
   "outputs": [
    {
     "data": {
      "text/plain": [
       "UNKNOWN    2155609\n",
       "PHONE      1195790\n",
       "ONLINE      452001\n",
       "MOBILE      139361\n",
       "OTHER        57239\n",
       "Name: open_data_channel_type, dtype: int64"
      ]
     },
     "execution_count": 443,
     "metadata": {},
     "output_type": "execute_result"
    }
   ],
   "source": [
    "df.open_data_channel_type.value_counts()"
   ]
  },
  {
   "cell_type": "code",
   "execution_count": 447,
   "id": "a9951f8c",
   "metadata": {},
   "outputs": [
    {
     "data": {
      "text/plain": [
       "<AxesSubplot:xlabel='created_date'>"
      ]
     },
     "execution_count": 447,
     "metadata": {},
     "output_type": "execute_result"
    },
    {
     "data": {
      "image/png": "[encoded data removed]",
      "text/plain": [
       "<Figure size 432x288 with 1 Axes>"
      ]
     },
     "metadata": {
      "needs_background": "light"
     },
     "output_type": "display_data"
    }
   ],
   "source": [
    "df[df.created_date > '2017-01-01'].resample('W', on='created_date').size().plot()"
   ]
  },
  {
   "cell_type": "code",
   "execution_count": 448,
   "id": "c6c69e62",
   "metadata": {
    "scrolled": true
   },
   "outputs": [
    {
     "data": {
      "text/plain": [
       "<AxesSubplot:xlabel='created_date'>"
      ]
     },
     "execution_count": 448,
     "metadata": {},
     "output_type": "execute_result"
    },
    {
     "data": {
      "image/png": "[encoded data removed]",
      "text/plain": [
       "<Figure size 432x288 with 1 Axes>"
      ]
     },
     "metadata": {
      "needs_background": "light"
     },
     "output_type": "display_data"
    }
   ],
   "source": [
    "df[(df.created_date > '2017-01-01') & (df.open_data_channel_type == 'MOBILE')].resample('W', on='created_date').size().plot()"
   ]
  },
  {
   "cell_type": "code",
   "execution_count": null,
   "id": "abe01e4f",
   "metadata": {},
   "outputs": [],
   "source": [
    "#Analysis assumes that a lack of complaints reflects an app malfunciton\n",
    "#Relying on noticable difference in the charts, but the app not working may not be the only reason for dips"
   ]
  },
  {
   "cell_type": "code",
   "execution_count": null,
   "id": "1bd519f1",
   "metadata": {},
   "outputs": [],
   "source": [
    "pd.set_option(\"display.max_rows\", 200)\n",
    "\n",
    "(pd.crosstab(df.agency, df.open_data_channel_type, normalize='index') * 100).astype(int)"
   ]
  },
  {
   "cell_type": "markdown",
   "id": "62ff7b9a",
   "metadata": {},
   "source": [
    "## NYCHA and public funds\n",
    "\n",
    "NYC's public housing infrastructure is failing, and one reason is lack of federal funds. While the recent spending bills passed through Congress might be able to help, the feeling is that things have really fallen apart in the past however-many years – as time goes on it gets more and more difficult for the agency in control of things to address issues in a timely manner.\n",
    "\n",
    "If you were tasked with finding information to help a reporter writing on this topic, you will **not** reasonably be able to find much in the dataset to support or refute this. Why not? \n",
    "\n",
    "If you wanted to squeeze something out of this dataset anyway, what could an option be? (You might need to bring in another dataset.)"
   ]
  },
  {
   "cell_type": "code",
   "execution_count": null,
   "id": "0ebc3436",
   "metadata": {},
   "outputs": [],
   "source": [
    "#NYCHA is not an agency in the dataset\n",
    "#You could take the time to close a complaint and see if it has gotten worse over time - but this doesn't account \n",
    "#for changes in the volume of complaints. The data also doesn't have info on funding, and we don't know that if a \n",
    "#complaint has been closed that it's actually been addressed"
   ]
  },
  {
   "cell_type": "code",
   "execution_count": 441,
   "id": "b8ca0c43",
   "metadata": {},
   "outputs": [
    {
     "data": {
      "text/plain": [
       "<AxesSubplot:xlabel='created_date'>"
      ]
     },
     "execution_count": 441,
     "metadata": {},
     "output_type": "execute_result"
    },
    {
     "data": {
      "image/png": "[encoded data removed]",
      "text/plain": [
       "<Figure size 432x288 with 1 Axes>"
      ]
     },
     "metadata": {
      "needs_background": "light"
     },
     "output_type": "display_data"
    }
   ],
   "source": [
    "df[df.agency == 'HPD'].resample('A', on='created_date').size().plot()"
   ]
  }
 ],
 "metadata": {
  "kernelspec": {
   "display_name": "Python 3 (ipykernel)",
   "language": "python",
   "name": "python3"
  },
  "language_info": {
   "codemirror_mode": {
    "name": "ipython",
    "version": 3
   },
   "file_extension": ".py",
   "mimetype": "text/x-python",
   "name": "python",
   "nbconvert_exporter": "python",
   "pygments_lexer": "ipython3",
   "version": "3.10.0"
  }
 },
 "nbformat": 4,
 "nbformat_minor": 5
}
