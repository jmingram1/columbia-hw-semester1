{
 "cells": [
  {
   "cell_type": "markdown",
   "metadata": {},
   "source": [
    "# WeatherAPI (Weather)\n",
    "\n",
    "Answer the following questions using [WeatherAPI](http://www.weatherapi.com/). I've added three cells for most questions but you're free to use more or less! Hold `Shift` and hit `Enter` to run a cell, and use the `+` on the top left to add a new cell to a notebook.\n",
    "\n",
    "Be sure to take advantage of both the documentation and the API Explorer!\n",
    "\n",
    "## 0) Import any libraries you might need\n",
    "\n",
    "- *Tip: We're going to be downloading things from the internet, so we probably need `requests`.*\n",
    "- *Tip: Remember you only need to import requests once!*"
   ]
  },
  {
   "cell_type": "code",
   "execution_count": 61,
   "metadata": {},
   "outputs": [],
   "source": [
    "import requests\n",
    "import json"
   ]
  },
  {
   "cell_type": "markdown",
   "metadata": {
    "collapsed": true
   },
   "source": [
    "## 1) Make a request to the Weather API for where you were born (or lived, or want to visit!).\n",
    "\n",
    "- *Tip: The URL we used in class was for a place near San Francisco. What was the format of the endpoint that made this happen?*\n",
    "- *Tip: Save the URL as a separate variable, and be sure to not have `[` and `]` inside.*\n",
    "- *Tip: How is north vs. south and east vs. west latitude/longitude represented? Is it the normal North/South/East/West?*\n",
    "- *Tip: You know it's JSON, but Python doesn't! Make sure you aren't trying to deal with plain text.* \n",
    "- *Tip: Once you've imported the JSON into a variable, check the timezone's name to make sure it seems like it got the right part of the world!*"
   ]
  },
  {
   "cell_type": "code",
   "execution_count": 62,
   "metadata": {},
   "outputs": [],
   "source": [
    "url = \"http://api.weatherapi.com/v1/current.json?key=861adbf540334018bfc22522210511&q=94019\"\n",
    "response = requests.get(url)\n",
    "hmb_weather = response.json()"
   ]
  },
  {
   "cell_type": "code",
   "execution_count": 63,
   "metadata": {},
   "outputs": [],
   "source": [
    "#print(json.dumps(hmb_weather, indent=3))"
   ]
  },
  {
   "cell_type": "markdown",
   "metadata": {},
   "source": [
    "## 2) What's the current wind speed? How much warmer does it feel than it actually is?\n",
    "\n",
    "- *Tip: You can do this by browsing through the dictionaries, but it might be easier to read the documentation*\n",
    "- *Tip: For the second half: it **is** one temperature, and it **feels** a different temperature. Calculate the difference.*"
   ]
  },
  {
   "cell_type": "code",
   "execution_count": 64,
   "metadata": {},
   "outputs": [
    {
     "name": "stdout",
     "output_type": "stream",
     "text": [
      "The current wind speed in Half Moon Bay, CA is 4.3 miles per hour\n"
     ]
    }
   ],
   "source": [
    "wind_speed = hmb_weather['current']['wind_mph']\n",
    "print(f\"The current wind speed in Half Moon Bay, CA is {wind_speed} miles per hour\")"
   ]
  },
  {
   "cell_type": "code",
   "execution_count": 65,
   "metadata": {},
   "outputs": [
    {
     "name": "stdout",
     "output_type": "stream",
     "text": [
      "It feels 7 degrees colder than it actually is in Half Moon Bay\n"
     ]
    }
   ],
   "source": [
    "realfeel_diff = round(hmb_weather['current']['temp_f'] - hmb_weather['current']['feelslike_f'])\n",
    "if realfeel_diff > 0:\n",
    "    print(f\"It feels {realfeel_diff} degrees colder than it actually is in Half Moon Bay\")\n",
    "elif realfeel_diff < 0:\n",
    "    print(f\"It feels {abs(realfeel_diff)} degrees warmer than it actually is in Half Moon Bay\")"
   ]
  },
  {
   "cell_type": "markdown",
   "metadata": {},
   "source": [
    "## 3) What is the API endpoint for moon-related information? For the place you decided on above, how much of the moon will be visible tomorrow?\n",
    "\n",
    "- *Tip: Check the documentation!*\n",
    "- *Tip: If you aren't sure what something means, ask in Slack*"
   ]
  },
  {
   "cell_type": "code",
   "execution_count": 66,
   "metadata": {},
   "outputs": [],
   "source": [
    "url = \"http://api.weatherapi.com/v1/forecast.json?key=861adbf540334018bfc22522210511&q=94019&days=2\"\n",
    "response = requests.get(url)\n",
    "hmb_forecast = response.json()\n",
    "#print(json.dumps(hmb_forecast, indent=3))"
   ]
  },
  {
   "cell_type": "code",
   "execution_count": 67,
   "metadata": {},
   "outputs": [
    {
     "name": "stdout",
     "output_type": "stream",
     "text": [
      "The moon will be 75% visibile from Half Moon Bay tomorrow\n"
     ]
    }
   ],
   "source": [
    "moon_visibility = hmb_forecast['forecast']['forecastday'][1]['astro']['moon_illumination']\n",
    "print(f\"The moon will be {moon_visibility}% visibile from Half Moon Bay tomorrow\")"
   ]
  },
  {
   "cell_type": "markdown",
   "metadata": {},
   "source": [
    "## 4) What's the difference between the high and low temperatures for today?\n",
    "\n",
    "- *Tip: When you requested moon data, you probably overwrote your variables! If so, you'll need to make a new request.*"
   ]
  },
  {
   "cell_type": "code",
   "execution_count": 68,
   "metadata": {},
   "outputs": [
    {
     "name": "stdout",
     "output_type": "stream",
     "text": [
      "The difference between today's high and low temperature in Half Moon Bay was 6 degrees\n"
     ]
    }
   ],
   "source": [
    "today_tempprecip = hmb_forecast['forecast']['forecastday'][0]['day']\n",
    "highlow_tempdiff = round(today_tempprecip['maxtemp_f'] - today_tempprecip['mintemp_f'])\n",
    "print(f\"The difference between today's high and low temperature in Half Moon Bay was {highlow_tempdiff} degrees\")"
   ]
  },
  {
   "cell_type": "markdown",
   "metadata": {
    "collapsed": true
   },
   "source": [
    "## 4.5) How can you avoid the \"oh no I don't have the data any more because I made another request\" problem in the future?\n",
    "\n",
    "What variable(s) do you have to rename, and what would you rename them?"
   ]
  },
  {
   "cell_type": "code",
   "execution_count": 69,
   "metadata": {},
   "outputs": [],
   "source": [
    "#I was already giving the variables containing the data in response.json() unique names :) "
   ]
  },
  {
   "cell_type": "markdown",
   "metadata": {},
   "source": [
    "## 5) Go through the daily forecasts, printing out the next three days' worth of predictions.\n",
    "\n",
    "I'd like to know the **high temperature** for each day, and whether it's **hot, warm, or cold** (based on what temperatures you think are hot, warm or cold).\n",
    "\n",
    "- *Tip: You'll need to use an `if` statement to say whether it is hot, warm or cold.*"
   ]
  },
  {
   "cell_type": "code",
   "execution_count": 70,
   "metadata": {},
   "outputs": [],
   "source": [
    "url = \"http://api.weatherapi.com/v1/forecast.json?key=861adbf540334018bfc22522210511&q=94019&days=4\"\n",
    "response = requests.get(url)\n",
    "hmb_3day_forecast = response.json()\n",
    "#print(json.dumps(hmb_3day_forecast, indent=3))"
   ]
  },
  {
   "cell_type": "code",
   "execution_count": 71,
   "metadata": {},
   "outputs": [],
   "source": [
    "highs = []\n",
    "dates = []\n",
    "for day in hmb_3day_forecast['forecast']['forecastday']:\n",
    "    high = day['day']['maxtemp_f']\n",
    "    highs.append(high)\n",
    "    date = day['date']\n",
    "    dates.append(date)"
   ]
  },
  {
   "cell_type": "code",
   "execution_count": 72,
   "metadata": {},
   "outputs": [
    {
     "data": {
      "text/plain": [
       "{53.1: 'cold', 52.2: 'cold', 58.5: 'cold'}"
      ]
     },
     "execution_count": 72,
     "metadata": {},
     "output_type": "execute_result"
    }
   ],
   "source": [
    "temps_toprint = {}\n",
    "for temp in highs: \n",
    "    if temp < 65: \n",
    "        temps_toprint[temp] = 'cold' \n",
    "    elif temp < 80:\n",
    "        temps_toprint[temp] = 'warm'\n",
    "    else: \n",
    "        temps_toprint[temp] = 'hot'\n",
    "temps_toprint"
   ]
  },
  {
   "cell_type": "code",
   "execution_count": 73,
   "metadata": {},
   "outputs": [
    {
     "name": "stdout",
     "output_type": "stream",
     "text": [
      "It will be cold on 2021-12-14, at 53.1 degrees\n",
      "It will be cold on 2021-12-15, at 52.2 degrees\n",
      "It will be cold on 2021-12-16, at 58.5 degrees\n"
     ]
    }
   ],
   "source": [
    "index = 0\n",
    "for temp, descrip in temps_toprint.items():\n",
    "    print(f\"It will be {descrip} on {dates[index]}, at {temp} degrees\")\n",
    "    index += 1"
   ]
  },
  {
   "cell_type": "markdown",
   "metadata": {},
   "source": [
    "## 5b) The question above used to be an entire week, but not any more. Try to re-use the code above to print out seven days.\n",
    "\n",
    "What happens? Can you figure out why it doesn't work?\n",
    "\n",
    "* *Tip: it has to do with the reason you're using an API key - maybe take a look at the \"Air Quality Data\" introduction for a hint? If you can't figure it out right now, no worries.*"
   ]
  },
  {
   "cell_type": "code",
   "execution_count": 74,
   "metadata": {},
   "outputs": [],
   "source": [
    "url = \"http://api.weatherapi.com/v1/forecast.json?key=861adbf540334018bfc22522210511&q=94019&days=8\"\n",
    "response = requests.get(url)\n",
    "hmb_3day_forecast = response.json()\n",
    "#print(json.dumps(hmb_3day_forecast, indent=3))"
   ]
  },
  {
   "cell_type": "markdown",
   "metadata": {},
   "source": [
    "<b>It seems as if my subscription, which would be indentified by the server with my API key, only allows 3-day subscriptions<b>"
   ]
  },
  {
   "cell_type": "markdown",
   "metadata": {},
   "source": [
    "## 6) What will be the hottest day in the next three days? What is the high temperature on that day?"
   ]
  },
  {
   "cell_type": "code",
   "execution_count": 75,
   "metadata": {},
   "outputs": [],
   "source": [
    "highest_temp = max(highs)\n",
    "hottest_day = dates[highs.index(highest_temp)]"
   ]
  },
  {
   "cell_type": "code",
   "execution_count": 76,
   "metadata": {},
   "outputs": [
    {
     "name": "stdout",
     "output_type": "stream",
     "text": [
      "The hottest day in the next three days is 2021-12-16, when it will be a high of 58.5 degrees\n"
     ]
    }
   ],
   "source": [
    "print(f'The hottest day in the next three days is {hottest_day}, when it will be a high of {highest_temp} degrees')"
   ]
  },
  {
   "cell_type": "markdown",
   "metadata": {},
   "source": [
    "## 7) What's the weather looking like for the next 24+ hours in Miami, Florida?\n",
    "\n",
    "I'd like to know the temperature for every hour, and if it's going to have cloud cover of more than 50% say \"{temperature} and cloudy\" instead of just the temperature. \n",
    "\n",
    "- *Tip: You'll only need one day of forecast*"
   ]
  },
  {
   "cell_type": "code",
   "execution_count": 77,
   "metadata": {},
   "outputs": [],
   "source": [
    "url = \"http://api.weatherapi.com/v1/forecast.json?key=861adbf540334018bfc22522210511&q=Miami&days=2\"\n",
    "response = requests.get(url)\n",
    "miami_24hr = response.json()\n",
    "#print(json.dumps(miami_24hr, indent=3))"
   ]
  },
  {
   "cell_type": "code",
   "execution_count": 78,
   "metadata": {},
   "outputs": [
    {
     "name": "stdout",
     "output_type": "stream",
     "text": [
      "At 00:00, it will be 76.6 and cloudy\n",
      "At 01:00, it will be 76.3 and cloudy\n",
      "At 02:00, it will be 76.1 and cloudy\n",
      "At 03:00, it will be 75.9 and cloudy\n",
      "At 04:00, it will be 75.9 and cloudy\n",
      "At 05:00, it will be 76.1 and cloudy\n",
      "At 06:00, it will be 76.5 and cloudy\n",
      "At 07:00, it will be 76.5 and cloudy\n",
      "At 08:00, it will be 76.3 and cloudy\n",
      "At 09:00, it will be 76.5 and cloudy\n",
      "At 10:00, it will be 77.0 and cloudy\n",
      "At 11:00, it will be 78.6 and cloudy\n",
      "At 12:00, it will be 78.6 and cloudy\n",
      "At 13:00, it will be 78.6 and cloudy\n",
      "At 14:00, it will be 78.4 and cloudy\n",
      "At 15:00, it will be 78.1 and cloudy\n",
      "At 16:00, it will be 77.7 and cloudy\n",
      "At 17:00, it will be 77.9 and cloudy\n",
      "At 18:00, it will be 77.5 and cloudy\n",
      "At 19:00, it will be 77.5 and cloudy\n",
      "At 20:00, it will be 76.6 and cloudy\n",
      "At 21:00, it will be 76.6 and cloudy\n",
      "At 22:00, it will be 76.6 and cloudy\n",
      "At 23:00, it will be 76.6 and cloudy\n"
     ]
    }
   ],
   "source": [
    "#isCloudy = True\n",
    "temp_list = []\n",
    "for hour in miami_24hr['forecast']['forecastday'][1]['hour']:\n",
    "    temp = hour['temp_f']\n",
    "    temp_list.append(temp)\n",
    "    time = hour['time'][-5:]\n",
    "    if hour['cloud'] > 50:\n",
    "        isCloudy = \" and cloudy\"\n",
    "    else: \n",
    "        isCloudy = \"\"\n",
    "    print(f\"At {time}, it will be {temp}{isCloudy}\")"
   ]
  },
  {
   "cell_type": "markdown",
   "metadata": {},
   "source": [
    "## 8) For the next 24-ish hours in Miami, what percent of the time is the temperature above 85 degrees?\n",
    "\n",
    "- *Tip: You might want to read up on [looping patterns](http://jonathansoma.com/lede/foundations-2017/classes/data%20structures/looping-patterns/)*"
   ]
  },
  {
   "cell_type": "code",
   "execution_count": 79,
   "metadata": {},
   "outputs": [],
   "source": [
    "hour_counter = 0\n",
    "for temp in temp_list:\n",
    "    if temp > 85:\n",
    "        hour_counter += 1\n",
    "percent_85 = round(hour_counter / 24 * 100)"
   ]
  },
  {
   "cell_type": "code",
   "execution_count": 80,
   "metadata": {},
   "outputs": [
    {
     "name": "stdout",
     "output_type": "stream",
     "text": [
      "Tomorrow, the temperature will be above 85 degrees 0% of the time\n"
     ]
    }
   ],
   "source": [
    "print(f'Tomorrow, the temperature will be above 85 degrees {percent_85}% of the time')"
   ]
  },
  {
   "cell_type": "markdown",
   "metadata": {},
   "source": [
    "## 9) How much will it cost if you need to use 1,500,000 API calls?\n",
    "\n",
    "You are only allowed 1,000,000 API calls each month. If you were really bad at this homework or made some awful loops, WeatherAPI might shut down your free access. \n",
    "\n",
    "* *Tip: this involves looking somewhere that isn't the normal documentation.*"
   ]
  },
  {
   "cell_type": "markdown",
   "metadata": {},
   "source": [
    "<b>It should cost $4 on [WeatherAPI Developer plan](https://www.weatherapi.com/pricing.aspx) unless you forget to cancel your subscription after one month...<b>"
   ]
  },
  {
   "cell_type": "markdown",
   "metadata": {},
   "source": [
    "## 10) You're too poor to spend more money! What else could you do instead of give them money?\n",
    "\n",
    "* *Tip: I'm not endorsing being sneaky, but newsrooms and students are both generally poverty-stricken.*"
   ]
  },
  {
   "cell_type": "markdown",
   "metadata": {},
   "source": [
    "<b>Get a new API key by signing up with a different email address<b>"
   ]
  }
 ],
 "metadata": {
  "kernelspec": {
   "display_name": "Python 3 (ipykernel)",
   "language": "python",
   "name": "python3"
  },
  "language_info": {
   "codemirror_mode": {
    "name": "ipython",
    "version": 3
   },
   "file_extension": ".py",
   "mimetype": "text/x-python",
   "name": "python",
   "nbconvert_exporter": "python",
   "pygments_lexer": "ipython3",
   "version": "3.10.0"
  }
 },
 "nbformat": 4,
 "nbformat_minor": 1
}
