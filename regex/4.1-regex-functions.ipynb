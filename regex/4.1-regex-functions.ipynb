{
 "cells": [
  {
   "cell_type": "markdown",
   "metadata": {},
   "source": [
    "## homework 4.1: investigating lists and dictionaries using functions\n",
    "\n",
    "In this assignment I will ask you to pick five relatively short texts (poems, paragraphs, short essays, song lyrics, whatever interests you). The main thing is to make sure that each text is around 10 - 20 lines or sentences long. Below, I have selected five poems by Wallace Stevens. In each cell I have made a variable that contains each poem, and then I pass that poem through a function called `text_to_dict` that makes a dictionary for each poem. The dictionary contains the title of the poem, the full text as one string, and a list that contains each line of the poem. The function will also make lists of sentences instead of lines if you want to investigate a prose text (sentence by sentence) instead of a poem (line by line).\n",
    "\n",
    "There are two parts of this assignment. \n",
    "\n",
    "**Part 1**, which should be easy, is to replace the poems with texts of your own choice--and choose to split them by lines or sentences. \n",
    "\n",
    "**Part 2** is to write functions that and investigate your texts. If you want to focus on the functions first, you can go straight to Part 2 and use the poems I have chosen. You can then go back and enter your own texts--your functions should work no matter what text you've chosen.\n"
   ]
  },
  {
   "cell_type": "code",
   "execution_count": 74,
   "metadata": {},
   "outputs": [],
   "source": [
    "#Run this cell toImport regular expressions\n",
    "#And to initialize the all texts list that will contain all of your dictionaries of text\n",
    "import re\n",
    "all_texts = []"
   ]
  },
  {
   "cell_type": "markdown",
   "metadata": {},
   "source": [
    "** understanding the text_to_dict function**\n",
    "\n",
    "You don't have to completely understand this function to use it, but you do need to understand its parameters. It takes three parameters:\n",
    "* `title` is a string you need to write inside function's parameters\n",
    "* `text` is the variable that holds the entire text\n",
    "* `poem` True/False parameter --if it is true it will split your text by line (`\\n`) \n",
    " \tIf it is false it will split your text by sentence ('[.?!])\n",
    "\n",
    "If you look at the function you will see that it builds a dictionary with the following fields:\n",
    "* `title` is the title of the text\n",
    "* `text_as_string` is the full text as a string\n",
    "* `lines` is a list of lines or sentences\n",
    "\n",
    "It returns a dictionary with those fields."
   ]
  },
  {
   "cell_type": "code",
   "execution_count": 75,
   "metadata": {},
   "outputs": [],
   "source": [
    "def text_to_dict(title,text,poem):\n",
    "    dict_of_this_text = {}\n",
    "    dict_of_this_text['title'] = title\n",
    "    dict_of_this_text['text_as_string'] = text\n",
    "    if poem:\n",
    "        text_to_list = text.strip().split('\\n')\n",
    "    else:\n",
    "        text_to_list = re.split(r\"[.?!]\",text)\n",
    "    dict_of_this_text['lines'] = text_to_list\n",
    "    return dict_of_this_text\n"
   ]
  },
  {
   "cell_type": "code",
   "execution_count": 76,
   "metadata": {},
   "outputs": [],
   "source": [
    "#please note: the regular expression I am using to split by sentences\n",
    "#is highly flawed, it is borderline impossible to write a regular expression \n",
    "#that splits 100% perfectly by sentence, but feel free to use this."
   ]
  },
  {
   "cell_type": "markdown",
   "metadata": {},
   "source": [
    "## Part One\n",
    "\n",
    "The next five cells are exactly the same. They define five different texts, and then they pass each text through the `text_to_dict` function. And then they add the resulting dictionary to the all_texts list. \n",
    "\n",
    "In the five cells below enter your five selected texts.\n",
    "\n",
    "**You should do no coding at any point** until the very last cell before part two."
   ]
  },
  {
   "cell_type": "code",
   "execution_count": 77,
   "metadata": {},
   "outputs": [],
   "source": [
    "#To change the text, just put a new text between the quotation mark\n",
    "text0 = '''\n",
    "All colors made me happy: even gray.\n",
    "My eyes were such that literally they\n",
    "Took photographs. Whenever I'd permit, \n",
    "Or, with a silent shiver, order it,\n",
    "Whatever in my field of vision dwelt -\n",
    "An indoor scene, hickory leaves, the svelte \n",
    "Stilettos of a frozen stillicide -\n",
    "\n",
    "Was printed on my eyelids' nether side \n",
    "Where it would tarry for an hour or two,\n",
    "And while this lasted all I had to do\n",
    "Was close my eyes to reproduce the leaves,\n",
    "Or indoor scene, or trophies of the eaves.\n",
    "'''\n",
    "#Remember: you need to type the title into the first parameter\n",
    "#place the variable containing the text into the second paramater\n",
    "#If you want to split by line choose True for the third parameter\n",
    "#If you want to split by sentence, choose False\n",
    "transform_it = text_to_dict(\"Pale Fire, Canto I, excerpt\",text0,True) #Vladimir Nabokov\n",
    "all_texts.append(transform_it)"
   ]
  },
  {
   "cell_type": "code",
   "execution_count": 78,
   "metadata": {},
   "outputs": [
    {
     "data": {
      "text/plain": [
       "[{'title': 'Pale Fire, Canto I, excerpt',\n",
       "  'text_as_string': \"\\nAll colors made me happy: even gray.\\nMy eyes were such that literally they\\nTook photographs. Whenever I'd permit, \\nOr, with a silent shiver, order it,\\nWhatever in my field of vision dwelt -\\nAn indoor scene, hickory leaves, the svelte \\nStilettos of a frozen stillicide -\\n\\nWas printed on my eyelids' nether side \\nWhere it would tarry for an hour or two,\\nAnd while this lasted all I had to do\\nWas close my eyes to reproduce the leaves,\\nOr indoor scene, or trophies of the eaves.\\n\",\n",
       "  'lines': ['All colors made me happy: even gray.',\n",
       "   'My eyes were such that literally they',\n",
       "   \"Took photographs. Whenever I'd permit, \",\n",
       "   'Or, with a silent shiver, order it,',\n",
       "   'Whatever in my field of vision dwelt -',\n",
       "   'An indoor scene, hickory leaves, the svelte ',\n",
       "   'Stilettos of a frozen stillicide -',\n",
       "   '',\n",
       "   \"Was printed on my eyelids' nether side \",\n",
       "   'Where it would tarry for an hour or two,',\n",
       "   'And while this lasted all I had to do',\n",
       "   'Was close my eyes to reproduce the leaves,',\n",
       "   'Or indoor scene, or trophies of the eaves.']}]"
      ]
     },
     "execution_count": 78,
     "metadata": {},
     "output_type": "execute_result"
    }
   ],
   "source": [
    "all_texts"
   ]
  },
  {
   "cell_type": "code",
   "execution_count": 79,
   "metadata": {},
   "outputs": [],
   "source": [
    "text1 = '''\n",
    "Which I wish to say is this\n",
    "There is no beginning to an end\n",
    "But there is a beginning and an end\n",
    "To beginning.\n",
    "Why yes of course.\n",
    "Any one can learn that north of course\n",
    "Is not only north but north as north\n",
    "Why were they worried.\n",
    "What I wish to say is this.\n",
    "Yes of course\n",
    "'''\n",
    "transform_it = text_to_dict(\"Stanza XXXVIII\",text1,True) #From Stanzas in Meditation, Gertrude Stein\n",
    "all_texts.append(transform_it)"
   ]
  },
  {
   "cell_type": "code",
   "execution_count": 80,
   "metadata": {},
   "outputs": [],
   "source": [
    "text2 = '''\n",
    "\"Hope\" is the thing with feathers -\n",
    "That perches in the soul -\n",
    "And sings the tune without the words -\n",
    "And never stops at all -\n",
    "Add sweerest - in the Gale - is heard -\n",
    "And sore must be the storm -\n",
    "That could abash the little Bird\n",
    "That kept so many warm -\n",
    "\n",
    "I've heard it in the chillest land -\n",
    "And on the strangest Sea -\n",
    "Yet - never - in Extremity,\n",
    "It asked a crumb - of me.\n",
    "'''\n",
    "transform_it = text_to_dict(\"“Hope” is the thing with feathers (314)\",text2,True) #Emily Dickinson\n",
    "all_texts.append(transform_it)"
   ]
  },
  {
   "cell_type": "code",
   "execution_count": 81,
   "metadata": {},
   "outputs": [
    {
     "data": {
      "text/plain": [
       "'Add sweerest - in the Gale - is heard -'"
      ]
     },
     "execution_count": 81,
     "metadata": {},
     "output_type": "execute_result"
    }
   ],
   "source": [
    "#this will display the 5 line in the 3rd text.\n",
    "all_texts[2]['lines'][4]"
   ]
  },
  {
   "cell_type": "code",
   "execution_count": 82,
   "metadata": {},
   "outputs": [],
   "source": [
    "text3 = '''\n",
    "I don’t call it sleep anymore.\n",
    "I’ll risk losing something new instead—\n",
    "\n",
    "like you lost your rosen moon, shook it loose.\n",
    "\n",
    "But sometimes when I get my horns in a thing—\n",
    "a wonder, a grief, or a line of her—it is a sticky and ruined\n",
    "fruit to unfasten from,\n",
    "\n",
    "despite my trembling.\n",
    "\n",
    "Let me call my anxiety, desire, then.\n",
    "Let me call it, a garden.\n",
    "\n",
    "Maybe this is what Lorca meant\n",
    "when he said, Verde que te quiero verde—\n",
    "\n",
    "because when the shade of night comes\n",
    "I am a field of it, of any worry ready to flower in my chest.\n",
    "\n",
    "My mind in the dark is una bestia, unfocussed,\n",
    "hot. And if not yoked to exhaustion\n",
    "\n",
    "beneath the hip and plow of my lover,\n",
    "then I am another night wandering the desire field—\n",
    "\n",
    "bewildered in its low green glow,\n",
    "\n",
    "belling the meadow between midnight and morning.\n",
    "Insomnia is like spring that way—surprising\n",
    "and many-petalled,\n",
    "\n",
    "the kick and leap of gold grasshoppers at my brow.\n",
    "\n",
    "I am struck in the witched hours of want—\n",
    "\n",
    "I want her green life. Her inside me\n",
    "in a green hour I can’t stop.\n",
    "Green vein in her throat green wing in my mouth\n",
    "\n",
    "green thorn in my eye. I want her like a river goes, bending.\n",
    "Green moving green, moving.\n",
    "\n",
    "Fast as that, this is how it happens—\n",
    "soy una sonámbula.\n",
    "\n",
    "And even though you said today you felt better,\n",
    "and it is so late in this poem, is it okay to be clear,\n",
    "to say, I don’t feel good,\n",
    "\n",
    "to ask you to tell me a story\n",
    "about the sweetgrass you planted—and tell it again\n",
    "or again—\n",
    "\n",
    "until I can smell its sweet smoke,\n",
    "leave this thrashed field, and be smooth?\n",
    "'''\n",
    "transform_it = text_to_dict(\"From the Desire Field\",text3,True) #Natalie Diaz\n",
    "all_texts.append(transform_it)"
   ]
  },
  {
   "cell_type": "code",
   "execution_count": 83,
   "metadata": {},
   "outputs": [],
   "source": [
    "text4 = '''\n",
    "There was an apple tree in the yard—\n",
    "this would have been\n",
    "forty years ago—behind,\n",
    "only meadows. Drifts\n",
    "of crocus in the damp grass.\n",
    "I stood at that window:\n",
    "late April. Spring\n",
    "flowers in the neighbor’s yard.\n",
    "How many times, really, did the tree\n",
    "flower on my birthday,\n",
    "the exact day, not\n",
    "before, not after? Substitution\n",
    "of the immutable\n",
    "for the shifting, the evolving.\n",
    "Substitution of the image\n",
    "for relentless earth. What\n",
    "do I know of this place,\n",
    "the role of the tree for decades\n",
    "taken by a bonsai, voices\n",
    "rising from the tennis courts—\n",
    "Fields. Smell of the tall grass, new cut.\n",
    "As one expects of a lyric poet.\n",
    "We look at the world once, in childhood.\n",
    "The rest is memory.\n",
    "'''\n",
    "transform_it = text_to_dict(\"Nostos\",text4,True) #Louise Gluck \n",
    "all_texts.append(transform_it)"
   ]
  },
  {
   "cell_type": "markdown",
   "metadata": {},
   "source": [
    "Run the two cells below to confirm that first, you only have five texts in the all_texts list, and next, look at the all_texts list to see the dictionary inside it. "
   ]
  },
  {
   "cell_type": "code",
   "execution_count": 84,
   "metadata": {},
   "outputs": [
    {
     "data": {
      "text/plain": [
       "5"
      ]
     },
     "execution_count": 84,
     "metadata": {},
     "output_type": "execute_result"
    }
   ],
   "source": [
    "len(all_texts)"
   ]
  },
  {
   "cell_type": "code",
   "execution_count": 177,
   "metadata": {},
   "outputs": [
    {
     "data": {
      "text/plain": [
       "[{'title': 'Pale Fire, Canto I, excerpt',\n",
       "  'text_as_string': \"\\nAll colors made me happy: even gray.\\nMy eyes were such that literally they\\nTook photographs. Whenever I'd permit, \\nOr, with a silent shiver, order it,\\nWhatever in my field of vision dwelt -\\nAn indoor scene, hickory leaves, the svelte \\nStilettos of a frozen stillicide -\\n\\nWas printed on my eyelids' nether side \\nWhere it would tarry for an hour or two,\\nAnd while this lasted all I had to do\\nWas close my eyes to reproduce the leaves,\\nOr indoor scene, or trophies of the eaves.\\n\",\n",
       "  'lines': ['All colors made me happy: even gray.',\n",
       "   'My eyes were such that literally they',\n",
       "   \"Took photographs. Whenever I'd permit, \",\n",
       "   'Or, with a silent shiver, order it,',\n",
       "   'Whatever in my field of vision dwelt -',\n",
       "   'An indoor scene, hickory leaves, the svelte ',\n",
       "   'Stilettos of a frozen stillicide -',\n",
       "   '',\n",
       "   \"Was printed on my eyelids' nether side \",\n",
       "   'Where it would tarry for an hour or two,',\n",
       "   'And while this lasted all I had to do',\n",
       "   'Was close my eyes to reproduce the leaves,',\n",
       "   'Or indoor scene, or trophies of the eaves.']},\n",
       " {'title': 'Stanza XXXVIII',\n",
       "  'text_as_string': '\\nWhich I wish to say is this\\nThere is no beginning to an end\\nBut there is a beginning and an end\\nTo beginning.\\nWhy yes of course.\\nAny one can learn that north of course\\nIs not only north but north as north\\nWhy were they worried.\\nWhat I wish to say is this.\\nYes of course\\n',\n",
       "  'lines': ['Which I wish to say is this',\n",
       "   'There is no beginning to an end',\n",
       "   'But there is a beginning and an end',\n",
       "   'To beginning.',\n",
       "   'Why yes of course.',\n",
       "   'Any one can learn that north of course',\n",
       "   'Is not only north but north as north',\n",
       "   'Why were they worried.',\n",
       "   'What I wish to say is this.',\n",
       "   'Yes of course']},\n",
       " {'title': '“Hope” is the thing with feathers (314)',\n",
       "  'text_as_string': '\\n\"Hope\" is the thing with feathers -\\nThat perches in the soul -\\nAnd sings the tune without the words -\\nAnd never stops at all -\\nAdd sweerest - in the Gale - is heard -\\nAnd sore must be the storm -\\nThat could abash the little Bird\\nThat kept so many warm -\\n\\nI\\'ve heard it in the chillest land -\\nAnd on the strangest Sea -\\nYet - never - in Extremity,\\nIt asked a crumb - of me.\\n',\n",
       "  'lines': ['\"Hope\" is the thing with feathers -',\n",
       "   'That perches in the soul -',\n",
       "   'And sings the tune without the words -',\n",
       "   'And never stops at all -',\n",
       "   'Add sweerest - in the Gale - is heard -',\n",
       "   'And sore must be the storm -',\n",
       "   'That could abash the little Bird',\n",
       "   'That kept so many warm -',\n",
       "   '',\n",
       "   \"I've heard it in the chillest land -\",\n",
       "   'And on the strangest Sea -',\n",
       "   'Yet - never - in Extremity,',\n",
       "   'It asked a crumb - of me.']},\n",
       " {'title': 'From the Desire Field',\n",
       "  'text_as_string': '\\nI don’t call it sleep anymore.\\nI’ll risk losing something new instead—\\n\\nlike you lost your rosen moon, shook it loose.\\n\\nBut sometimes when I get my horns in a thing—\\na wonder, a grief, or a line of her—it is a sticky and ruined\\nfruit to unfasten from,\\n\\ndespite my trembling.\\n\\nLet me call my anxiety, desire, then.\\nLet me call it, a garden.\\n\\nMaybe this is what Lorca meant\\nwhen he said, Verde que te quiero verde—\\n\\nbecause when the shade of night comes\\nI am a field of it, of any worry ready to flower in my chest.\\n\\nMy mind in the dark is una bestia, unfocussed,\\nhot. And if not yoked to exhaustion\\n\\nbeneath the hip and plow of my lover,\\nthen I am another night wandering the desire field—\\n\\nbewildered in its low green glow,\\n\\nbelling the meadow between midnight and morning.\\nInsomnia is like spring that way—surprising\\nand many-petalled,\\n\\nthe kick and leap of gold grasshoppers at my brow.\\n\\nI am struck in the witched hours of want—\\n\\nI want her green life. Her inside me\\nin a green hour I can’t stop.\\nGreen vein in her throat green wing in my mouth\\n\\ngreen thorn in my eye. I want her like a river goes, bending.\\nGreen moving green, moving.\\n\\nFast as that, this is how it happens—\\nsoy una sonámbula.\\n\\nAnd even though you said today you felt better,\\nand it is so late in this poem, is it okay to be clear,\\nto say, I don’t feel good,\\n\\nto ask you to tell me a story\\nabout the sweetgrass you planted—and tell it again\\nor again—\\n\\nuntil I can smell its sweet smoke,\\nleave this thrashed field, and be smooth?\\n',\n",
       "  'lines': ['I don’t call it sleep anymore.',\n",
       "   'I’ll risk losing something new instead—',\n",
       "   '',\n",
       "   'like you lost your rosen moon, shook it loose.',\n",
       "   '',\n",
       "   'But sometimes when I get my horns in a thing—',\n",
       "   'a wonder, a grief, or a line of her—it is a sticky and ruined',\n",
       "   'fruit to unfasten from,',\n",
       "   '',\n",
       "   'despite my trembling.',\n",
       "   '',\n",
       "   'Let me call my anxiety, desire, then.',\n",
       "   'Let me call it, a garden.',\n",
       "   '',\n",
       "   'Maybe this is what Lorca meant',\n",
       "   'when he said, Verde que te quiero verde—',\n",
       "   '',\n",
       "   'because when the shade of night comes',\n",
       "   'I am a field of it, of any worry ready to flower in my chest.',\n",
       "   '',\n",
       "   'My mind in the dark is una bestia, unfocussed,',\n",
       "   'hot. And if not yoked to exhaustion',\n",
       "   '',\n",
       "   'beneath the hip and plow of my lover,',\n",
       "   'then I am another night wandering the desire field—',\n",
       "   '',\n",
       "   'bewildered in its low green glow,',\n",
       "   '',\n",
       "   'belling the meadow between midnight and morning.',\n",
       "   'Insomnia is like spring that way—surprising',\n",
       "   'and many-petalled,',\n",
       "   '',\n",
       "   'the kick and leap of gold grasshoppers at my brow.',\n",
       "   '',\n",
       "   'I am struck in the witched hours of want—',\n",
       "   '',\n",
       "   'I want her green life. Her inside me',\n",
       "   'in a green hour I can’t stop.',\n",
       "   'Green vein in her throat green wing in my mouth',\n",
       "   '',\n",
       "   'green thorn in my eye. I want her like a river goes, bending.',\n",
       "   'Green moving green, moving.',\n",
       "   '',\n",
       "   'Fast as that, this is how it happens—',\n",
       "   'soy una sonámbula.',\n",
       "   '',\n",
       "   'And even though you said today you felt better,',\n",
       "   'and it is so late in this poem, is it okay to be clear,',\n",
       "   'to say, I don’t feel good,',\n",
       "   '',\n",
       "   'to ask you to tell me a story',\n",
       "   'about the sweetgrass you planted—and tell it again',\n",
       "   'or again—',\n",
       "   '',\n",
       "   'until I can smell its sweet smoke,',\n",
       "   'leave this thrashed field, and be smooth?']},\n",
       " {'title': 'Nostos',\n",
       "  'text_as_string': '\\nThere was an apple tree in the yard—\\nthis would have been\\nforty years ago—behind,\\nonly meadows. Drifts\\nof crocus in the damp grass.\\nI stood at that window:\\nlate April. Spring\\nflowers in the neighbor’s yard.\\nHow many times, really, did the tree\\nflower on my birthday,\\nthe exact day, not\\nbefore, not after? Substitution\\nof the immutable\\nfor the shifting, the evolving.\\nSubstitution of the image\\nfor relentless earth. What\\ndo I know of this place,\\nthe role of the tree for decades\\ntaken by a bonsai, voices\\nrising from the tennis courts—\\nFields. Smell of the tall grass, new cut.\\nAs one expects of a lyric poet.\\nWe look at the world once, in childhood.\\nThe rest is memory.\\n',\n",
       "  'lines': ['There was an apple tree in the yard—',\n",
       "   'this would have been',\n",
       "   'forty years ago—behind,',\n",
       "   'only meadows. Drifts',\n",
       "   'of crocus in the damp grass.',\n",
       "   'I stood at that window:',\n",
       "   'late April. Spring',\n",
       "   'flowers in the neighbor’s yard.',\n",
       "   'How many times, really, did the tree',\n",
       "   'flower on my birthday,',\n",
       "   'the exact day, not',\n",
       "   'before, not after? Substitution',\n",
       "   'of the immutable',\n",
       "   'for the shifting, the evolving.',\n",
       "   'Substitution of the image',\n",
       "   'for relentless earth. What',\n",
       "   'do I know of this place,',\n",
       "   'the role of the tree for decades',\n",
       "   'taken by a bonsai, voices',\n",
       "   'rising from the tennis courts—',\n",
       "   'Fields. Smell of the tall grass, new cut.',\n",
       "   'As one expects of a lyric poet.',\n",
       "   'We look at the world once, in childhood.',\n",
       "   'The rest is memory.']}]"
      ]
     },
     "execution_count": 177,
     "metadata": {},
     "output_type": "execute_result"
    }
   ],
   "source": [
    "all_texts"
   ]
  },
  {
   "cell_type": "markdown",
   "metadata": {},
   "source": [
    "In the cell below, loop through all_texts and print out the title of each text. (This is the only code you need to write for Part One.)"
   ]
  },
  {
   "cell_type": "code",
   "execution_count": 86,
   "metadata": {},
   "outputs": [
    {
     "name": "stdout",
     "output_type": "stream",
     "text": [
      "Pale Fire, Canto I, excerpt\n",
      "Stanza XXXVIII\n",
      "“Hope” is the thing with feathers (314)\n",
      "From the Desire Field\n",
      "Nostos\n"
     ]
    }
   ],
   "source": [
    "for text in all_texts:\n",
    "    print(text['title'])"
   ]
  },
  {
   "cell_type": "markdown",
   "metadata": {},
   "source": [
    "## Part Two:  searching within lists and dictionaries\n",
    "In this part, we will be searching through each text and printing out a desired result. The searches, including loops and printing should all be defined in the function. The second cell should just have a function call that executes the function. I have written an example function and call for the first search. For each function that you write you should copy the function from the previous question and modify it so what does what I ask for.\n",
    "\n",
    "For the first six functions, there are no parameters passed to the functions--the calls will just execute the function. Go step-by-step and take your time."
   ]
  },
  {
   "cell_type": "code",
   "execution_count": 87,
   "metadata": {},
   "outputs": [],
   "source": [
    "def get_lengths():\n",
    "    for text in all_texts:\n",
    "        print(text['title'])\n",
    "        print(len(text['text_as_string']))\n",
    "        print(\"------------\")"
   ]
  },
  {
   "cell_type": "code",
   "execution_count": 88,
   "metadata": {},
   "outputs": [
    {
     "name": "stdout",
     "output_type": "stream",
     "text": [
      "Pale Fire, Canto I, excerpt\n",
      "477\n",
      "------------\n",
      "Stanza XXXVIII\n",
      "271\n",
      "------------\n",
      "“Hope” is the thing with feathers (314)\n",
      "374\n",
      "------------\n",
      "From the Desire Field\n",
      "1500\n",
      "------------\n",
      "Nostos\n",
      "671\n",
      "------------\n"
     ]
    }
   ],
   "source": [
    "get_lengths()"
   ]
  },
  {
   "cell_type": "markdown",
   "metadata": {},
   "source": [
    "Question 1\n",
    "Now write a function that gets the **line count for each poem** (or sentence count for each piece of prose). This function is going to be very similar to the last one. Instead of accessing the whole text via text['text_as_string'] which is a string, you need to access the list of lines/sentences and get the length of that list. Everything else should be the same."
   ]
  },
  {
   "cell_type": "code",
   "execution_count": 89,
   "metadata": {},
   "outputs": [],
   "source": [
    "def get_line_count():\n",
    "    for text in all_texts:\n",
    "        print(text['title'])\n",
    "        print(len(text['lines']))\n",
    "        print(\"------------\")"
   ]
  },
  {
   "cell_type": "code",
   "execution_count": 90,
   "metadata": {},
   "outputs": [
    {
     "name": "stdout",
     "output_type": "stream",
     "text": [
      "Pale Fire, Canto I, excerpt\n",
      "13\n",
      "------------\n",
      "Stanza XXXVIII\n",
      "10\n",
      "------------\n",
      "“Hope” is the thing with feathers (314)\n",
      "13\n",
      "------------\n",
      "From the Desire Field\n",
      "56\n",
      "------------\n",
      "Nostos\n",
      "24\n",
      "------------\n"
     ]
    }
   ],
   "source": [
    "get_line_count()"
   ]
  },
  {
   "cell_type": "markdown",
   "metadata": {},
   "source": [
    "Question 2\n",
    "Now write a function that prints out **one random line or sentence from each text**. Again, this function will look much the same as the last ones, but instead of getting numbers you need to get actual lines. I have included the necessary import and an example of how to get random integers. Basically, for each text you need to get one element from the list of lines/ sentences with a random number between 0 and the length of the list."
   ]
  },
  {
   "cell_type": "code",
   "execution_count": 109,
   "metadata": {},
   "outputs": [],
   "source": [
    "from random import randint\n",
    "#Write your function here name it show_random_lines()\n",
    "\n",
    "def show_random_lines():\n",
    "    for text in all_texts:\n",
    "        line_num = randint(0, len(text['lines'])-1)\n",
    "        print(text['title'])\n",
    "        print(text['lines'][line_num])\n",
    "        print(\"------------\")\n",
    "\n",
    "#This should be inside the inner loop \n",
    "#so you get a fresh random number for each text\n",
    "#And it should not be from 0 to 9, but 0 to what?\n",
    "#Keep in mind that the range (0,9) give you any number \n",
    "#from 0 to 9 including both 0 and 9.\n",
    "random_num = randint(0, 9)"
   ]
  },
  {
   "cell_type": "code",
   "execution_count": 110,
   "metadata": {},
   "outputs": [
    {
     "name": "stdout",
     "output_type": "stream",
     "text": [
      "Pale Fire, Canto I, excerpt\n",
      "Was close my eyes to reproduce the leaves,\n",
      "------------\n",
      "Stanza XXXVIII\n",
      "Yes of course\n",
      "------------\n",
      "“Hope” is the thing with feathers (314)\n",
      "That could abash the little Bird\n",
      "------------\n",
      "From the Desire Field\n",
      "like you lost your rosen moon, shook it loose.\n",
      "------------\n",
      "Nostos\n",
      "of crocus in the damp grass.\n",
      "------------\n"
     ]
    }
   ],
   "source": [
    "show_random_lines()"
   ]
  },
  {
   "cell_type": "markdown",
   "metadata": {},
   "source": [
    "Question 3\n",
    "This is a little bit different--instead of printing out something from each text, please **print the entire text of the longest text**. Remember in the first function, I printed out the length of each text. Well, you need to test for the longest text as you loop through and when you're done looping through, print out the one that is longest.\n",
    "\n",
    "**Major hints!**: To do this you will need two **tracking variables** set before the loop runs: A numerical one that tracks the longest length (the number), and string variable remembers the actual text that has that length.\n",
    "\n",
    "Like this: longest_length = 0 and longest_text = \"\"\n",
    "\n",
    "When you loop through, you need to test if each text was longer than the last one, and if it is longer--you update longest_length and longest_text to reflect the highest length, and the actual text. When the loop is over you then print out that longest_text string."
   ]
  },
  {
   "cell_type": "code",
   "execution_count": 111,
   "metadata": {},
   "outputs": [],
   "source": [
    "#Write your function here, name it longest_text()\n",
    "def longest_text():\n",
    "    longest = \"\"\n",
    "    for text in all_texts:\n",
    "        if len(text['text_as_string']) > len(longest):\n",
    "            longest = text['text_as_string']\n",
    "    print(longest)"
   ]
  },
  {
   "cell_type": "code",
   "execution_count": 112,
   "metadata": {},
   "outputs": [
    {
     "name": "stdout",
     "output_type": "stream",
     "text": [
      "\n",
      "I don’t call it sleep anymore.\n",
      "I’ll risk losing something new instead—\n",
      "\n",
      "like you lost your rosen moon, shook it loose.\n",
      "\n",
      "But sometimes when I get my horns in a thing—\n",
      "a wonder, a grief, or a line of her—it is a sticky and ruined\n",
      "fruit to unfasten from,\n",
      "\n",
      "despite my trembling.\n",
      "\n",
      "Let me call my anxiety, desire, then.\n",
      "Let me call it, a garden.\n",
      "\n",
      "Maybe this is what Lorca meant\n",
      "when he said, Verde que te quiero verde—\n",
      "\n",
      "because when the shade of night comes\n",
      "I am a field of it, of any worry ready to flower in my chest.\n",
      "\n",
      "My mind in the dark is una bestia, unfocussed,\n",
      "hot. And if not yoked to exhaustion\n",
      "\n",
      "beneath the hip and plow of my lover,\n",
      "then I am another night wandering the desire field—\n",
      "\n",
      "bewildered in its low green glow,\n",
      "\n",
      "belling the meadow between midnight and morning.\n",
      "Insomnia is like spring that way—surprising\n",
      "and many-petalled,\n",
      "\n",
      "the kick and leap of gold grasshoppers at my brow.\n",
      "\n",
      "I am struck in the witched hours of want—\n",
      "\n",
      "I want her green life. Her inside me\n",
      "in a green hour I can’t stop.\n",
      "Green vein in her throat green wing in my mouth\n",
      "\n",
      "green thorn in my eye. I want her like a river goes, bending.\n",
      "Green moving green, moving.\n",
      "\n",
      "Fast as that, this is how it happens—\n",
      "soy una sonámbula.\n",
      "\n",
      "And even though you said today you felt better,\n",
      "and it is so late in this poem, is it okay to be clear,\n",
      "to say, I don’t feel good,\n",
      "\n",
      "to ask you to tell me a story\n",
      "about the sweetgrass you planted—and tell it again\n",
      "or again—\n",
      "\n",
      "until I can smell its sweet smoke,\n",
      "leave this thrashed field, and be smooth?\n",
      "\n"
     ]
    }
   ],
   "source": [
    "longest_text()"
   ]
  },
  {
   "cell_type": "markdown",
   "metadata": {},
   "source": [
    "Question 4\n",
    "This is kind of a combination of the first two functions--write a function that gets the **average line/sentence length for each text**."
   ]
  },
  {
   "cell_type": "code",
   "execution_count": 118,
   "metadata": {},
   "outputs": [],
   "source": [
    "def average_line_length():\n",
    "    for text in all_texts:\n",
    "        line_length_total = 0\n",
    "        for line in text['lines']:\n",
    "            line_length_total += len(line)\n",
    "        print(text['title'])\n",
    "        print(round(line_length_total / len(text['lines'])))\n",
    "        print(\"------------\")"
   ]
  },
  {
   "cell_type": "code",
   "execution_count": 119,
   "metadata": {},
   "outputs": [
    {
     "name": "stdout",
     "output_type": "stream",
     "text": [
      "Pale Fire, Canto I, excerpt\n",
      "36\n",
      "------------\n",
      "Stanza XXXVIII\n",
      "26\n",
      "------------\n",
      "“Hope” is the thing with feathers (314)\n",
      "28\n",
      "------------\n",
      "From the Desire Field\n",
      "26\n",
      "------------\n",
      "Nostos\n",
      "27\n",
      "------------\n"
     ]
    }
   ],
   "source": [
    "average_line_length()"
   ]
  },
  {
   "cell_type": "markdown",
   "metadata": {},
   "source": [
    "Question 5\n",
    "**Print the longest line/sentence in each text**. \n",
    "This is similar to question 3--but your two tracking variables (longest_length and longest_line) need to be placed right before the inside loop--and then you print the lines each time the inside loop ends."
   ]
  },
  {
   "cell_type": "code",
   "execution_count": 126,
   "metadata": {},
   "outputs": [],
   "source": [
    "#Write your function here\n",
    "def longest_line_in_each():\n",
    "    for text in all_texts:\n",
    "        longest_line = \"\"\n",
    "        for line in text['lines']:\n",
    "            if len(line) > len(longest_line):\n",
    "                longest_line = line\n",
    "        print(text['title'])\n",
    "        print(longest_line)\n",
    "        print('------------')\n",
    "#could also use max\n",
    "#for text in all_texts:\n",
    "#    print(max(text['lines'], key =len))"
   ]
  },
  {
   "cell_type": "code",
   "execution_count": 127,
   "metadata": {},
   "outputs": [
    {
     "name": "stdout",
     "output_type": "stream",
     "text": [
      "Pale Fire, Canto I, excerpt\n",
      "An indoor scene, hickory leaves, the svelte \n",
      "------------\n",
      "Stanza XXXVIII\n",
      "Any one can learn that north of course\n",
      "------------\n",
      "“Hope” is the thing with feathers (314)\n",
      "Add sweerest - in the Gale - is heard -\n",
      "------------\n",
      "From the Desire Field\n",
      "a wonder, a grief, or a line of her—it is a sticky and ruined\n",
      "------------\n",
      "Nostos\n",
      "Fields. Smell of the tall grass, new cut.\n",
      "------------\n"
     ]
    }
   ],
   "source": [
    "longest_line_in_each()"
   ]
  },
  {
   "cell_type": "markdown",
   "metadata": {},
   "source": [
    "Question 6\n",
    "**Print the shortest single line/sentence out of all of the texts that is greater than zero**\n",
    "This is the tricky-ish: You need to place the tracking variables outside the loop (like question 4, but the loop through all of the lines, test for the shortest one (that is greater than 0)."
   ]
  },
  {
   "cell_type": "code",
   "execution_count": 164,
   "metadata": {},
   "outputs": [],
   "source": [
    "def shortest_of_all_lines():\n",
    "    for text in all_texts:\n",
    "        shortest_line = text['lines'][0]\n",
    "        for line in text['lines']:\n",
    "            if len(line) < len(shortest_line): #could have done 'and' but spelled out with the >0\n",
    "                if len(line) > 0:\n",
    "                    shortest_line = line\n",
    "        print(text['title'])\n",
    "        print(shortest_line)\n",
    "        print('------------') "
   ]
  },
  {
   "cell_type": "code",
   "execution_count": 165,
   "metadata": {},
   "outputs": [
    {
     "name": "stdout",
     "output_type": "stream",
     "text": [
      "Pale Fire, Canto I, excerpt\n",
      "Stilettos of a frozen stillicide -\n",
      "------------\n",
      "Stanza XXXVIII\n",
      "To beginning.\n",
      "------------\n",
      "“Hope” is the thing with feathers (314)\n",
      "And never stops at all -\n",
      "------------\n",
      "From the Desire Field\n",
      "or again—\n",
      "------------\n",
      "Nostos\n",
      "of the immutable\n",
      "------------\n"
     ]
    }
   ],
   "source": [
    "shortest_of_all_lines()"
   ]
  },
  {
   "cell_type": "markdown",
   "metadata": {},
   "source": [
    "## searching with regular expressions\n",
    "In the functions below you will search all the texts using regular expressions. The first few of these functions should not be too challenging--you just need to adjust the regular expression inside the function. At points it gets a little more complex as you have to control the looping through the lists and dictionaries."
   ]
  },
  {
   "cell_type": "code",
   "execution_count": 167,
   "metadata": {},
   "outputs": [],
   "source": [
    "def get_this_word(word):\n",
    "    my_regex = r\"\\b\" + word + r\"\\b\"\n",
    "    for text in all_texts:\n",
    "        result = [line for line in text['lines'] if re.search(my_regex, line, re.IGNORECASE)]\n",
    "        if len(result) > 0:\n",
    "            print(text['title'])\n",
    "            [print(line) for line in result]\n",
    "            print(\"------------\")\n",
    "            "
   ]
  },
  {
   "cell_type": "code",
   "execution_count": 168,
   "metadata": {},
   "outputs": [
    {
     "name": "stdout",
     "output_type": "stream",
     "text": [
      "Pale Fire, Canto I, excerpt\n",
      "An indoor scene, hickory leaves, the svelte \n",
      "Was close my eyes to reproduce the leaves,\n",
      "Or indoor scene, or trophies of the eaves.\n",
      "------------\n",
      "“Hope” is the thing with feathers (314)\n",
      "\"Hope\" is the thing with feathers -\n",
      "That perches in the soul -\n",
      "And sings the tune without the words -\n",
      "Add sweerest - in the Gale - is heard -\n",
      "And sore must be the storm -\n",
      "That could abash the little Bird\n",
      "I've heard it in the chillest land -\n",
      "And on the strangest Sea -\n",
      "------------\n",
      "From the Desire Field\n",
      "because when the shade of night comes\n",
      "My mind in the dark is una bestia, unfocussed,\n",
      "beneath the hip and plow of my lover,\n",
      "then I am another night wandering the desire field—\n",
      "belling the meadow between midnight and morning.\n",
      "the kick and leap of gold grasshoppers at my brow.\n",
      "I am struck in the witched hours of want—\n",
      "about the sweetgrass you planted—and tell it again\n",
      "------------\n",
      "Nostos\n",
      "There was an apple tree in the yard—\n",
      "of crocus in the damp grass.\n",
      "flowers in the neighbor’s yard.\n",
      "How many times, really, did the tree\n",
      "the exact day, not\n",
      "of the immutable\n",
      "for the shifting, the evolving.\n",
      "Substitution of the image\n",
      "the role of the tree for decades\n",
      "rising from the tennis courts—\n",
      "Fields. Smell of the tall grass, new cut.\n",
      "We look at the world once, in childhood.\n",
      "The rest is memory.\n",
      "------------\n"
     ]
    }
   ],
   "source": [
    "get_this_word('the')"
   ]
  },
  {
   "cell_type": "markdown",
   "metadata": {},
   "source": [
    "Question 7\n",
    "Print out the lines that **start** with the word entered.  You just need copy the function above and then adjust the regular expression a bit."
   ]
  },
  {
   "cell_type": "code",
   "execution_count": 169,
   "metadata": {},
   "outputs": [],
   "source": [
    "def line_starts_with(word):\n",
    "    my_regex = r\"^\" + word + r\"\\b\"\n",
    "    for text in all_texts:\n",
    "        result = [line for line in text['lines'] if re.search(my_regex, line, re.IGNORECASE)]\n",
    "        if len(result) > 0:\n",
    "            print(text['title'])\n",
    "            [print(line) for line in result]\n",
    "            print(\"------------\")"
   ]
  },
  {
   "cell_type": "code",
   "execution_count": 181,
   "metadata": {
    "scrolled": true
   },
   "outputs": [
    {
     "name": "stdout",
     "output_type": "stream",
     "text": [
      "Pale Fire, Canto I, excerpt\n",
      "And while this lasted all I had to do\n",
      "------------\n",
      "“Hope” is the thing with feathers (314)\n",
      "And sings the tune without the words -\n",
      "And never stops at all -\n",
      "And sore must be the storm -\n",
      "And on the strangest Sea -\n",
      "------------\n",
      "From the Desire Field\n",
      "and many-petalled,\n",
      "And even though you said today you felt better,\n",
      "and it is so late in this poem, is it okay to be clear,\n",
      "------------\n"
     ]
    }
   ],
   "source": [
    "line_starts_with('And')"
   ]
  },
  {
   "cell_type": "markdown",
   "metadata": {},
   "source": [
    "Question 8\n",
    "Print out the lines that **end** with the word entered.  Again you just need to adjust the regular expression here."
   ]
  },
  {
   "cell_type": "code",
   "execution_count": 186,
   "metadata": {},
   "outputs": [],
   "source": [
    "def line_ends_with(word):\n",
    "    my_regex = r\".*\" + word + r\"[.,?]?$\" #could just do \\W to be more all encompassing\n",
    "    for text in all_texts:\n",
    "        result = [line for line in text['lines'] if re.search(my_regex, line, re.IGNORECASE)]\n",
    "        if len(result) > 0:\n",
    "            print(text['title'])\n",
    "            [print(line) for line in result]\n",
    "            print(\"------------\")"
   ]
  },
  {
   "cell_type": "code",
   "execution_count": 192,
   "metadata": {},
   "outputs": [
    {
     "name": "stdout",
     "output_type": "stream",
     "text": [
      "Nostos\n",
      "The rest is memory.\n",
      "------------\n"
     ]
    }
   ],
   "source": [
    "line_ends_with('memory')"
   ]
  },
  {
   "cell_type": "markdown",
   "metadata": {},
   "source": [
    "Question 9\n",
    "Print out **how many times the word was found in each text.** In this case, instead of the list comprehension, you want to run a re.findall() on the string of the text (not the list) and then count the number of elements in the list of results.\n",
    "\n",
    "Hint: use the original function at the beginning of this section, and make the proper adjustments to the variable \"result\""
   ]
  },
  {
   "cell_type": "code",
   "execution_count": 225,
   "metadata": {},
   "outputs": [],
   "source": [
    "def how_many_times(word):\n",
    "    my_regex = r\"\\b\" + word + r\"\\b\"\n",
    "    for text in all_texts:\n",
    "        result = re.findall(my_regex, text['text_as_string'], re.IGNORECASE)\n",
    "        if len(result) > 0:\n",
    "            print(text['title'])\n",
    "            print(len(result))\n",
    "            print(\"------------\")"
   ]
  },
  {
   "cell_type": "code",
   "execution_count": 226,
   "metadata": {},
   "outputs": [
    {
     "name": "stdout",
     "output_type": "stream",
     "text": [
      "Pale Fire, Canto I, excerpt\n",
      "3\n",
      "------------\n",
      "“Hope” is the thing with feathers (314)\n",
      "9\n",
      "------------\n",
      "From the Desire Field\n",
      "8\n",
      "------------\n",
      "Nostos\n",
      "15\n",
      "------------\n"
     ]
    }
   ],
   "source": [
    "how_many_times('the')"
   ]
  },
  {
   "cell_type": "markdown",
   "metadata": {},
   "source": [
    "Question 10\n",
    "Print out **the text that has the highest occurrence of the word** you searched for. This is similar to the last function, but here you need tracking variables like you had in Question 3.\n"
   ]
  },
  {
   "cell_type": "code",
   "execution_count": 241,
   "metadata": {},
   "outputs": [],
   "source": [
    "def text_with_most_occurance_of(word):\n",
    "    my_regex = r\"\\b\" + word + r\"\\b\"\n",
    "    most_matches = []\n",
    "    for text in all_texts:\n",
    "        result = re.findall(my_regex, text['text_as_string'], re.IGNORECASE)\n",
    "        if len(result) > len(most_matches):\n",
    "            most_matches = result\n",
    "            print(text['title'])\n",
    "            print(text['text_as_string'])\n",
    "            print(\"------------\")"
   ]
  },
  {
   "cell_type": "code",
   "execution_count": 244,
   "metadata": {},
   "outputs": [
    {
     "name": "stdout",
     "output_type": "stream",
     "text": [
      "“Hope” is the thing with feathers (314)\n",
      "\n",
      "\"Hope\" is the thing with feathers -\n",
      "That perches in the soul -\n",
      "And sings the tune without the words -\n",
      "And never stops at all -\n",
      "Add sweerest - in the Gale - is heard -\n",
      "And sore must be the storm -\n",
      "That could abash the little Bird\n",
      "That kept so many warm -\n",
      "\n",
      "I've heard it in the chillest land -\n",
      "And on the strangest Sea -\n",
      "Yet - never - in Extremity,\n",
      "It asked a crumb - of me.\n",
      "\n",
      "------------\n"
     ]
    }
   ],
   "source": [
    "text_with_most_occurance_of('feathers')"
   ]
  },
  {
   "cell_type": "markdown",
   "metadata": {},
   "source": [
    "Question 11\n",
    "Print out **lines containing words of the length asked**. We are sort of back to basics here, you just need to modify the regular expression of the first function (get_this_word(word)) so that it can take a number parameter for the length of characters in a word."
   ]
  },
  {
   "cell_type": "code",
   "execution_count": 267,
   "metadata": {},
   "outputs": [],
   "source": [
    "def lines_with_words_this_length(num):\n",
    "    my_regex = r\"\\b\\w{\" + num + r\"}\\b\" #[\\w-'] to get dashes and apostrophes\n",
    "    print(my_regex)\n",
    "    for text in all_texts:\n",
    "        result = [line for line in text['lines'] if re.search(my_regex, line, re.IGNORECASE)]\n",
    "        print(result)\n",
    "        if len(result) > 0:\n",
    "            #print(text['title'])\n",
    "            #[print(line) for line in result]\n",
    "            print(\"------------\")"
   ]
  },
  {
   "cell_type": "code",
   "execution_count": 269,
   "metadata": {},
   "outputs": [
    {
     "name": "stdout",
     "output_type": "stream",
     "text": [
      "\\b\\w{10}\\b\n",
      "['Stilettos of a frozen stillicide -']\n",
      "------------\n",
      "[]\n",
      "[]\n",
      "['My mind in the dark is una bestia, unfocussed,', 'hot. And if not yoked to exhaustion', 'bewildered in its low green glow,', 'Insomnia is like spring that way—surprising', 'about the sweetgrass you planted—and tell it again']\n",
      "------------\n",
      "['for relentless earth. What']\n",
      "------------\n"
     ]
    }
   ],
   "source": [
    "lines_with_words_this_length('10')"
   ]
  },
  {
   "cell_type": "markdown",
   "metadata": {
    "collapsed": true
   },
   "source": [
    "**Final question:** in this cell, describe two functions that you would like to write, not ones that you're able to write, but ones you think would be useful or interesting or fun, or might bring greater insight into a corpus of text. If you feel like trying to write it, go-ahead!"
   ]
  },
  {
   "cell_type": "code",
   "execution_count": null,
   "metadata": {},
   "outputs": [],
   "source": [
    "#A function that identifies the rhyme scheme of a poem, or maybe just whether a poem rhymes\n",
    "#A function that says whether a poem is a sonnet or not"
   ]
  },
  {
   "cell_type": "markdown",
   "metadata": {
    "collapsed": true
   },
   "source": [
    "**Bonus question:** Write a function that counts word frequency: that is, it returns a dictionary with each unique word and its count, sorted by the most frequent. Note, this is highly stack-overflowable -- Python has some built in ways of doing this. If you're doing this, you might as well try to do it on your own. But it's up to you!"
   ]
  }
 ],
 "metadata": {
  "kernelspec": {
   "display_name": "Python 3 (ipykernel)",
   "language": "python",
   "name": "python3"
  },
  "language_info": {
   "codemirror_mode": {
    "name": "ipython",
    "version": 3
   },
   "file_extension": ".py",
   "mimetype": "text/x-python",
   "name": "python",
   "nbconvert_exporter": "python",
   "pygments_lexer": "ipython3",
   "version": "3.10.0"
  }
 },
 "nbformat": 4,
 "nbformat_minor": 2
}
